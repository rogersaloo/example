{
 "cells": [
  {
   "cell_type": "code",
   "execution_count": 1,
   "metadata": {},
   "outputs": [],
   "source": [
    "import numpy as np\n",
    "from sklearn.datasets import load_iris\n",
    "from sklearn.linear_model import Perceptron\n"
   ]
  },
  {
   "cell_type": "code",
   "execution_count": 2,
   "metadata": {},
   "outputs": [],
   "source": [
    "iris = load_iris()\n",
    "X = iris.data[:, (2, 3)] # petal length, petal width\n",
    "y = (iris.target == 0).astype(np.int) # Iris setosa?"
   ]
  },
  {
   "cell_type": "code",
   "execution_count": 3,
   "metadata": {},
   "outputs": [
    {
     "data": {
      "text/plain": [
       "Perceptron()"
      ]
     },
     "execution_count": 3,
     "metadata": {},
     "output_type": "execute_result"
    }
   ],
   "source": [
    "per_clf = Perceptron()\n",
    "per_clf.fit(X, y)"
   ]
  },
  {
   "cell_type": "code",
   "execution_count": 4,
   "metadata": {},
   "outputs": [],
   "source": [
    "y_pred = per_clf.predict([[2, 0.5]])"
   ]
  },
  {
   "cell_type": "code",
   "execution_count": 5,
   "metadata": {},
   "outputs": [
    {
     "name": "stdout",
     "output_type": "stream",
     "text": [
      "[0]\n"
     ]
    }
   ],
   "source": [
    "\n",
    "print(y_pred)"
   ]
  },
  {
   "cell_type": "code",
   "execution_count": 6,
   "metadata": {},
   "outputs": [],
   "source": [
    "import tensorflow as tf\n"
   ]
  },
  {
   "cell_type": "code",
   "execution_count": 7,
   "metadata": {},
   "outputs": [
    {
     "data": {
      "text/plain": [
       "'2.3.0'"
      ]
     },
     "execution_count": 7,
     "metadata": {},
     "output_type": "execute_result"
    }
   ],
   "source": [
    "from tensorflow import keras\n",
    "tf.__version__\n"
   ]
  },
  {
   "cell_type": "code",
   "execution_count": 8,
   "metadata": {},
   "outputs": [
    {
     "data": {
      "text/plain": [
       "'2.4.0'"
      ]
     },
     "execution_count": 8,
     "metadata": {},
     "output_type": "execute_result"
    }
   ],
   "source": [
    "keras.__version__"
   ]
  },
  {
   "cell_type": "code",
   "execution_count": 9,
   "metadata": {},
   "outputs": [],
   "source": [
    "fashion_mnist = keras.datasets.fashion_mnist\n",
    "(X_train_full, y_train_full), (X_test, y_test) = fashion_mnist.load_data()"
   ]
  },
  {
   "cell_type": "code",
   "execution_count": 10,
   "metadata": {},
   "outputs": [
    {
     "data": {
      "text/plain": [
       "(60000, 28, 28)"
      ]
     },
     "execution_count": 10,
     "metadata": {},
     "output_type": "execute_result"
    }
   ],
   "source": [
    " X_train_full.shape\n"
   ]
  },
  {
   "cell_type": "code",
   "execution_count": 11,
   "metadata": {},
   "outputs": [
    {
     "data": {
      "text/plain": [
       "dtype('uint8')"
      ]
     },
     "execution_count": 11,
     "metadata": {},
     "output_type": "execute_result"
    }
   ],
   "source": [
    " X_train_full.dtype"
   ]
  },
  {
   "cell_type": "code",
   "execution_count": 12,
   "metadata": {},
   "outputs": [
    {
     "data": {
      "text/plain": [
       "(60000,)"
      ]
     },
     "execution_count": 12,
     "metadata": {},
     "output_type": "execute_result"
    }
   ],
   "source": [
    "y_train_full.shape"
   ]
  },
  {
   "cell_type": "code",
   "execution_count": 13,
   "metadata": {},
   "outputs": [
    {
     "data": {
      "text/plain": [
       "dtype('uint8')"
      ]
     },
     "execution_count": 13,
     "metadata": {},
     "output_type": "execute_result"
    }
   ],
   "source": [
    "y_train_full.dtype"
   ]
  },
  {
   "cell_type": "code",
   "execution_count": 14,
   "metadata": {},
   "outputs": [
    {
     "data": {
      "text/plain": [
       "(10000, 28, 28)"
      ]
     },
     "execution_count": 14,
     "metadata": {},
     "output_type": "execute_result"
    }
   ],
   "source": [
    " X_test.shape\n"
   ]
  },
  {
   "cell_type": "code",
   "execution_count": 15,
   "metadata": {},
   "outputs": [
    {
     "data": {
      "text/plain": [
       "dtype('uint8')"
      ]
     },
     "execution_count": 15,
     "metadata": {},
     "output_type": "execute_result"
    }
   ],
   "source": [
    "X_test.dtype"
   ]
  },
  {
   "cell_type": "code",
   "execution_count": 16,
   "metadata": {},
   "outputs": [
    {
     "data": {
      "text/plain": [
       "(10000,)"
      ]
     },
     "execution_count": 16,
     "metadata": {},
     "output_type": "execute_result"
    }
   ],
   "source": [
    "y_test.shape"
   ]
  },
  {
   "cell_type": "code",
   "execution_count": 17,
   "metadata": {},
   "outputs": [],
   "source": [
    "#Scale dow the pixel intensity of the images to allow for differentiation\n",
    "X_valid, X_train = X_train_full[:5000] / 255.0, X_train_full[5000:] /255.0\n",
    "y_valid, y_train = y_train_full[:5000], y_train_full[5000:]"
   ]
  },
  {
   "cell_type": "code",
   "execution_count": 18,
   "metadata": {},
   "outputs": [],
   "source": [
    "#provide the class names to enable during the prediction\n",
    "class_names = [\"T-shirt/top\", \"Trouser\", \"Pullover\", \"Dress\", \"Coat\",\n",
    "\"Sandal\", \"Shirt\", \"Sneaker\", \"Bag\", \"Ankle boot\"]\n"
   ]
  },
  {
   "cell_type": "code",
   "execution_count": 19,
   "metadata": {},
   "outputs": [
    {
     "data": {
      "text/plain": [
       "'Coat'"
      ]
     },
     "execution_count": 19,
     "metadata": {},
     "output_type": "execute_result"
    }
   ],
   "source": [
    "#Check out the first image\n",
    "class_names[y_train[0]]\n"
   ]
  },
  {
   "cell_type": "code",
   "execution_count": 20,
   "metadata": {},
   "outputs": [],
   "source": [
    "#Create the model and pass them as a list using the sequential API\n",
    "model = keras.models.Sequential([\n",
    "    keras.layers.Flatten(input_shape=[28, 28]),\n",
    "    keras.layers.Dense(300, activation=\"relu\"),\n",
    "    keras.layers.Dense(100, activation=\"relu\"),\n",
    "    keras.layers.Dense(10, activation=\"softmax\")\n",
    "    ])"
   ]
  },
  {
   "cell_type": "code",
   "execution_count": 21,
   "metadata": {},
   "outputs": [
    {
     "name": "stdout",
     "output_type": "stream",
     "text": [
      "Model: \"sequential\"\n",
      "_________________________________________________________________\n",
      "Layer (type)                 Output Shape              Param #   \n",
      "=================================================================\n",
      "flatten (Flatten)            (None, 784)               0         \n",
      "_________________________________________________________________\n",
      "dense (Dense)                (None, 300)               235500    \n",
      "_________________________________________________________________\n",
      "dense_1 (Dense)              (None, 100)               30100     \n",
      "_________________________________________________________________\n",
      "dense_2 (Dense)              (None, 10)                1010      \n",
      "=================================================================\n",
      "Total params: 266,610\n",
      "Trainable params: 266,610\n",
      "Non-trainable params: 0\n",
      "_________________________________________________________________\n"
     ]
    }
   ],
   "source": [
    "#Check the model summarry\n",
    "model.summary()"
   ]
  },
  {
   "cell_type": "code",
   "execution_count": 22,
   "metadata": {},
   "outputs": [
    {
     "data": {
      "text/plain": [
       "[<tensorflow.python.keras.layers.core.Flatten at 0x1de7d6588e0>,\n",
       " <tensorflow.python.keras.layers.core.Dense at 0x1de7fdc49d0>,\n",
       " <tensorflow.python.keras.layers.core.Dense at 0x1de7fdc4d00>,\n",
       " <tensorflow.python.keras.layers.core.Dense at 0x1de7fdc4550>]"
      ]
     },
     "execution_count": 22,
     "metadata": {},
     "output_type": "execute_result"
    }
   ],
   "source": [
    "#Fetch a models list of layers \n",
    "model.layers"
   ]
  },
  {
   "cell_type": "code",
   "execution_count": 23,
   "metadata": {},
   "outputs": [],
   "source": [
    "#Get the parameters of a hidden layer\n",
    "hidden1 = model.layers[1]"
   ]
  },
  {
   "cell_type": "code",
   "execution_count": 24,
   "metadata": {},
   "outputs": [
    {
     "data": {
      "text/plain": [
       "array([[ 0.00976637,  0.02170264, -0.0562014 , ...,  0.06819333,\n",
       "         0.07025658, -0.03838323],\n",
       "       [ 0.02986127,  0.03914679, -0.02038771, ...,  0.07284723,\n",
       "         0.00312492, -0.0685208 ],\n",
       "       [-0.06937216, -0.0153704 ,  0.0266524 , ...,  0.04666803,\n",
       "        -0.01787562, -0.00679967],\n",
       "       ...,\n",
       "       [ 0.02397888,  0.00042555,  0.059512  , ..., -0.03174476,\n",
       "        -0.02685637,  0.03368516],\n",
       "       [ 0.05030499,  0.01564661,  0.04001557, ..., -0.071205  ,\n",
       "        -0.01112543,  0.05018053],\n",
       "       [ 0.02525648, -0.03272916,  0.05141927, ...,  0.02859607,\n",
       "        -0.00349209,  0.04600167]], dtype=float32)"
      ]
     },
     "execution_count": 24,
     "metadata": {},
     "output_type": "execute_result"
    }
   ],
   "source": [
    "#Access the paameters of a layer\n",
    "weights, biases = hidden1.get_weights()\n",
    "weights"
   ]
  },
  {
   "cell_type": "code",
   "execution_count": 25,
   "metadata": {},
   "outputs": [
    {
     "data": {
      "text/plain": [
       "array([0., 0., 0., 0., 0., 0., 0., 0., 0., 0., 0., 0., 0., 0., 0., 0., 0.,\n",
       "       0., 0., 0., 0., 0., 0., 0., 0., 0., 0., 0., 0., 0., 0., 0., 0., 0.,\n",
       "       0., 0., 0., 0., 0., 0., 0., 0., 0., 0., 0., 0., 0., 0., 0., 0., 0.,\n",
       "       0., 0., 0., 0., 0., 0., 0., 0., 0., 0., 0., 0., 0., 0., 0., 0., 0.,\n",
       "       0., 0., 0., 0., 0., 0., 0., 0., 0., 0., 0., 0., 0., 0., 0., 0., 0.,\n",
       "       0., 0., 0., 0., 0., 0., 0., 0., 0., 0., 0., 0., 0., 0., 0., 0., 0.,\n",
       "       0., 0., 0., 0., 0., 0., 0., 0., 0., 0., 0., 0., 0., 0., 0., 0., 0.,\n",
       "       0., 0., 0., 0., 0., 0., 0., 0., 0., 0., 0., 0., 0., 0., 0., 0., 0.,\n",
       "       0., 0., 0., 0., 0., 0., 0., 0., 0., 0., 0., 0., 0., 0., 0., 0., 0.,\n",
       "       0., 0., 0., 0., 0., 0., 0., 0., 0., 0., 0., 0., 0., 0., 0., 0., 0.,\n",
       "       0., 0., 0., 0., 0., 0., 0., 0., 0., 0., 0., 0., 0., 0., 0., 0., 0.,\n",
       "       0., 0., 0., 0., 0., 0., 0., 0., 0., 0., 0., 0., 0., 0., 0., 0., 0.,\n",
       "       0., 0., 0., 0., 0., 0., 0., 0., 0., 0., 0., 0., 0., 0., 0., 0., 0.,\n",
       "       0., 0., 0., 0., 0., 0., 0., 0., 0., 0., 0., 0., 0., 0., 0., 0., 0.,\n",
       "       0., 0., 0., 0., 0., 0., 0., 0., 0., 0., 0., 0., 0., 0., 0., 0., 0.,\n",
       "       0., 0., 0., 0., 0., 0., 0., 0., 0., 0., 0., 0., 0., 0., 0., 0., 0.,\n",
       "       0., 0., 0., 0., 0., 0., 0., 0., 0., 0., 0., 0., 0., 0., 0., 0., 0.,\n",
       "       0., 0., 0., 0., 0., 0., 0., 0., 0., 0., 0.], dtype=float32)"
      ]
     },
     "execution_count": 25,
     "metadata": {},
     "output_type": "execute_result"
    }
   ],
   "source": [
    "biases"
   ]
  },
  {
   "cell_type": "code",
   "execution_count": 26,
   "metadata": {},
   "outputs": [
    {
     "data": {
      "text/plain": [
       "(784, 300)"
      ]
     },
     "execution_count": 26,
     "metadata": {},
     "output_type": "execute_result"
    }
   ],
   "source": [
    "weights.shape"
   ]
  },
  {
   "cell_type": "code",
   "execution_count": 27,
   "metadata": {},
   "outputs": [
    {
     "data": {
      "text/plain": [
       "dtype('float32')"
      ]
     },
     "execution_count": 27,
     "metadata": {},
     "output_type": "execute_result"
    }
   ],
   "source": [
    "weights.dtype"
   ]
  },
  {
   "cell_type": "code",
   "execution_count": 28,
   "metadata": {},
   "outputs": [
    {
     "data": {
      "text/plain": [
       "(300,)"
      ]
     },
     "execution_count": 28,
     "metadata": {},
     "output_type": "execute_result"
    }
   ],
   "source": [
    "biases.shape"
   ]
  },
  {
   "cell_type": "code",
   "execution_count": 29,
   "metadata": {},
   "outputs": [],
   "source": [
    "#Compile the model\n",
    "'''After creating the network we compile it or put it together witht the \n",
    "loss and optimizer'''\n",
    "model.compile(loss = keras.losses.sparse_categorical_crossentropy,\n",
    "              optimizer = keras.optimizers.SGD(lr=0.01),\n",
    "             metrics = [\"accuracy\"])"
   ]
  },
  {
   "cell_type": "code",
   "execution_count": 30,
   "metadata": {},
   "outputs": [
    {
     "name": "stdout",
     "output_type": "stream",
     "text": [
      "Epoch 1/30\n",
      "1719/1719 [==============================] - 3s 2ms/step - loss: 0.7232 - accuracy: 0.7591 - val_loss: 0.5385 - val_accuracy: 0.8152\n",
      "Epoch 2/30\n",
      "1719/1719 [==============================] - 3s 1ms/step - loss: 0.4876 - accuracy: 0.8306 - val_loss: 0.4520 - val_accuracy: 0.8480\n",
      "Epoch 3/30\n",
      "1719/1719 [==============================] - 2s 1ms/step - loss: 0.4431 - accuracy: 0.8457 - val_loss: 0.4155 - val_accuracy: 0.8538\n",
      "Epoch 4/30\n",
      "1719/1719 [==============================] - 2s 1ms/step - loss: 0.4162 - accuracy: 0.8543 - val_loss: 0.4045 - val_accuracy: 0.8608\n",
      "Epoch 5/30\n",
      "1719/1719 [==============================] - 2s 1ms/step - loss: 0.3961 - accuracy: 0.8601 - val_loss: 0.3880 - val_accuracy: 0.8654\n",
      "Epoch 6/30\n",
      "1719/1719 [==============================] - 3s 2ms/step - loss: 0.3795 - accuracy: 0.8661 - val_loss: 0.3701 - val_accuracy: 0.8710\n",
      "Epoch 7/30\n",
      "1719/1719 [==============================] - 3s 2ms/step - loss: 0.3652 - accuracy: 0.8698 - val_loss: 0.3713 - val_accuracy: 0.8686\n",
      "Epoch 8/30\n",
      "1719/1719 [==============================] - 2s 1ms/step - loss: 0.3540 - accuracy: 0.8739 - val_loss: 0.3672 - val_accuracy: 0.8736\n",
      "Epoch 9/30\n",
      "1719/1719 [==============================] - 2s 1ms/step - loss: 0.3429 - accuracy: 0.8776 - val_loss: 0.3483 - val_accuracy: 0.8780\n",
      "Epoch 10/30\n",
      "1719/1719 [==============================] - 3s 1ms/step - loss: 0.3335 - accuracy: 0.8809 - val_loss: 0.3469 - val_accuracy: 0.8780\n",
      "Epoch 11/30\n",
      "1719/1719 [==============================] - 3s 2ms/step - loss: 0.3260 - accuracy: 0.8832 - val_loss: 0.3393 - val_accuracy: 0.8770\n",
      "Epoch 12/30\n",
      "1719/1719 [==============================] - 2s 1ms/step - loss: 0.3177 - accuracy: 0.8867 - val_loss: 0.3616 - val_accuracy: 0.8712\n",
      "Epoch 13/30\n",
      "1719/1719 [==============================] - 2s 1ms/step - loss: 0.3101 - accuracy: 0.8894 - val_loss: 0.3298 - val_accuracy: 0.8786\n",
      "Epoch 14/30\n",
      "1719/1719 [==============================] - 2s 1ms/step - loss: 0.3045 - accuracy: 0.8900 - val_loss: 0.3373 - val_accuracy: 0.8814\n",
      "Epoch 15/30\n",
      "1719/1719 [==============================] - 2s 1ms/step - loss: 0.2973 - accuracy: 0.8923 - val_loss: 0.3444 - val_accuracy: 0.8784\n",
      "Epoch 16/30\n",
      "1719/1719 [==============================] - 3s 2ms/step - loss: 0.2907 - accuracy: 0.8962 - val_loss: 0.3185 - val_accuracy: 0.8870\n",
      "Epoch 17/30\n",
      "1719/1719 [==============================] - 2s 1ms/step - loss: 0.2854 - accuracy: 0.8972 - val_loss: 0.3324 - val_accuracy: 0.8816\n",
      "Epoch 18/30\n",
      "1719/1719 [==============================] - 2s 1ms/step - loss: 0.2795 - accuracy: 0.8999 - val_loss: 0.3074 - val_accuracy: 0.8896\n",
      "Epoch 19/30\n",
      "1719/1719 [==============================] - 2s 1ms/step - loss: 0.2741 - accuracy: 0.9016 - val_loss: 0.3335 - val_accuracy: 0.8808\n",
      "Epoch 20/30\n",
      "1719/1719 [==============================] - 2s 1ms/step - loss: 0.2689 - accuracy: 0.9027 - val_loss: 0.3202 - val_accuracy: 0.8880\n",
      "Epoch 21/30\n",
      "1719/1719 [==============================] - 2s 1ms/step - loss: 0.2643 - accuracy: 0.9053 - val_loss: 0.3213 - val_accuracy: 0.8850\n",
      "Epoch 22/30\n",
      "1719/1719 [==============================] - 2s 1ms/step - loss: 0.2594 - accuracy: 0.9059 - val_loss: 0.3175 - val_accuracy: 0.8854\n",
      "Epoch 23/30\n",
      "1719/1719 [==============================] - 2s 1ms/step - loss: 0.2550 - accuracy: 0.9084 - val_loss: 0.3198 - val_accuracy: 0.8830\n",
      "Epoch 24/30\n",
      "1719/1719 [==============================] - 2s 1ms/step - loss: 0.2502 - accuracy: 0.9097 - val_loss: 0.3262 - val_accuracy: 0.8798\n",
      "Epoch 25/30\n",
      "1719/1719 [==============================] - 2s 1ms/step - loss: 0.2452 - accuracy: 0.9124 - val_loss: 0.2994 - val_accuracy: 0.8914\n",
      "Epoch 26/30\n",
      "1719/1719 [==============================] - 2s 1ms/step - loss: 0.2419 - accuracy: 0.9126 - val_loss: 0.3215 - val_accuracy: 0.8866\n",
      "Epoch 27/30\n",
      "1719/1719 [==============================] - 2s 1ms/step - loss: 0.2372 - accuracy: 0.9144 - val_loss: 0.2975 - val_accuracy: 0.8946\n",
      "Epoch 28/30\n",
      "1719/1719 [==============================] - 2s 1ms/step - loss: 0.2337 - accuracy: 0.9157 - val_loss: 0.3033 - val_accuracy: 0.8912\n",
      "Epoch 29/30\n",
      "1719/1719 [==============================] - 2s 1ms/step - loss: 0.2288 - accuracy: 0.9177 - val_loss: 0.2912 - val_accuracy: 0.8948\n",
      "Epoch 30/30\n",
      "1719/1719 [==============================] - 2s 1ms/step - loss: 0.2266 - accuracy: 0.9179 - val_loss: 0.3057 - val_accuracy: 0.8890\n"
     ]
    }
   ],
   "source": [
    "#Training and evaluating the model\n",
    "history = model.fit(X_train, y_train, epochs=30,\n",
    "                    validation_data=(X_valid, y_valid))"
   ]
  },
  {
   "cell_type": "code",
   "execution_count": 31,
   "metadata": {},
   "outputs": [
    {
     "data": {
      "text/plain": [
       "{'verbose': 1, 'epochs': 30, 'steps': 1719}"
      ]
     },
     "execution_count": 31,
     "metadata": {},
     "output_type": "execute_result"
    }
   ],
   "source": [
    "history.params"
   ]
  },
  {
   "cell_type": "code",
   "execution_count": 32,
   "metadata": {},
   "outputs": [
    {
     "data": {
      "text/plain": [
       "{'loss': [0.723244309425354,\n",
       "  0.48760902881622314,\n",
       "  0.4430721700191498,\n",
       "  0.41623377799987793,\n",
       "  0.3960886001586914,\n",
       "  0.3794933557510376,\n",
       "  0.3651648759841919,\n",
       "  0.35397177934646606,\n",
       "  0.3428725600242615,\n",
       "  0.3335082530975342,\n",
       "  0.32599860429763794,\n",
       "  0.317703515291214,\n",
       "  0.31007423996925354,\n",
       "  0.3045073449611664,\n",
       "  0.297292023897171,\n",
       "  0.2906976640224457,\n",
       "  0.28544700145721436,\n",
       "  0.27946844696998596,\n",
       "  0.2741415202617645,\n",
       "  0.2688685357570648,\n",
       "  0.26434358954429626,\n",
       "  0.2593529522418976,\n",
       "  0.25495606660842896,\n",
       "  0.25020426511764526,\n",
       "  0.245167538523674,\n",
       "  0.24187251925468445,\n",
       "  0.23718054592609406,\n",
       "  0.23365844786167145,\n",
       "  0.2287752628326416,\n",
       "  0.22656521201133728],\n",
       " 'accuracy': [0.7591454386711121,\n",
       "  0.8306363821029663,\n",
       "  0.8457454442977905,\n",
       "  0.854345440864563,\n",
       "  0.8600727319717407,\n",
       "  0.8661454319953918,\n",
       "  0.8697817921638489,\n",
       "  0.8739272952079773,\n",
       "  0.8776363730430603,\n",
       "  0.8808545470237732,\n",
       "  0.8831818103790283,\n",
       "  0.8867090940475464,\n",
       "  0.8894000053405762,\n",
       "  0.8900363445281982,\n",
       "  0.8923272490501404,\n",
       "  0.8961818218231201,\n",
       "  0.8971636295318604,\n",
       "  0.8998727202415466,\n",
       "  0.9015636444091797,\n",
       "  0.9026908874511719,\n",
       "  0.9053090810775757,\n",
       "  0.9058545231819153,\n",
       "  0.9083999991416931,\n",
       "  0.9096545577049255,\n",
       "  0.9123636484146118,\n",
       "  0.9125636219978333,\n",
       "  0.9143999814987183,\n",
       "  0.9156545400619507,\n",
       "  0.9177091121673584,\n",
       "  0.9178545475006104],\n",
       " 'val_loss': [0.5384891629219055,\n",
       "  0.45198604464530945,\n",
       "  0.41553401947021484,\n",
       "  0.4045044779777527,\n",
       "  0.3879643380641937,\n",
       "  0.37009385228157043,\n",
       "  0.37131789326667786,\n",
       "  0.3672485053539276,\n",
       "  0.348347544670105,\n",
       "  0.346897155046463,\n",
       "  0.339343398809433,\n",
       "  0.36159852147102356,\n",
       "  0.3297565281391144,\n",
       "  0.3373054265975952,\n",
       "  0.3444073796272278,\n",
       "  0.3185165524482727,\n",
       "  0.3324478268623352,\n",
       "  0.30737054347991943,\n",
       "  0.3334663212299347,\n",
       "  0.32015159726142883,\n",
       "  0.3213197886943817,\n",
       "  0.31750401854515076,\n",
       "  0.319827675819397,\n",
       "  0.3261646628379822,\n",
       "  0.29940539598464966,\n",
       "  0.3215104937553406,\n",
       "  0.29748764634132385,\n",
       "  0.303309828042984,\n",
       "  0.2912233769893646,\n",
       "  0.3057102859020233],\n",
       " 'val_accuracy': [0.8151999711990356,\n",
       "  0.8479999899864197,\n",
       "  0.8537999987602234,\n",
       "  0.86080002784729,\n",
       "  0.8654000163078308,\n",
       "  0.8709999918937683,\n",
       "  0.8686000108718872,\n",
       "  0.8736000061035156,\n",
       "  0.878000020980835,\n",
       "  0.878000020980835,\n",
       "  0.8769999742507935,\n",
       "  0.8712000250816345,\n",
       "  0.878600001335144,\n",
       "  0.8813999891281128,\n",
       "  0.8784000277519226,\n",
       "  0.8870000243186951,\n",
       "  0.881600022315979,\n",
       "  0.8895999789237976,\n",
       "  0.8808000087738037,\n",
       "  0.8880000114440918,\n",
       "  0.8849999904632568,\n",
       "  0.8853999972343445,\n",
       "  0.8830000162124634,\n",
       "  0.879800021648407,\n",
       "  0.8913999795913696,\n",
       "  0.8866000175476074,\n",
       "  0.894599974155426,\n",
       "  0.8912000060081482,\n",
       "  0.8948000073432922,\n",
       "  0.8889999985694885]}"
      ]
     },
     "execution_count": 32,
     "metadata": {},
     "output_type": "execute_result"
    }
   ],
   "source": [
    "history.history"
   ]
  },
  {
   "cell_type": "code",
   "execution_count": 33,
   "metadata": {},
   "outputs": [],
   "source": [
    "import pandas as pd\n",
    "import matplotlib.pyplot as plt"
   ]
  },
  {
   "cell_type": "code",
   "execution_count": 34,
   "metadata": {},
   "outputs": [
    {
     "data": {
      "image/png": "[encoded data removed]",
      "text/plain": [
       "<Figure size 576x360 with 1 Axes>"
      ]
     },
     "metadata": {
      "needs_background": "light"
     },
     "output_type": "display_data"
    }
   ],
   "source": [
    "#plot the history of the model.fit\n",
    "pd.DataFrame(history.history).plot(figsize=(8, 5))\n",
    "plt.grid(True)\n",
    "plt.gca().set_ylim(0, 1) # set the vertical range to [0-1]\n",
    "plt.show()"
   ]
  },
  {
   "cell_type": "code",
   "execution_count": 35,
   "metadata": {},
   "outputs": [
    {
     "name": "stdout",
     "output_type": "stream",
     "text": [
      "313/313 [==============================] - 0s 1ms/step - loss: 54.4641 - accuracy: 0.8615\n"
     ]
    },
    {
     "data": {
      "text/plain": [
       "[54.464107513427734, 0.8615000247955322]"
      ]
     },
     "execution_count": 35,
     "metadata": {},
     "output_type": "execute_result"
    }
   ],
   "source": [
    "#Evaluaing the model on the test set\n",
    "model.evaluate(X_test, y_test)"
   ]
  },
  {
   "cell_type": "code",
   "execution_count": 36,
   "metadata": {},
   "outputs": [
    {
     "data": {
      "text/plain": [
       "array([[0., 0., 0., 0., 0., 0., 0., 0., 0., 1.],\n",
       "       [0., 0., 1., 0., 0., 0., 0., 0., 0., 0.],\n",
       "       [0., 1., 0., 0., 0., 0., 0., 0., 0., 0.]], dtype=float32)"
      ]
     },
     "execution_count": 36,
     "metadata": {},
     "output_type": "execute_result"
    }
   ],
   "source": [
    "#prediction using the model\n",
    "X_new = X_test[:3]\n",
    "y_proba = model.predict(X_new)\n",
    "y_proba.round(2)"
   ]
  },
  {
   "cell_type": "code",
   "execution_count": 37,
   "metadata": {},
   "outputs": [
    {
     "name": "stdout",
     "output_type": "stream",
     "text": [
      "WARNING:tensorflow:From <ipython-input-37-d2eab565e431>:2: Sequential.predict_classes (from tensorflow.python.keras.engine.sequential) is deprecated and will be removed after 2021-01-01.\n",
      "Instructions for updating:\n",
      "Please use instead:* `np.argmax(model.predict(x), axis=-1)`,   if your model does multi-class classification   (e.g. if it uses a `softmax` last-layer activation).* `(model.predict(x) > 0.5).astype(\"int32\")`,   if your model does binary classification   (e.g. if it uses a `sigmoid` last-layer activation).\n"
     ]
    },
    {
     "data": {
      "text/plain": [
       "array([9, 2, 1], dtype=int64)"
      ]
     },
     "execution_count": 37,
     "metadata": {},
     "output_type": "execute_result"
    }
   ],
   "source": [
    "#Choos on the class with the hieghest probabilities\n",
    "y_pred = model.predict_classes(X_new)\n",
    "y_pred\n"
   ]
  },
  {
   "cell_type": "code",
   "execution_count": 38,
   "metadata": {},
   "outputs": [
    {
     "data": {
      "text/plain": [
       "array([9, 2, 1], dtype=int64)"
      ]
     },
     "execution_count": 38,
     "metadata": {},
     "output_type": "execute_result"
    }
   ],
   "source": [
    "np.argmax(model.predict(X_new), axis=-1)"
   ]
  },
  {
   "cell_type": "code",
   "execution_count": 39,
   "metadata": {},
   "outputs": [
    {
     "data": {
      "text/plain": [
       "array(['Ankle boot', 'Pullover', 'Trouser'], dtype='<U11')"
      ]
     },
     "execution_count": 39,
     "metadata": {},
     "output_type": "execute_result"
    }
   ],
   "source": [
    "np.array(class_names)[y_pred]"
   ]
  },
  {
   "cell_type": "markdown",
   "metadata": {},
   "source": [
    "### Regression of MLP using Sequential API"
   ]
  },
  {
   "cell_type": "code",
   "execution_count": 40,
   "metadata": {},
   "outputs": [],
   "source": [
    "from sklearn.datasets import fetch_california_housing\n",
    "from sklearn.model_selection import train_test_split\n",
    "from sklearn.preprocessing import StandardScaler"
   ]
  },
  {
   "cell_type": "code",
   "execution_count": 41,
   "metadata": {},
   "outputs": [],
   "source": [
    "#load the data from sklearn\n",
    "housing = fetch_california_housing()"
   ]
  },
  {
   "cell_type": "code",
   "execution_count": 42,
   "metadata": {},
   "outputs": [],
   "source": [
    "#Slit the data to train test and validation\n",
    "X_train_full, X_test, y_train_full, y_test = train_test_split(\n",
    "housing.data, housing.target)\n",
    "X_train, X_valid, y_train, y_valid = train_test_split(\n",
    "X_train_full, y_train_full)"
   ]
  },
  {
   "cell_type": "code",
   "execution_count": 43,
   "metadata": {},
   "outputs": [],
   "source": [
    "#Scale the data into the same range\n",
    "scaler = StandardScaler()\n",
    "X_train = scaler.fit_transform(X_train)\n",
    "X_valid = scaler.transform(X_valid)\n",
    "X_test = scaler.transform(X_test)"
   ]
  },
  {
   "cell_type": "code",
   "execution_count": 44,
   "metadata": {},
   "outputs": [
    {
     "data": {
      "text/plain": [
       "(11610, 8)"
      ]
     },
     "execution_count": 44,
     "metadata": {},
     "output_type": "execute_result"
    }
   ],
   "source": [
    "X_train.shape"
   ]
  },
  {
   "cell_type": "code",
   "execution_count": 45,
   "metadata": {},
   "outputs": [
    {
     "data": {
      "text/plain": [
       "(11610,)"
      ]
     },
     "execution_count": 45,
     "metadata": {},
     "output_type": "execute_result"
    }
   ],
   "source": [
    "y_train.shape"
   ]
  },
  {
   "cell_type": "code",
   "execution_count": 46,
   "metadata": {},
   "outputs": [
    {
     "data": {
      "text/plain": [
       "dtype('float64')"
      ]
     },
     "execution_count": 46,
     "metadata": {},
     "output_type": "execute_result"
    }
   ],
   "source": [
    "X_train.dtype"
   ]
  },
  {
   "cell_type": "code",
   "execution_count": 47,
   "metadata": {},
   "outputs": [],
   "source": [
    "#Create the model\n",
    "model = keras.models.Sequential([\n",
    "    keras.layers.Dense(30, activation=\"relu\",\n",
    "    input_shape=X_train.shape[1:]),\n",
    "    keras.layers.Dense(1)\n",
    "])\n"
   ]
  },
  {
   "cell_type": "code",
   "execution_count": 48,
   "metadata": {},
   "outputs": [
    {
     "data": {
      "text/plain": [
       "<tensorflow.python.keras.layers.core.Dense at 0x1de273f2d00>"
      ]
     },
     "execution_count": 48,
     "metadata": {},
     "output_type": "execute_result"
    }
   ],
   "source": [
    "hidden = model.layers[1]\n",
    "hidden"
   ]
  },
  {
   "cell_type": "code",
   "execution_count": 49,
   "metadata": {},
   "outputs": [
    {
     "name": "stdout",
     "output_type": "stream",
     "text": [
      "Model: \"sequential_1\"\n",
      "_________________________________________________________________\n",
      "Layer (type)                 Output Shape              Param #   \n",
      "=================================================================\n",
      "dense_3 (Dense)              (None, 30)                270       \n",
      "_________________________________________________________________\n",
      "dense_4 (Dense)              (None, 1)                 31        \n",
      "=================================================================\n",
      "Total params: 301\n",
      "Trainable params: 301\n",
      "Non-trainable params: 0\n",
      "_________________________________________________________________\n"
     ]
    }
   ],
   "source": [
    "model.summary()"
   ]
  },
  {
   "cell_type": "code",
   "execution_count": 50,
   "metadata": {},
   "outputs": [],
   "source": [
    "#Compile the model\n",
    "model.compile(loss=\"mean_squared_error\", optimizer=\"sgd\")"
   ]
  },
  {
   "cell_type": "code",
   "execution_count": 51,
   "metadata": {},
   "outputs": [
    {
     "name": "stdout",
     "output_type": "stream",
     "text": [
      "Epoch 1/20\n",
      "363/363 [==============================] - 0s 860us/step - loss: 0.8228 - val_loss: 0.6631\n",
      "Epoch 2/20\n",
      "363/363 [==============================] - 0s 615us/step - loss: 0.9947 - val_loss: 0.4287\n",
      "Epoch 3/20\n",
      "363/363 [==============================] - 0s 621us/step - loss: 0.4409 - val_loss: 0.4110\n",
      "Epoch 4/20\n",
      "363/363 [==============================] - 0s 603us/step - loss: 0.4130 - val_loss: 0.3947\n",
      "Epoch 5/20\n",
      "363/363 [==============================] - 0s 594us/step - loss: 0.4020 - val_loss: 0.3881\n",
      "Epoch 6/20\n",
      "363/363 [==============================] - 0s 595us/step - loss: 0.3906 - val_loss: 0.3828\n",
      "Epoch 7/20\n",
      "363/363 [==============================] - 0s 606us/step - loss: 0.3874 - val_loss: 0.3730\n",
      "Epoch 8/20\n",
      "363/363 [==============================] - 0s 603us/step - loss: 0.3822 - val_loss: 0.3715\n",
      "Epoch 9/20\n",
      "363/363 [==============================] - 0s 595us/step - loss: 0.3782 - val_loss: 0.3662\n",
      "Epoch 10/20\n",
      "363/363 [==============================] - 0s 601us/step - loss: 0.3800 - val_loss: 0.3655\n",
      "Epoch 11/20\n",
      "363/363 [==============================] - 0s 600us/step - loss: 0.3766 - val_loss: 0.3627\n",
      "Epoch 12/20\n",
      "363/363 [==============================] - 0s 611us/step - loss: 0.3734 - val_loss: 0.3601\n",
      "Epoch 13/20\n",
      "363/363 [==============================] - 0s 608us/step - loss: 0.3723 - val_loss: 0.3624\n",
      "Epoch 14/20\n",
      "363/363 [==============================] - 0s 608us/step - loss: 0.3816 - val_loss: 0.3690\n",
      "Epoch 15/20\n",
      "363/363 [==============================] - 0s 607us/step - loss: 0.3722 - val_loss: 0.3743\n",
      "Epoch 16/20\n",
      "363/363 [==============================] - 0s 600us/step - loss: 0.3775 - val_loss: 0.3719\n",
      "Epoch 17/20\n",
      "363/363 [==============================] - 0s 595us/step - loss: 0.3749 - val_loss: 0.3600\n",
      "Epoch 18/20\n",
      "363/363 [==============================] - 0s 588us/step - loss: 0.3732 - val_loss: 0.3615\n",
      "Epoch 19/20\n",
      "363/363 [==============================] - 0s 592us/step - loss: 0.3645 - val_loss: 0.3559\n",
      "Epoch 20/20\n",
      "363/363 [==============================] - 0s 606us/step - loss: 0.3722 - val_loss: 0.3605\n"
     ]
    }
   ],
   "source": [
    "historyr = model.fit(X_train, y_train, epochs=20,\n",
    "validation_data=(X_valid, y_valid))"
   ]
  },
  {
   "cell_type": "code",
   "execution_count": 52,
   "metadata": {},
   "outputs": [
    {
     "data": {
      "image/png": "[encoded data removed]",
      "text/plain": [
       "<Figure size 576x360 with 1 Axes>"
      ]
     },
     "metadata": {
      "needs_background": "light"
     },
     "output_type": "display_data"
    }
   ],
   "source": [
    "#plot the history of the model.fit\n",
    "pd.DataFrame(historyr.history).plot(figsize=(8, 5))\n",
    "plt.grid(True)\n",
    "plt.gca().set_ylim(0, 1) # set the vertical range to [0-1]\n",
    "plt.show()"
   ]
  },
  {
   "cell_type": "code",
   "execution_count": 53,
   "metadata": {},
   "outputs": [
    {
     "name": "stdout",
     "output_type": "stream",
     "text": [
      "162/162 [==============================] - 0s 432us/step - loss: 0.3449\n"
     ]
    }
   ],
   "source": [
    "#Evaluate the model on the test set\n",
    "mse_test = model.evaluate(X_test, y_test)\n"
   ]
  },
  {
   "cell_type": "code",
   "execution_count": 54,
   "metadata": {},
   "outputs": [
    {
     "data": {
      "text/plain": [
       "array([[-1.24039684,  1.85651052, -1.18479864,  0.02780479,  0.21868947,\n",
       "        -0.0656273 ,  0.9898174 , -1.39763271],\n",
       "       [-0.91035159,  0.03006794,  0.14425004,  0.13287403, -1.03794125,\n",
       "        -0.11151379,  0.24129929, -0.41326442],\n",
       "       [-0.64933199,  0.18888903, -0.38193366, -0.04918619,  0.06994543,\n",
       "         0.18199835, -1.13950741,  1.10306047]])"
      ]
     },
     "execution_count": 54,
     "metadata": {},
     "output_type": "execute_result"
    }
   ],
   "source": [
    "#Test the model on data\n",
    "X_new = X_test[:3] # pretend these are new instances\n",
    "X_new"
   ]
  },
  {
   "cell_type": "code",
   "execution_count": 55,
   "metadata": {},
   "outputs": [
    {
     "data": {
      "text/plain": [
       "array([[2.5166304],\n",
       "       [1.3444132],\n",
       "       [1.4404359]], dtype=float32)"
      ]
     },
     "execution_count": 55,
     "metadata": {},
     "output_type": "execute_result"
    }
   ],
   "source": [
    "#predict the test\n",
    "y_pred = model.predict(X_new)\n",
    "y_pred"
   ]
  },
  {
   "cell_type": "code",
   "execution_count": 56,
   "metadata": {},
   "outputs": [
    {
     "data": {
      "text/plain": [
       "array([2.375, 1.042, 1.033])"
      ]
     },
     "execution_count": 56,
     "metadata": {},
     "output_type": "execute_result"
    }
   ],
   "source": [
    "y_test[:3]"
   ]
  },
  {
   "cell_type": "markdown",
   "metadata": {},
   "source": [
    "### Functional API"
   ]
  },
  {
   "cell_type": "code",
   "execution_count": 57,
   "metadata": {},
   "outputs": [],
   "source": [
    "#A simple functional API under one path\n",
    "input_ = keras.layers.Input(shape=X_train.shape[1:])\n",
    "hidden1 = keras.layers.Dense(30, activation=\"relu\")(input_)\n",
    "hidden2 = keras.layers.Dense(30, activation=\"relu\")(hidden1)\n",
    "concat = keras.layers.Concatenate()([input_, hidden2])\n",
    "output = keras.layers.Dense(1)(concat)\n",
    "modelu = keras.Model(inputs=[input_], outputs=[output])"
   ]
  },
  {
   "cell_type": "code",
   "execution_count": 58,
   "metadata": {},
   "outputs": [],
   "source": [
    "#In other instances we need to create an API where two inputs exist\n",
    "input_A = keras.layers.Input(shape=[5], name=\"wide_input\")\n",
    "input_B = keras.layers.Input(shape=[6], name=\"deep_input\")\n",
    "hidden1 = keras.layers.Dense(30, activation=\"relu\")(input_B)\n",
    "hidden2 = keras.layers.Dense(30, activation=\"relu\")(hidden1)\n",
    "concat = keras.layers.concatenate([input_A, hidden2])\n",
    "output = keras.layers.Dense(1, name=\"output\")(concat)\n",
    "modelu = keras.Model(inputs=[input_A, input_B], outputs=[output])"
   ]
  },
  {
   "cell_type": "code",
   "execution_count": 59,
   "metadata": {},
   "outputs": [],
   "source": [
    "#Compile model\n",
    "modelu.compile(loss=\"mse\", optimizer=keras.optimizers.SGD(lr=1e-3))"
   ]
  },
  {
   "cell_type": "code",
   "execution_count": 60,
   "metadata": {},
   "outputs": [],
   "source": [
    "#Redifining the inputs due to the two channels\n",
    "X_train_A, X_train_B = X_train[:, :5], X_train[:, 2:]\n",
    "X_valid_A, X_valid_B = X_valid[:, :5], X_valid[:, 2:]\n",
    "X_test_A, X_test_B = X_test[:, :5], X_test[:, 2:]\n",
    "X_new_A, X_new_B = X_test_A[:3], X_test_B[:3]\n"
   ]
  },
  {
   "cell_type": "code",
   "execution_count": 61,
   "metadata": {},
   "outputs": [
    {
     "name": "stdout",
     "output_type": "stream",
     "text": [
      "Epoch 1/20\n",
      "363/363 [==============================] - 0s 938us/step - loss: 1.8110 - val_loss: 0.8136\n",
      "Epoch 2/20\n",
      "363/363 [==============================] - 0s 674us/step - loss: 0.7408 - val_loss: 0.6811\n",
      "Epoch 3/20\n",
      "363/363 [==============================] - 0s 669us/step - loss: 0.6561 - val_loss: 0.6382\n",
      "Epoch 4/20\n",
      "363/363 [==============================] - 0s 661us/step - loss: 0.6240 - val_loss: 0.6134\n",
      "Epoch 5/20\n",
      "363/363 [==============================] - 0s 654us/step - loss: 0.6014 - val_loss: 0.5943\n",
      "Epoch 6/20\n",
      "363/363 [==============================] - 0s 695us/step - loss: 0.5819 - val_loss: 0.5775\n",
      "Epoch 7/20\n",
      "363/363 [==============================] - 0s 687us/step - loss: 0.5688 - val_loss: 0.5633\n",
      "Epoch 8/20\n",
      "363/363 [==============================] - 0s 675us/step - loss: 0.5545 - val_loss: 0.5537\n",
      "Epoch 9/20\n",
      "363/363 [==============================] - 0s 658us/step - loss: 0.5454 - val_loss: 0.5416\n",
      "Epoch 10/20\n",
      "363/363 [==============================] - 0s 646us/step - loss: 0.5329 - val_loss: 0.5307\n",
      "Epoch 11/20\n",
      "363/363 [==============================] - 0s 661us/step - loss: 0.5277 - val_loss: 0.5225\n",
      "Epoch 12/20\n",
      "363/363 [==============================] - 0s 651us/step - loss: 0.5193 - val_loss: 0.5157\n",
      "Epoch 13/20\n",
      "363/363 [==============================] - 0s 675us/step - loss: 0.5121 - val_loss: 0.5095\n",
      "Epoch 14/20\n",
      "363/363 [==============================] - 0s 650us/step - loss: 0.5059 - val_loss: 0.5062\n",
      "Epoch 15/20\n",
      "363/363 [==============================] - 0s 664us/step - loss: 0.5003 - val_loss: 0.5000\n",
      "Epoch 16/20\n",
      "363/363 [==============================] - 0s 653us/step - loss: 0.4969 - val_loss: 0.4953\n",
      "Epoch 17/20\n",
      "363/363 [==============================] - 0s 655us/step - loss: 0.4920 - val_loss: 0.4916\n",
      "Epoch 18/20\n",
      "363/363 [==============================] - 0s 668us/step - loss: 0.4881 - val_loss: 0.4881\n",
      "Epoch 19/20\n",
      "363/363 [==============================] - 0s 664us/step - loss: 0.4848 - val_loss: 0.4836\n",
      "Epoch 20/20\n",
      "363/363 [==============================] - 0s 658us/step - loss: 0.4797 - val_loss: 0.4785\n"
     ]
    }
   ],
   "source": [
    "#Fitting the model\n",
    "historyu = modelu.fit((X_train_A, X_train_B), y_train, epochs=20,\n",
    "validation_data=((X_valid_A, X_valid_B), y_valid))"
   ]
  },
  {
   "cell_type": "code",
   "execution_count": 62,
   "metadata": {},
   "outputs": [
    {
     "data": {
      "image/png": "[encoded data removed]",
      "text/plain": [
       "<Figure size 576x360 with 1 Axes>"
      ]
     },
     "metadata": {
      "needs_background": "light"
     },
     "output_type": "display_data"
    }
   ],
   "source": [
    "#plot the history of the model.fit\n",
    "pd.DataFrame(historyu.history).plot(figsize=(8, 5))\n",
    "plt.grid(True)\n",
    "plt.gca().set_ylim(0, 1) # set the vertical range to [0-1]\n",
    "plt.show()"
   ]
  },
  {
   "cell_type": "code",
   "execution_count": 63,
   "metadata": {},
   "outputs": [
    {
     "name": "stdout",
     "output_type": "stream",
     "text": [
      "162/162 [==============================] - 0s 483us/step - loss: 0.4486\n"
     ]
    }
   ],
   "source": [
    "#Testing the model\n",
    "mse_test = modelu.evaluate((X_test_A, X_test_B), y_test)\n"
   ]
  },
  {
   "cell_type": "code",
   "execution_count": 64,
   "metadata": {},
   "outputs": [
    {
     "data": {
      "text/plain": [
       "array([[2.4557106],\n",
       "       [1.4307215],\n",
       "       [1.5549419]], dtype=float32)"
      ]
     },
     "execution_count": 64,
     "metadata": {},
     "output_type": "execute_result"
    }
   ],
   "source": [
    "#predict the model\n",
    "y_pred = modelu.predict((X_new_A, X_new_B))\n",
    "y_pred"
   ]
  },
  {
   "cell_type": "code",
   "execution_count": 65,
   "metadata": {},
   "outputs": [
    {
     "data": {
      "text/plain": [
       "array([2.375, 1.042, 1.033])"
      ]
     },
     "execution_count": 65,
     "metadata": {},
     "output_type": "execute_result"
    }
   ],
   "source": [
    "y_test[:3]"
   ]
  },
  {
   "cell_type": "code",
   "execution_count": 66,
   "metadata": {},
   "outputs": [
    {
     "ename": "NameError",
     "evalue": "name 'y_train_B' is not defined",
     "output_type": "error",
     "traceback": [
      "\u001b[1;31m---------------------------------------------------------------------------\u001b[0m",
      "\u001b[1;31mNameError\u001b[0m                                 Traceback (most recent call last)",
      "\u001b[1;32m<ipython-input-66-af290d95ecc8>\u001b[0m in \u001b[0;36m<module>\u001b[1;34m\u001b[0m\n\u001b[1;32m----> 1\u001b[1;33m \u001b[0my_train_B\u001b[0m\u001b[1;33m.\u001b[0m\u001b[0mshape\u001b[0m\u001b[1;33m\u001b[0m\u001b[1;33m\u001b[0m\u001b[0m\n\u001b[0m",
      "\u001b[1;31mNameError\u001b[0m: name 'y_train_B' is not defined"
     ]
    }
   ],
   "source": []
  },
  {
   "cell_type": "markdown",
   "metadata": {},
   "source": [
    "##### Adding Auxilliary outputs for regularization\n"
   ]
  },
  {
   "cell_type": "code",
   "execution_count": 67,
   "metadata": {},
   "outputs": [],
   "source": [
    "#Adding Auxilliary output\n",
    "input_A = keras.layers.Input(shape=[5], name=\"wide_input\")\n",
    "input_B = keras.layers.Input(shape=[6], name=\"deep_input\")\n",
    "hidden1 = keras.layers.Dense(30, activation=\"relu\")(input_B)\n",
    "hidden2 = keras.layers.Dense(30, activation=\"relu\")(hidden1)\n",
    "concat = keras.layers.concatenate([input_A, hidden2])\n",
    "output = keras.layers.Dense(1, name=\"main_output\")(concat)\n",
    "aux_output = keras.layers.Dense(1, name=\"aux_output\")(hidden2)\n",
    "modelf = keras.Model(inputs=[input_A, input_B], outputs=[output,\n",
    "aux_output])"
   ]
  },
  {
   "cell_type": "code",
   "execution_count": 68,
   "metadata": {},
   "outputs": [],
   "source": [
    "#When compiling pass different losses and weight more on the main output\n",
    "modelf.compile(loss=[\"mse\", \"mse\"], loss_weights=[0.9, 0.1],\n",
    "optimizer=\"sgd\")"
   ]
  },
  {
   "cell_type": "code",
   "execution_count": 69,
   "metadata": {},
   "outputs": [
    {
     "name": "stdout",
     "output_type": "stream",
     "text": [
      "Epoch 1/20\n",
      "363/363 [==============================] - 0s 1ms/step - loss: 1.0116 - main_output_loss: 0.8646 - aux_output_loss: 2.3339 - val_loss: 0.6611 - val_main_output_loss: 0.5804 - val_aux_output_loss: 1.3870\n",
      "Epoch 2/20\n",
      "363/363 [==============================] - 0s 768us/step - loss: 0.6224 - main_output_loss: 0.5501 - aux_output_loss: 1.2735 - val_loss: 0.5650 - val_main_output_loss: 0.5010 - val_aux_output_loss: 1.1409\n",
      "Epoch 3/20\n",
      "363/363 [==============================] - 0s 790us/step - loss: 0.5691 - main_output_loss: 0.5104 - aux_output_loss: 1.0971 - val_loss: 0.5184 - val_main_output_loss: 0.4642 - val_aux_output_loss: 1.0064\n",
      "Epoch 4/20\n",
      "363/363 [==============================] - 0s 763us/step - loss: 0.5270 - main_output_loss: 0.4793 - aux_output_loss: 0.9561 - val_loss: 0.4927 - val_main_output_loss: 0.4496 - val_aux_output_loss: 0.8802\n",
      "Epoch 5/20\n",
      "363/363 [==============================] - 0s 763us/step - loss: 0.4908 - main_output_loss: 0.4517 - aux_output_loss: 0.8426 - val_loss: 0.4654 - val_main_output_loss: 0.4299 - val_aux_output_loss: 0.7853\n",
      "Epoch 6/20\n",
      "363/363 [==============================] - 0s 782us/step - loss: 0.4692 - main_output_loss: 0.4364 - aux_output_loss: 0.7649 - val_loss: 0.4585 - val_main_output_loss: 0.4296 - val_aux_output_loss: 0.7186\n",
      "Epoch 7/20\n",
      "363/363 [==============================] - 0s 768us/step - loss: 0.4555 - main_output_loss: 0.4273 - aux_output_loss: 0.7089 - val_loss: 0.4393 - val_main_output_loss: 0.4131 - val_aux_output_loss: 0.6755\n",
      "Epoch 8/20\n",
      "363/363 [==============================] - 0s 779us/step - loss: 0.4492 - main_output_loss: 0.4243 - aux_output_loss: 0.6733 - val_loss: 0.4661 - val_main_output_loss: 0.4448 - val_aux_output_loss: 0.6572\n",
      "Epoch 9/20\n",
      "363/363 [==============================] - 0s 779us/step - loss: 0.4534 - main_output_loss: 0.4321 - aux_output_loss: 0.6449 - val_loss: 0.4236 - val_main_output_loss: 0.4019 - val_aux_output_loss: 0.6191\n",
      "Epoch 10/20\n",
      "363/363 [==============================] - 0s 771us/step - loss: 0.4313 - main_output_loss: 0.4101 - aux_output_loss: 0.6217 - val_loss: 0.4135 - val_main_output_loss: 0.3929 - val_aux_output_loss: 0.5985\n",
      "Epoch 11/20\n",
      "363/363 [==============================] - 0s 768us/step - loss: 0.4211 - main_output_loss: 0.4007 - aux_output_loss: 0.6048 - val_loss: 0.4098 - val_main_output_loss: 0.3904 - val_aux_output_loss: 0.5843\n",
      "Epoch 12/20\n",
      "363/363 [==============================] - 0s 805us/step - loss: 0.4172 - main_output_loss: 0.3968 - aux_output_loss: 0.6015 - val_loss: 0.4110 - val_main_output_loss: 0.3918 - val_aux_output_loss: 0.5835\n",
      "Epoch 13/20\n",
      "363/363 [==============================] - 0s 771us/step - loss: 0.4086 - main_output_loss: 0.3895 - aux_output_loss: 0.5797 - val_loss: 0.3989 - val_main_output_loss: 0.3801 - val_aux_output_loss: 0.5675\n",
      "Epoch 14/20\n",
      "363/363 [==============================] - 0s 779us/step - loss: 0.4020 - main_output_loss: 0.3834 - aux_output_loss: 0.5695 - val_loss: 0.3911 - val_main_output_loss: 0.3731 - val_aux_output_loss: 0.5532\n",
      "Epoch 15/20\n",
      "363/363 [==============================] - 0s 754us/step - loss: 0.3960 - main_output_loss: 0.3776 - aux_output_loss: 0.5617 - val_loss: 0.3854 - val_main_output_loss: 0.3680 - val_aux_output_loss: 0.5425\n",
      "Epoch 16/20\n",
      "363/363 [==============================] - 0s 757us/step - loss: 0.3911 - main_output_loss: 0.3731 - aux_output_loss: 0.5531 - val_loss: 0.3755 - val_main_output_loss: 0.3582 - val_aux_output_loss: 0.5316\n",
      "Epoch 17/20\n",
      "363/363 [==============================] - 0s 787us/step - loss: 0.3869 - main_output_loss: 0.3696 - aux_output_loss: 0.5428 - val_loss: 0.3725 - val_main_output_loss: 0.3556 - val_aux_output_loss: 0.5252\n",
      "Epoch 18/20\n",
      "363/363 [==============================] - 0s 771us/step - loss: 0.3851 - main_output_loss: 0.3687 - aux_output_loss: 0.5325 - val_loss: 0.3839 - val_main_output_loss: 0.3685 - val_aux_output_loss: 0.5226\n",
      "Epoch 19/20\n",
      "363/363 [==============================] - 0s 768us/step - loss: 0.4399 - main_output_loss: 0.4297 - aux_output_loss: 0.5319 - val_loss: 0.3680 - val_main_output_loss: 0.3529 - val_aux_output_loss: 0.5038\n",
      "Epoch 20/20\n",
      "363/363 [==============================] - 0s 782us/step - loss: 0.3764 - main_output_loss: 0.3613 - aux_output_loss: 0.5129 - val_loss: 0.3599 - val_main_output_loss: 0.3452 - val_aux_output_loss: 0.4927\n"
     ]
    }
   ],
   "source": [
    "#model_fit\n",
    "historyf = modelf.fit(\n",
    "[X_train_A, X_train_B], [y_train, y_train], epochs=20,\n",
    "validation_data=([X_valid_A, X_valid_B], [y_valid, y_valid]))\n"
   ]
  },
  {
   "cell_type": "code",
   "execution_count": 70,
   "metadata": {},
   "outputs": [
    {
     "data": {
      "text/plain": [
       "{'loss': [1.0115625858306885,\n",
       "  0.6224434971809387,\n",
       "  0.5690937638282776,\n",
       "  0.5269901752471924,\n",
       "  0.49083396792411804,\n",
       "  0.46922069787979126,\n",
       "  0.4554796814918518,\n",
       "  0.4492340683937073,\n",
       "  0.45337915420532227,\n",
       "  0.4312710762023926,\n",
       "  0.4211241602897644,\n",
       "  0.41723448038101196,\n",
       "  0.40855446457862854,\n",
       "  0.40198424458503723,\n",
       "  0.3959978520870209,\n",
       "  0.3911108374595642,\n",
       "  0.38691142201423645,\n",
       "  0.38510364294052124,\n",
       "  0.43987059593200684,\n",
       "  0.3764222264289856],\n",
       " 'main_output_loss': [0.8646413683891296,\n",
       "  0.5501087307929993,\n",
       "  0.5104249715805054,\n",
       "  0.4793145954608917,\n",
       "  0.45174440741539,\n",
       "  0.4363628327846527,\n",
       "  0.4273177981376648,\n",
       "  0.42433857917785645,\n",
       "  0.4321027994155884,\n",
       "  0.41011741757392883,\n",
       "  0.4007161855697632,\n",
       "  0.39675602316856384,\n",
       "  0.38953733444213867,\n",
       "  0.3833661675453186,\n",
       "  0.37758296728134155,\n",
       "  0.373115211725235,\n",
       "  0.36959385871887207,\n",
       "  0.3687284290790558,\n",
       "  0.42965054512023926,\n",
       "  0.3612624406814575],\n",
       " 'aux_output_loss': [2.333862781524658,\n",
       "  1.2734559774398804,\n",
       "  1.0971133708953857,\n",
       "  0.9560708403587341,\n",
       "  0.8426432013511658,\n",
       "  0.7649426460266113,\n",
       "  0.7089374661445618,\n",
       "  0.6732938885688782,\n",
       "  0.6448649168014526,\n",
       "  0.6216544508934021,\n",
       "  0.6047982573509216,\n",
       "  0.6015413403511047,\n",
       "  0.5797101855278015,\n",
       "  0.5695486068725586,\n",
       "  0.5617322325706482,\n",
       "  0.5530750751495361,\n",
       "  0.5427700877189636,\n",
       "  0.5324819684028625,\n",
       "  0.5318501591682434,\n",
       "  0.512860119342804],\n",
       " 'val_loss': [0.6610613465309143,\n",
       "  0.5650253295898438,\n",
       "  0.5183884501457214,\n",
       "  0.49270060658454895,\n",
       "  0.46540671586990356,\n",
       "  0.45848849415779114,\n",
       "  0.43933364748954773,\n",
       "  0.46607115864753723,\n",
       "  0.42361652851104736,\n",
       "  0.4134790003299713,\n",
       "  0.40981683135032654,\n",
       "  0.4109502136707306,\n",
       "  0.3988693654537201,\n",
       "  0.39114895462989807,\n",
       "  0.38544371724128723,\n",
       "  0.37553560733795166,\n",
       "  0.3725176453590393,\n",
       "  0.3839004337787628,\n",
       "  0.36795738339424133,\n",
       "  0.35990121960639954],\n",
       " 'val_main_output_loss': [0.5804021954536438,\n",
       "  0.5010350942611694,\n",
       "  0.4641657769680023,\n",
       "  0.4496398866176605,\n",
       "  0.4298609495162964,\n",
       "  0.42958736419677734,\n",
       "  0.4130898416042328,\n",
       "  0.44483286142349243,\n",
       "  0.4018933176994324,\n",
       "  0.39292261004447937,\n",
       "  0.3904336392879486,\n",
       "  0.3917815685272217,\n",
       "  0.380132794380188,\n",
       "  0.3731473684310913,\n",
       "  0.3679940104484558,\n",
       "  0.3581911325454712,\n",
       "  0.3555504083633423,\n",
       "  0.3684847056865692,\n",
       "  0.35286369919776917,\n",
       "  0.3451511263847351],\n",
       " 'val_aux_output_loss': [1.3869929313659668,\n",
       "  1.1409369707107544,\n",
       "  1.0063928365707397,\n",
       "  0.8802457451820374,\n",
       "  0.7853180766105652,\n",
       "  0.7185975909233093,\n",
       "  0.6755284667015076,\n",
       "  0.6572162508964539,\n",
       "  0.6191260814666748,\n",
       "  0.5984872579574585,\n",
       "  0.5842663049697876,\n",
       "  0.5834663510322571,\n",
       "  0.5674980282783508,\n",
       "  0.5531616806983948,\n",
       "  0.542492687702179,\n",
       "  0.5316346883773804,\n",
       "  0.5252217650413513,\n",
       "  0.5226419568061829,\n",
       "  0.503800630569458,\n",
       "  0.49265193939208984]}"
      ]
     },
     "execution_count": 70,
     "metadata": {},
     "output_type": "execute_result"
    }
   ],
   "source": [
    "historyf.history"
   ]
  },
  {
   "cell_type": "code",
   "execution_count": 71,
   "metadata": {},
   "outputs": [
    {
     "data": {
      "image/png": "[encoded data removed]",
      "text/plain": [
       "<Figure size 576x360 with 1 Axes>"
      ]
     },
     "metadata": {
      "needs_background": "light"
     },
     "output_type": "display_data"
    }
   ],
   "source": [
    "#plot the history of the model.fit\n",
    "pd.DataFrame(historyf.history).plot(figsize=(8, 5))\n",
    "plt.grid(True)\n",
    "plt.gca().set_ylim(0, 1) # set the vertical range to [0-1]\n",
    "plt.show()"
   ]
  },
  {
   "cell_type": "code",
   "execution_count": 72,
   "metadata": {},
   "outputs": [
    {
     "name": "stdout",
     "output_type": "stream",
     "text": [
      "162/162 [==============================] - 0s 587us/step - loss: 0.3481 - main_output_loss: 0.3358 - aux_output_loss: 0.4584\n"
     ]
    }
   ],
   "source": [
    "#Evaluate the model. We get the total, main and auxilliary loss\n",
    "total_loss, main_loss, aux_loss = modelf.evaluate(\n",
    "[X_test_A, X_test_B], [y_test, y_test])\n"
   ]
  },
  {
   "cell_type": "code",
   "execution_count": 73,
   "metadata": {},
   "outputs": [
    {
     "data": {
      "text/plain": [
       "array([[-1.24039684,  1.85651052, -1.18479864,  0.02780479,  0.21868947],\n",
       "       [-0.91035159,  0.03006794,  0.14425004,  0.13287403, -1.03794125],\n",
       "       [-0.64933199,  0.18888903, -0.38193366, -0.04918619,  0.06994543]])"
      ]
     },
     "execution_count": 73,
     "metadata": {},
     "output_type": "execute_result"
    }
   ],
   "source": [
    "#Test the model on data\n",
    "X_new_A = X_test_A[:3] # pretend these are new instances\n",
    "X_new_A"
   ]
  },
  {
   "cell_type": "code",
   "execution_count": 74,
   "metadata": {},
   "outputs": [
    {
     "data": {
      "text/plain": [
       "array([[-1.18479864,  0.02780479,  0.21868947, -0.0656273 ,  0.9898174 ,\n",
       "        -1.39763271],\n",
       "       [ 0.14425004,  0.13287403, -1.03794125, -0.11151379,  0.24129929,\n",
       "        -0.41326442],\n",
       "       [-0.38193366, -0.04918619,  0.06994543,  0.18199835, -1.13950741,\n",
       "         1.10306047]])"
      ]
     },
     "execution_count": 74,
     "metadata": {},
     "output_type": "execute_result"
    }
   ],
   "source": [
    "#Test the model on data\n",
    "X_new_B = X_test_B[:3] # pretend these are new instances\n",
    "X_new_B"
   ]
  },
  {
   "cell_type": "code",
   "execution_count": 75,
   "metadata": {},
   "outputs": [
    {
     "data": {
      "text/plain": [
       "(array([[2.4512868],\n",
       "        [1.3030148],\n",
       "        [1.0943751]], dtype=float32),\n",
       " array([[2.0715942],\n",
       "        [2.1153216],\n",
       "        [1.2926044]], dtype=float32))"
      ]
     },
     "execution_count": 75,
     "metadata": {},
     "output_type": "execute_result"
    }
   ],
   "source": [
    "#prediction of the model\n",
    "y_pred_main, y_pred_aux = modelf.predict([X_new_A, X_new_B])\n",
    "y_pred_main, y_pred_aux"
   ]
  },
  {
   "cell_type": "code",
   "execution_count": 76,
   "metadata": {},
   "outputs": [
    {
     "data": {
      "text/plain": [
       "array([2.375, 1.042, 1.033])"
      ]
     },
     "execution_count": 76,
     "metadata": {},
     "output_type": "execute_result"
    }
   ],
   "source": [
    "#Compare on the test data\n",
    "y_test[:3]"
   ]
  },
  {
   "cell_type": "markdown",
   "metadata": {},
   "source": [
    "### Subclassing API"
   ]
  },
  {
   "cell_type": "code",
   "execution_count": 77,
   "metadata": {},
   "outputs": [],
   "source": [
    "class WideAndDeepModel(keras.Model):\n",
    "    def __init__(self, units=30, activation=\"relu\", **kwargs):\n",
    "        super().__init__(**kwargs) # handles standard args (e.g., name)\n",
    "        self.hidden1 = keras.layers.Dense(units, activation=activation)\n",
    "        self.hidden2 = keras.layers.Dense(units, activation=activation)\n",
    "        self.main_output = keras.layers.Dense(1)\n",
    "        self.aux_output = keras.layers.Dense(1)\n",
    "        \n",
    "    def call(self, inputs):\n",
    "        input_A, input_B = inputs\n",
    "        hidden1 = self.hidden1(input_B)\n",
    "        hidden2 = self.hidden2(hidden1)\n",
    "        concat = keras.layers.concatenate([input_A, hidden2])\n",
    "        main_output = self.main_output(concat)\n",
    "        aux_output = self.aux_output(hidden2)\n",
    "        return main_output, aux_output\n",
    "    \n",
    "models = WideAndDeepModel()"
   ]
  },
  {
   "cell_type": "code",
   "execution_count": 78,
   "metadata": {},
   "outputs": [],
   "source": [
    "#When compiling pass different losses and weight more on the main output\n",
    "models.compile(loss=[\"mse\", \"mse\"], loss_weights=[0.9, 0.1],\n",
    "optimizer=\"sgd\")"
   ]
  },
  {
   "cell_type": "code",
   "execution_count": 79,
   "metadata": {},
   "outputs": [
    {
     "name": "stdout",
     "output_type": "stream",
     "text": [
      "Epoch 1/20\n",
      "363/363 [==============================] - 0s 1ms/step - loss: 0.9643 - output_1_loss: 0.8519 - output_2_loss: 1.9753 - val_loss: 0.6162 - val_output_1_loss: 0.5390 - val_output_2_loss: 1.3108\n",
      "Epoch 2/20\n",
      "363/363 [==============================] - 0s 785us/step - loss: 0.5890 - output_1_loss: 0.5178 - output_2_loss: 1.2296 - val_loss: 0.5454 - val_output_1_loss: 0.4859 - val_output_2_loss: 1.0808\n",
      "Epoch 3/20\n",
      "363/363 [==============================] - 0s 785us/step - loss: 0.5311 - output_1_loss: 0.4757 - output_2_loss: 1.0290 - val_loss: 0.5031 - val_output_1_loss: 0.4562 - val_output_2_loss: 0.9258\n",
      "Epoch 4/20\n",
      "363/363 [==============================] - 0s 790us/step - loss: 0.4980 - output_1_loss: 0.4542 - output_2_loss: 0.8924 - val_loss: 0.4729 - val_output_1_loss: 0.4344 - val_output_2_loss: 0.8192\n",
      "Epoch 5/20\n",
      "363/363 [==============================] - 0s 776us/step - loss: 0.4759 - output_1_loss: 0.4402 - output_2_loss: 0.7974 - val_loss: 0.4556 - val_output_1_loss: 0.4230 - val_output_2_loss: 0.7485\n",
      "Epoch 6/20\n",
      "363/363 [==============================] - 0s 776us/step - loss: 0.4599 - output_1_loss: 0.4289 - output_2_loss: 0.7388 - val_loss: 0.4453 - val_output_1_loss: 0.4169 - val_output_2_loss: 0.7010\n",
      "Epoch 7/20\n",
      "363/363 [==============================] - 0s 837us/step - loss: 0.4784 - output_1_loss: 0.4512 - output_2_loss: 0.7231 - val_loss: 0.4429 - val_output_1_loss: 0.4151 - val_output_2_loss: 0.6926\n",
      "Epoch 8/20\n",
      "363/363 [==============================] - 0s 771us/step - loss: 0.4815 - output_1_loss: 0.4588 - output_2_loss: 0.6862 - val_loss: 0.4277 - val_output_1_loss: 0.4032 - val_output_2_loss: 0.6477\n",
      "Epoch 9/20\n",
      "363/363 [==============================] - 0s 785us/step - loss: 0.4393 - output_1_loss: 0.4145 - output_2_loss: 0.6618 - val_loss: 0.4228 - val_output_1_loss: 0.3996 - val_output_2_loss: 0.6321\n",
      "Epoch 10/20\n",
      "363/363 [==============================] - 0s 793us/step - loss: 0.4314 - output_1_loss: 0.4084 - output_2_loss: 0.6390 - val_loss: 0.4118 - val_output_1_loss: 0.3903 - val_output_2_loss: 0.6048\n",
      "Epoch 11/20\n",
      "363/363 [==============================] - 0s 801us/step - loss: 0.4293 - output_1_loss: 0.4072 - output_2_loss: 0.6289 - val_loss: 0.4068 - val_output_1_loss: 0.3854 - val_output_2_loss: 0.5999\n",
      "Epoch 12/20\n",
      "363/363 [==============================] - 0s 785us/step - loss: 0.4205 - output_1_loss: 0.3991 - output_2_loss: 0.6133 - val_loss: 0.4103 - val_output_1_loss: 0.3905 - val_output_2_loss: 0.5888\n",
      "Epoch 13/20\n",
      "363/363 [==============================] - 0s 759us/step - loss: 0.4128 - output_1_loss: 0.3928 - output_2_loss: 0.5926 - val_loss: 0.3984 - val_output_1_loss: 0.3799 - val_output_2_loss: 0.5656\n",
      "Epoch 14/20\n",
      "363/363 [==============================] - 0s 760us/step - loss: 0.4063 - output_1_loss: 0.3867 - output_2_loss: 0.5828 - val_loss: 0.3897 - val_output_1_loss: 0.3718 - val_output_2_loss: 0.5500\n",
      "Epoch 15/20\n",
      "363/363 [==============================] - 0s 774us/step - loss: 0.4038 - output_1_loss: 0.3853 - output_2_loss: 0.5701 - val_loss: 0.3830 - val_output_1_loss: 0.3658 - val_output_2_loss: 0.5376\n",
      "Epoch 16/20\n",
      "363/363 [==============================] - 0s 752us/step - loss: 0.4026 - output_1_loss: 0.3849 - output_2_loss: 0.5619 - val_loss: 0.3796 - val_output_1_loss: 0.3631 - val_output_2_loss: 0.5279\n",
      "Epoch 17/20\n",
      "363/363 [==============================] - 0s 744us/step - loss: 0.4018 - output_1_loss: 0.3851 - output_2_loss: 0.5524 - val_loss: 0.3774 - val_output_1_loss: 0.3617 - val_output_2_loss: 0.5188\n",
      "Epoch 18/20\n",
      "363/363 [==============================] - 0s 767us/step - loss: 0.3889 - output_1_loss: 0.3724 - output_2_loss: 0.5377 - val_loss: 0.3750 - val_output_1_loss: 0.3600 - val_output_2_loss: 0.5101\n",
      "Epoch 19/20\n",
      "363/363 [==============================] - 0s 784us/step - loss: 0.3853 - output_1_loss: 0.3693 - output_2_loss: 0.5293 - val_loss: 0.3663 - val_output_1_loss: 0.3515 - val_output_2_loss: 0.5002\n",
      "Epoch 20/20\n",
      "363/363 [==============================] - 0s 746us/step - loss: 0.3821 - output_1_loss: 0.3665 - output_2_loss: 0.5228 - val_loss: 0.3822 - val_output_1_loss: 0.3680 - val_output_2_loss: 0.5095\n"
     ]
    }
   ],
   "source": [
    "#model_fit\n",
    "historys = models.fit(\n",
    "[X_train_A, X_train_B], [y_train, y_train], epochs=20,\n",
    "validation_data=([X_valid_A, X_valid_B], [y_valid, y_valid]))"
   ]
  },
  {
   "cell_type": "code",
   "execution_count": 80,
   "metadata": {},
   "outputs": [
    {
     "data": {
      "text/plain": [
       "{'loss': [0.9642778038978577,\n",
       "  0.5889749526977539,\n",
       "  0.5310696363449097,\n",
       "  0.49800267815589905,\n",
       "  0.47590628266334534,\n",
       "  0.45993760228157043,\n",
       "  0.4783773124217987,\n",
       "  0.48153090476989746,\n",
       "  0.4392613172531128,\n",
       "  0.4314245879650116,\n",
       "  0.42934688925743103,\n",
       "  0.4205339848995209,\n",
       "  0.4127883315086365,\n",
       "  0.40629953145980835,\n",
       "  0.4037931263446808,\n",
       "  0.40255987644195557,\n",
       "  0.40179532766342163,\n",
       "  0.3888910710811615,\n",
       "  0.38532888889312744,\n",
       "  0.3821048438549042],\n",
       " 'output_1_loss': [0.8519364595413208,\n",
       "  0.5177897810935974,\n",
       "  0.47574812173843384,\n",
       "  0.45417675375938416,\n",
       "  0.44018393754959106,\n",
       "  0.4289470314979553,\n",
       "  0.4511833190917969,\n",
       "  0.45879045128822327,\n",
       "  0.414529412984848,\n",
       "  0.408362478017807,\n",
       "  0.4071786105632782,\n",
       "  0.3991197943687439,\n",
       "  0.39281409978866577,\n",
       "  0.38668563961982727,\n",
       "  0.38531291484832764,\n",
       "  0.3848583996295929,\n",
       "  0.3850588798522949,\n",
       "  0.3723568320274353,\n",
       "  0.3693336248397827,\n",
       "  0.36647698283195496],\n",
       " 'output_2_loss': [1.9753490686416626,\n",
       "  1.2296403646469116,\n",
       "  1.0289645195007324,\n",
       "  0.8924359083175659,\n",
       "  0.7974072694778442,\n",
       "  0.738849937915802,\n",
       "  0.7231239080429077,\n",
       "  0.6861943006515503,\n",
       "  0.6618489027023315,\n",
       "  0.6389847993850708,\n",
       "  0.6288638710975647,\n",
       "  0.6132587194442749,\n",
       "  0.5925549268722534,\n",
       "  0.5828230977058411,\n",
       "  0.5701141357421875,\n",
       "  0.5618761777877808,\n",
       "  0.552424430847168,\n",
       "  0.5376989841461182,\n",
       "  0.5292866826057434,\n",
       "  0.5227565169334412],\n",
       " 'val_loss': [0.6161500215530396,\n",
       "  0.5454035997390747,\n",
       "  0.5031401515007019,\n",
       "  0.4729137122631073,\n",
       "  0.45555830001831055,\n",
       "  0.4453141689300537,\n",
       "  0.4428867995738983,\n",
       "  0.42769095301628113,\n",
       "  0.4228478968143463,\n",
       "  0.4117618501186371,\n",
       "  0.4068332314491272,\n",
       "  0.41033345460891724,\n",
       "  0.3984432816505432,\n",
       "  0.3896617591381073,\n",
       "  0.3829551339149475,\n",
       "  0.37957578897476196,\n",
       "  0.37741753458976746,\n",
       "  0.3750362992286682,\n",
       "  0.3663383722305298,\n",
       "  0.38217470049858093],\n",
       " 'val_output_1_loss': [0.5389672517776489,\n",
       "  0.4859127998352051,\n",
       "  0.45617637038230896,\n",
       "  0.43443411588668823,\n",
       "  0.4230123460292816,\n",
       "  0.4169023633003235,\n",
       "  0.4151451289653778,\n",
       "  0.4032459259033203,\n",
       "  0.3996011018753052,\n",
       "  0.3903157413005829,\n",
       "  0.3853805363178253,\n",
       "  0.39050549268722534,\n",
       "  0.37986940145492554,\n",
       "  0.3718472123146057,\n",
       "  0.36577320098876953,\n",
       "  0.3630954623222351,\n",
       "  0.36170363426208496,\n",
       "  0.36002635955810547,\n",
       "  0.35146066546440125,\n",
       "  0.3680219352245331],\n",
       " 'val_output_2_loss': [1.3107945919036865,\n",
       "  1.0808216333389282,\n",
       "  0.9258150458335876,\n",
       "  0.8192296028137207,\n",
       "  0.7484737038612366,\n",
       "  0.701020359992981,\n",
       "  0.6925624012947083,\n",
       "  0.6476967334747314,\n",
       "  0.6320693492889404,\n",
       "  0.6047765016555786,\n",
       "  0.5999082326889038,\n",
       "  0.5887843370437622,\n",
       "  0.5656092762947083,\n",
       "  0.5499933362007141,\n",
       "  0.5375931859016418,\n",
       "  0.5278982520103455,\n",
       "  0.5188430547714233,\n",
       "  0.5101261138916016,\n",
       "  0.5002385377883911,\n",
       "  0.5095491409301758]}"
      ]
     },
     "execution_count": 80,
     "metadata": {},
     "output_type": "execute_result"
    }
   ],
   "source": [
    "historys.history"
   ]
  },
  {
   "cell_type": "code",
   "execution_count": 81,
   "metadata": {},
   "outputs": [
    {
     "data": {
      "image/png": "[encoded data removed]",
      "text/plain": [
       "<Figure size 576x360 with 1 Axes>"
      ]
     },
     "metadata": {
      "needs_background": "light"
     },
     "output_type": "display_data"
    }
   ],
   "source": [
    "#plot the history of the model.fit\n",
    "pd.DataFrame(historys.history).plot(figsize=(8, 5))\n",
    "plt.grid(True)\n",
    "plt.gca().set_ylim(0, 1) # set the vertical range to [0-1]\n",
    "plt.show()"
   ]
  },
  {
   "cell_type": "code",
   "execution_count": 82,
   "metadata": {},
   "outputs": [
    {
     "name": "stdout",
     "output_type": "stream",
     "text": [
      "162/162 [==============================] - 0s 544us/step - loss: 0.3552 - output_1_loss: 0.3418 - output_2_loss: 0.4753\n"
     ]
    }
   ],
   "source": [
    "#Evaluate the model. We get the total, main and auxilliary loss\n",
    "total_loss, main_loss, aux_loss = models.evaluate(\n",
    "[X_test_A, X_test_B], [y_test, y_test])"
   ]
  },
  {
   "cell_type": "code",
   "execution_count": 83,
   "metadata": {},
   "outputs": [],
   "source": [
    "#Saving the functionl API Model\n",
    "model.save(\"sequential_model.h5\")\n",
    "modelf.save(\"functional_model.h5\")\n",
    "modelu.save(\"functional_model_auxilliary.h5\")"
   ]
  },
  {
   "cell_type": "markdown",
   "metadata": {},
   "source": [
    "### Using Callbacks"
   ]
  },
  {
   "cell_type": "code",
   "execution_count": 84,
   "metadata": {},
   "outputs": [],
   "source": [
    "#Import the saved model\n",
    "checkpoint_cb = keras.callbacks.ModelCheckpoint(\"functional_model_auxilliary.h5\")"
   ]
  },
  {
   "cell_type": "code",
   "execution_count": 85,
   "metadata": {},
   "outputs": [
    {
     "name": "stdout",
     "output_type": "stream",
     "text": [
      "Epoch 1/10\n",
      "363/363 [==============================] - 0s 515us/step - loss: 0.3733\n",
      "Epoch 2/10\n",
      "363/363 [==============================] - 0s 522us/step - loss: 0.3643\n",
      "Epoch 3/10\n",
      "363/363 [==============================] - 0s 530us/step - loss: 0.3676\n",
      "Epoch 4/10\n",
      "363/363 [==============================] - 0s 501us/step - loss: 0.3634\n",
      "Epoch 5/10\n",
      "363/363 [==============================] - 0s 558us/step - loss: 0.3622\n",
      "Epoch 6/10\n",
      "363/363 [==============================] - 0s 551us/step - loss: 0.3562\n",
      "Epoch 7/10\n",
      "363/363 [==============================] - 0s 551us/step - loss: 0.3559\n",
      "Epoch 8/10\n",
      "363/363 [==============================] - 0s 524us/step - loss: 0.3546\n",
      "Epoch 9/10\n",
      "363/363 [==============================] - 0s 518us/step - loss: 0.3543\n",
      "Epoch 10/10\n",
      "363/363 [==============================] - 0s 579us/step - loss: 0.3522\n"
     ]
    }
   ],
   "source": [
    "#Obtain the history by calling back the checkpoiints\n",
    "history = model.fit(X_train, y_train, epochs=10, callbacks=\n",
    "[checkpoint_cb])\n"
   ]
  },
  {
   "cell_type": "code",
   "execution_count": 86,
   "metadata": {},
   "outputs": [
    {
     "data": {
      "image/png": "[encoded data removed]",
      "text/plain": [
       "<Figure size 576x360 with 1 Axes>"
      ]
     },
     "metadata": {
      "needs_background": "light"
     },
     "output_type": "display_data"
    }
   ],
   "source": [
    "#plot the history of the model.fit\n",
    "pd.DataFrame(history.history).plot(figsize=(8, 5))\n",
    "plt.grid(True)\n",
    "plt.gca().set_ylim(0, 1) # set the vertical range to [0-1]\n",
    "plt.show()"
   ]
  },
  {
   "cell_type": "code",
   "execution_count": 87,
   "metadata": {},
   "outputs": [],
   "source": [
    "#Incase you used the validation set save_best_only() saves the model when validation perfomes the best\n",
    "checkpoint_cb = keras.callbacks.ModelCheckpoint(\"functional_model_auxilliary.h5\",save_best_only=True)"
   ]
  },
  {
   "cell_type": "code",
   "execution_count": 88,
   "metadata": {},
   "outputs": [
    {
     "name": "stdout",
     "output_type": "stream",
     "text": [
      "Epoch 1/10\n",
      "278/363 [=====================>........] - ETA: 0s - loss: 0.3562WARNING:tensorflow:Callbacks method `on_test_batch_end` is slow compared to the batch time (batch time: 0.0000s vs `on_test_batch_end` time: 0.0010s). Check your callbacks.\n",
      "363/363 [==============================] - 0s 809us/step - loss: 0.3578 - val_loss: 0.3669\n",
      "Epoch 2/10\n",
      "363/363 [==============================] - 0s 675us/step - loss: 0.3557 - val_loss: 0.3494\n",
      "Epoch 3/10\n",
      "363/363 [==============================] - 0s 662us/step - loss: 0.3519 - val_loss: 0.3484\n",
      "Epoch 4/10\n",
      "363/363 [==============================] - 0s 667us/step - loss: 0.3480 - val_loss: 0.3450\n",
      "Epoch 5/10\n",
      "363/363 [==============================] - 0s 618us/step - loss: 0.3477 - val_loss: 0.3520\n",
      "Epoch 6/10\n",
      "363/363 [==============================] - 0s 597us/step - loss: 0.3449 - val_loss: 0.3452\n",
      "Epoch 7/10\n",
      "363/363 [==============================] - 0s 608us/step - loss: 0.3479 - val_loss: 0.3453\n",
      "Epoch 8/10\n",
      "363/363 [==============================] - 0s 606us/step - loss: 0.3476 - val_loss: 0.3471\n",
      "Epoch 9/10\n",
      "363/363 [==============================] - 0s 644us/step - loss: 0.3443 - val_loss: 0.3415\n",
      "Epoch 10/10\n",
      "363/363 [==============================] - 0s 615us/step - loss: 0.3453 - val_loss: 0.3487\n"
     ]
    }
   ],
   "source": [
    "history = model.fit(X_train, y_train, epochs=10,\n",
    "validation_data=(X_valid, y_valid),\n",
    "callbacks=[checkpoint_cb])\n"
   ]
  },
  {
   "cell_type": "code",
   "execution_count": 89,
   "metadata": {},
   "outputs": [
    {
     "data": {
      "image/png": "[encoded data removed]",
      "text/plain": [
       "<Figure size 576x360 with 1 Axes>"
      ]
     },
     "metadata": {
      "needs_background": "light"
     },
     "output_type": "display_data"
    }
   ],
   "source": [
    "#plot the history of the model.fit\n",
    "pd.DataFrame(history.history).plot(figsize=(8, 5))\n",
    "plt.grid(True)\n",
    "plt.gca().set_ylim(0, 1) # set the vertical range to [0-1]\n",
    "plt.show()"
   ]
  },
  {
   "cell_type": "code",
   "execution_count": 90,
   "metadata": {},
   "outputs": [],
   "source": [
    "#To roll bac to the best model we use;\n",
    "model = keras.models.load_model(\"functional_model_auxilliary.h5\")"
   ]
  },
  {
   "cell_type": "code",
   "execution_count": 91,
   "metadata": {},
   "outputs": [],
   "source": [
    "#Apply early stopping in case of no change in the validation set\n",
    "early_stopping_cb = keras.callbacks.EarlyStopping(patience=10,\n",
    "restore_best_weights=True)\n"
   ]
  },
  {
   "cell_type": "code",
   "execution_count": 92,
   "metadata": {},
   "outputs": [
    {
     "name": "stdout",
     "output_type": "stream",
     "text": [
      "Epoch 1/300\n",
      "363/363 [==============================] - 0s 865us/step - loss: 0.3443 - val_loss: 0.3455\n",
      "Epoch 2/300\n",
      "363/363 [==============================] - 0s 634us/step - loss: 0.3464 - val_loss: 0.3440\n",
      "Epoch 3/300\n",
      "363/363 [==============================] - 0s 666us/step - loss: 0.3414 - val_loss: 0.3383\n",
      "Epoch 4/300\n",
      "363/363 [==============================] - 0s 619us/step - loss: 0.3390 - val_loss: 0.3408\n",
      "Epoch 5/300\n",
      "363/363 [==============================] - 0s 614us/step - loss: 0.3403 - val_loss: 0.3390\n",
      "Epoch 6/300\n",
      "363/363 [==============================] - 0s 617us/step - loss: 0.3387 - val_loss: 0.3386\n",
      "Epoch 7/300\n",
      "363/363 [==============================] - 0s 624us/step - loss: 0.3374 - val_loss: 0.3501\n",
      "Epoch 8/300\n",
      "363/363 [==============================] - 0s 630us/step - loss: 0.3375 - val_loss: 0.3435\n",
      "Epoch 9/300\n",
      "363/363 [==============================] - 0s 704us/step - loss: 0.3367 - val_loss: 0.3374\n",
      "Epoch 10/300\n",
      "363/363 [==============================] - 0s 636us/step - loss: 0.3361 - val_loss: 0.3399\n",
      "Epoch 11/300\n",
      "363/363 [==============================] - 0s 612us/step - loss: 0.3336 - val_loss: 0.3427\n",
      "Epoch 12/300\n",
      "363/363 [==============================] - 0s 614us/step - loss: 0.3340 - val_loss: 0.3417\n",
      "Epoch 13/300\n",
      "363/363 [==============================] - 0s 705us/step - loss: 0.3350 - val_loss: 0.3363\n",
      "Epoch 14/300\n",
      "363/363 [==============================] - 0s 705us/step - loss: 0.3327 - val_loss: 0.3352\n",
      "Epoch 15/300\n",
      "363/363 [==============================] - 0s 694us/step - loss: 0.3330 - val_loss: 0.3305\n",
      "Epoch 16/300\n",
      "363/363 [==============================] - 0s 682us/step - loss: 0.3311 - val_loss: 0.3267\n",
      "Epoch 17/300\n",
      "363/363 [==============================] - 0s 668us/step - loss: 0.3304 - val_loss: 0.3257\n",
      "Epoch 18/300\n",
      "363/363 [==============================] - 0s 635us/step - loss: 0.3291 - val_loss: 0.3273\n",
      "Epoch 19/300\n",
      "363/363 [==============================] - 0s 622us/step - loss: 0.3317 - val_loss: 0.3311\n",
      "Epoch 20/300\n",
      "363/363 [==============================] - 0s 597us/step - loss: 0.3299 - val_loss: 0.3302\n",
      "Epoch 21/300\n",
      "363/363 [==============================] - 0s 602us/step - loss: 0.3282 - val_loss: 0.3317\n",
      "Epoch 22/300\n",
      "363/363 [==============================] - 0s 615us/step - loss: 0.3294 - val_loss: 0.3260\n",
      "Epoch 23/300\n",
      "363/363 [==============================] - 0s 620us/step - loss: 0.3301 - val_loss: 0.3263\n",
      "Epoch 24/300\n",
      "363/363 [==============================] - 0s 647us/step - loss: 0.3306 - val_loss: 0.3291\n",
      "Epoch 25/300\n",
      "363/363 [==============================] - 0s 653us/step - loss: 0.3273 - val_loss: 0.3231\n",
      "Epoch 26/300\n",
      "363/363 [==============================] - 0s 626us/step - loss: 0.3249 - val_loss: 0.3278\n",
      "Epoch 27/300\n",
      "363/363 [==============================] - 0s 617us/step - loss: 0.3282 - val_loss: 0.3257\n",
      "Epoch 28/300\n",
      "363/363 [==============================] - 0s 609us/step - loss: 0.3282 - val_loss: 0.3364\n",
      "Epoch 29/300\n",
      "363/363 [==============================] - 0s 600us/step - loss: 0.3275 - val_loss: 0.3308\n",
      "Epoch 30/300\n",
      "363/363 [==============================] - 0s 600us/step - loss: 0.3272 - val_loss: 0.3253\n",
      "Epoch 31/300\n",
      "363/363 [==============================] - 0s 606us/step - loss: 0.3250 - val_loss: 0.3252\n",
      "Epoch 32/300\n",
      "363/363 [==============================] - 0s 603us/step - loss: 0.3257 - val_loss: 0.3354\n",
      "Epoch 33/300\n",
      "363/363 [==============================] - 0s 729us/step - loss: 0.3248 - val_loss: 0.3210\n",
      "Epoch 34/300\n",
      "363/363 [==============================] - 0s 643us/step - loss: 0.3232 - val_loss: 0.3235\n",
      "Epoch 35/300\n",
      "363/363 [==============================] - 0s 635us/step - loss: 0.3225 - val_loss: 0.3276\n",
      "Epoch 36/300\n",
      "363/363 [==============================] - 0s 673us/step - loss: 0.3227 - val_loss: 0.3209\n",
      "Epoch 37/300\n",
      "363/363 [==============================] - 0s 712us/step - loss: 0.3217 - val_loss: 0.3194\n",
      "Epoch 38/300\n",
      "363/363 [==============================] - 0s 629us/step - loss: 0.3209 - val_loss: 0.3259\n",
      "Epoch 39/300\n",
      "363/363 [==============================] - 0s 643us/step - loss: 0.3207 - val_loss: 0.3194\n",
      "Epoch 40/300\n",
      "363/363 [==============================] - 0s 640us/step - loss: 0.3213 - val_loss: 0.3235\n",
      "Epoch 41/300\n",
      "363/363 [==============================] - 0s 674us/step - loss: 0.3211 - val_loss: 0.3211\n",
      "Epoch 42/300\n",
      "363/363 [==============================] - 0s 655us/step - loss: 0.3204 - val_loss: 0.3198\n",
      "Epoch 43/300\n",
      "363/363 [==============================] - 0s 669us/step - loss: 0.3201 - val_loss: 0.3261\n",
      "Epoch 44/300\n",
      "363/363 [==============================] - 0s 655us/step - loss: 0.3209 - val_loss: 0.3230\n",
      "Epoch 45/300\n",
      "363/363 [==============================] - 0s 617us/step - loss: 0.3196 - val_loss: 0.3382\n",
      "Epoch 46/300\n",
      "363/363 [==============================] - 0s 592us/step - loss: 0.3201 - val_loss: 0.3204\n",
      "Epoch 47/300\n",
      "363/363 [==============================] - 0s 589us/step - loss: 0.3192 - val_loss: 0.3215\n"
     ]
    }
   ],
   "source": [
    "history = model.fit(X_train, y_train, epochs=300,\n",
    "validation_data=(X_valid, y_valid),\n",
    "callbacks=[checkpoint_cb, early_stopping_cb])"
   ]
  },
  {
   "cell_type": "code",
   "execution_count": 93,
   "metadata": {},
   "outputs": [
    {
     "data": {
      "image/png": "[encoded data removed]",
      "text/plain": [
       "<Figure size 576x360 with 1 Axes>"
      ]
     },
     "metadata": {
      "needs_background": "light"
     },
     "output_type": "display_data"
    }
   ],
   "source": [
    "#plot the history of the model.fit\n",
    "pd.DataFrame(history.history).plot(figsize=(8, 5))\n",
    "plt.grid(True)\n",
    "plt.gca().set_ylim(0, 1) # set the vertical range to [0-1]\n",
    "plt.show()"
   ]
  },
  {
   "cell_type": "code",
   "execution_count": 94,
   "metadata": {},
   "outputs": [],
   "source": [
    "#Implementing a personal call back training\n",
    "class PrintValTrainRatioCallback(keras.callbacks.Callback):\n",
    "    def on_epoch_end(self, epoch, logs):\n",
    "        print(\"\\nval/train: {:.2f}\".format(logs[\"val_loss\"] /logs[\"loss\"]))\n"
   ]
  },
  {
   "cell_type": "markdown",
   "metadata": {},
   "source": [
    "### Tensorboard"
   ]
  },
  {
   "cell_type": "code",
   "execution_count": 95,
   "metadata": {},
   "outputs": [],
   "source": [
    "#Creating the root directory where tensorboard writes the logs\n",
    "import os\n",
    "root_logdir = os.path.join(os.curdir, \"my_logs\")"
   ]
  },
  {
   "cell_type": "code",
   "execution_count": 96,
   "metadata": {},
   "outputs": [],
   "source": [
    "def get_run_logdir():\n",
    "    import time\n",
    "    run_id = time.strftime(\"run_%Y_%m_%d-%H_%M_%S\")\n",
    "    return os.path.join(root_logdir, run_id)\n",
    "run_logdir = get_run_logdir() # e.g., './my_logs/run_2019_06_07-15_15_22"
   ]
  },
  {
   "cell_type": "code",
   "execution_count": 97,
   "metadata": {},
   "outputs": [],
   "source": [
    "#Callback provided by tebsor board \n",
    "tensorboard_cb = keras.callbacks.TensorBoard(run_logdir)"
   ]
  },
  {
   "cell_type": "code",
   "execution_count": 98,
   "metadata": {},
   "outputs": [
    {
     "name": "stdout",
     "output_type": "stream",
     "text": [
      "Epoch 1/30\n",
      "  1/363 [..............................] - ETA: 0s - loss: 0.4575WARNING:tensorflow:From C:\\Users\\Rogers\\anaconda3\\envs\\tb\\lib\\site-packages\\tensorflow\\python\\ops\\summary_ops_v2.py:1277: stop (from tensorflow.python.eager.profiler) is deprecated and will be removed after 2020-07-01.\n",
      "Instructions for updating:\n",
      "use `tf.profiler.experimental.stop` instead.\n",
      "  2/363 [..............................] - ETA: 53s - loss: 0.3597WARNING:tensorflow:Callbacks method `on_train_batch_end` is slow compared to the batch time (batch time: 0.0020s vs `on_train_batch_end` time: 0.2992s). Check your callbacks.\n",
      "363/363 [==============================] - 1s 2ms/step - loss: 0.3211 - val_loss: 0.3232\n",
      "Epoch 2/30\n",
      "363/363 [==============================] - 0s 860us/step - loss: 0.3203 - val_loss: 0.3220\n",
      "Epoch 3/30\n",
      "363/363 [==============================] - 0s 820us/step - loss: 0.3233 - val_loss: 0.3298\n",
      "Epoch 4/30\n",
      "363/363 [==============================] - 0s 841us/step - loss: 0.3236 - val_loss: 0.3263\n",
      "Epoch 5/30\n",
      "363/363 [==============================] - 0s 869us/step - loss: 0.3216 - val_loss: 0.3232\n",
      "Epoch 6/30\n",
      "363/363 [==============================] - 0s 838us/step - loss: 0.3190 - val_loss: 0.3297\n",
      "Epoch 7/30\n",
      "363/363 [==============================] - 0s 838us/step - loss: 0.3209 - val_loss: 0.3209\n",
      "Epoch 8/30\n",
      "363/363 [==============================] - 0s 812us/step - loss: 0.3220 - val_loss: 0.3312\n",
      "Epoch 9/30\n",
      "363/363 [==============================] - 0s 887us/step - loss: 0.3187 - val_loss: 0.3229\n",
      "Epoch 10/30\n",
      "363/363 [==============================] - 0s 886us/step - loss: 0.3204 - val_loss: 0.3210\n",
      "Epoch 11/30\n",
      "363/363 [==============================] - 0s 862us/step - loss: 0.3206 - val_loss: 0.3248\n",
      "Epoch 12/30\n",
      "363/363 [==============================] - 0s 935us/step - loss: 0.3238 - val_loss: 0.3231\n",
      "Epoch 13/30\n",
      "363/363 [==============================] - 0s 824us/step - loss: 0.3205 - val_loss: 0.3191\n",
      "Epoch 14/30\n",
      "363/363 [==============================] - 0s 852us/step - loss: 0.3207 - val_loss: 0.3228\n",
      "Epoch 15/30\n",
      "363/363 [==============================] - 0s 857us/step - loss: 0.3481 - val_loss: 0.3317\n",
      "Epoch 16/30\n",
      "363/363 [==============================] - 0s 860us/step - loss: 0.3361 - val_loss: 0.3209\n",
      "Epoch 17/30\n",
      "363/363 [==============================] - 0s 1ms/step - loss: 0.3196 - val_loss: 0.3260\n",
      "Epoch 18/30\n",
      "363/363 [==============================] - 0s 957us/step - loss: 0.3182 - val_loss: 0.3251\n",
      "Epoch 19/30\n",
      "363/363 [==============================] - 0s 846us/step - loss: 0.3191 - val_loss: 0.3183\n",
      "Epoch 20/30\n",
      "363/363 [==============================] - 0s 854us/step - loss: 0.3189 - val_loss: 0.3230\n",
      "Epoch 21/30\n",
      "363/363 [==============================] - 0s 847us/step - loss: 0.3173 - val_loss: 0.3179\n",
      "Epoch 22/30\n",
      "363/363 [==============================] - 0s 850us/step - loss: 0.3184 - val_loss: 0.3268\n",
      "Epoch 23/30\n",
      "363/363 [==============================] - 0s 820us/step - loss: 0.3174 - val_loss: 0.3277\n",
      "Epoch 24/30\n",
      "363/363 [==============================] - 0s 818us/step - loss: 0.3172 - val_loss: 0.3164\n",
      "Epoch 25/30\n",
      "363/363 [==============================] - 0s 839us/step - loss: 0.3166 - val_loss: 0.3155\n",
      "Epoch 26/30\n",
      "363/363 [==============================] - 0s 862us/step - loss: 0.3163 - val_loss: 0.3223\n",
      "Epoch 27/30\n",
      "363/363 [==============================] - 0s 840us/step - loss: 0.3156 - val_loss: 0.3173\n",
      "Epoch 28/30\n",
      "363/363 [==============================] - 0s 868us/step - loss: 0.3164 - val_loss: 0.3163\n",
      "Epoch 29/30\n",
      "363/363 [==============================] - 0s 910us/step - loss: 0.3156 - val_loss: 0.3238\n",
      "Epoch 30/30\n",
      "363/363 [==============================] - 0s 839us/step - loss: 0.3165 - val_loss: 0.3168\n"
     ]
    }
   ],
   "source": [
    "history = model.fit(X_train, y_train, epochs=30,\n",
    "validation_data=(X_valid, y_valid),\n",
    "callbacks=[tensorboard_cb])\n"
   ]
  },
  {
   "cell_type": "code",
   "execution_count": 99,
   "metadata": {
    "scrolled": true
   },
   "outputs": [
    {
     "data": {
      "text/plain": [
       "Reusing TensorBoard on port 6006 (pid 17876), started 0:40:58 ago. (Use '!kill 17876' to kill it.)"
      ]
     },
     "metadata": {},
     "output_type": "display_data"
    },
    {
     "data": {
      "text/html": [
       "\n",
       "      <iframe id=\"tensorboard-frame-bde11d5203eb17df\" width=\"100%\" height=\"800\" frameborder=\"0\">\n",
       "      </iframe>\n",
       "      <script>\n",
       "        (function() {\n",
       "          const frame = document.getElementById(\"tensorboard-frame-bde11d5203eb17df\");\n",
       "          const url = new URL(\"/\", window.location);\n",
       "          const port = 6006;\n",
       "          if (port) {\n",
       "            url.port = port;\n",
       "          }\n",
       "          frame.src = url;\n",
       "        })();\n",
       "      </script>\n",
       "    "
      ],
      "text/plain": [
       "<IPython.core.display.HTML object>"
      ]
     },
     "metadata": {},
     "output_type": "display_data"
    }
   ],
   "source": [
    "%reload_ext tensorboard\n",
    "%tensorboard --logdir=./Documents/Projects/my_logs --port=6006"
   ]
  },
  {
   "cell_type": "code",
   "execution_count": null,
   "metadata": {},
   "outputs": [],
   "source": []
  },
  {
   "cell_type": "code",
   "execution_count": 100,
   "metadata": {},
   "outputs": [
    {
     "name": "stdout",
     "output_type": "stream",
     "text": [
      "C:\\Users\\Rogers\n"
     ]
    }
   ],
   "source": [
    "cd"
   ]
  },
  {
   "cell_type": "code",
   "execution_count": 101,
   "metadata": {},
   "outputs": [],
   "source": [
    "test_logdir = get_run_logdir()\n",
    "writer = tf.summary.create_file_writer(test_logdir)\n",
    "with writer.as_default():\n",
    "    for step in range(1, 1000 + 1):\n",
    "        tf.summary.scalar(\"my_scalar\", np.sin(step / 10), step=step)\n",
    "        data = (np.random.randn(100) + 2) * step / 100 # some random data\n",
    "        tf.summary.histogram(\"my_hist\", data, buckets=50, step=step)\n",
    "        images = np.random.rand(2, 32, 32, 3) # random 32×32 RGB images\n",
    "        tf.summary.image(\"my_images\", images * step / 1000, step=step)\n",
    "        texts = [\"The step is \" + str(step), \"Its square is \" +str(step**2)]\n",
    "        tf.summary.text(\"my_text\", texts, step=step)\n",
    "        sine_wave = tf.math.sin(tf.range(12000) / 48000 * 2 * np.pi *\n",
    "        step)\n",
    "        audio = tf.reshape(tf.cast(sine_wave, tf.float32), [1, -1, 1])\n",
    "        tf.summary.audio(\"my_audio\", audio, sample_rate=48000, step=step)"
   ]
  },
  {
   "cell_type": "code",
   "execution_count": 102,
   "metadata": {},
   "outputs": [
    {
     "name": "stdout",
     "output_type": "stream",
     "text": [
      "Epoch 1/100\n",
      "  2/363 [..............................] - ETA: 43s - loss: 0.3030WARNING:tensorflow:Callbacks method `on_train_batch_end` is slow compared to the batch time (batch time: 0.0010s vs `on_train_batch_end` time: 0.2457s). Check your callbacks.\n",
      "363/363 [==============================] - 1s 2ms/step - loss: 0.3151 - val_loss: 0.3186\n",
      "Epoch 2/100\n",
      "363/363 [==============================] - 0s 1ms/step - loss: 0.3154 - val_loss: 0.3158\n",
      "Epoch 3/100\n",
      "363/363 [==============================] - 0s 799us/step - loss: 0.3155 - val_loss: 0.3193\n",
      "Epoch 4/100\n",
      "363/363 [==============================] - 0s 834us/step - loss: 0.3153 - val_loss: 0.3178\n",
      "Epoch 5/100\n",
      "363/363 [==============================] - 0s 845us/step - loss: 0.3147 - val_loss: 0.3215\n",
      "Epoch 6/100\n",
      "363/363 [==============================] - 0s 833us/step - loss: 0.3154 - val_loss: 0.3185\n",
      "Epoch 7/100\n",
      "363/363 [==============================] - 0s 901us/step - loss: 0.3148 - val_loss: 0.3198\n",
      "Epoch 8/100\n",
      "363/363 [==============================] - 0s 864us/step - loss: 0.3147 - val_loss: 0.3172\n",
      "Epoch 9/100\n",
      "363/363 [==============================] - 0s 839us/step - loss: 0.3144 - val_loss: 0.3158\n",
      "Epoch 10/100\n",
      "363/363 [==============================] - 0s 834us/step - loss: 0.3153 - val_loss: 0.3139\n",
      "Epoch 11/100\n",
      "363/363 [==============================] - 0s 780us/step - loss: 0.3133 - val_loss: 0.3143\n",
      "Epoch 12/100\n",
      "363/363 [==============================] - 0s 791us/step - loss: 0.3144 - val_loss: 0.3195\n",
      "Epoch 13/100\n",
      "363/363 [==============================] - 0s 796us/step - loss: 0.3132 - val_loss: 0.3191\n",
      "Epoch 14/100\n",
      "363/363 [==============================] - 0s 790us/step - loss: 0.3123 - val_loss: 0.3267\n",
      "Epoch 15/100\n",
      "363/363 [==============================] - 0s 730us/step - loss: 0.3136 - val_loss: 0.3168\n",
      "Epoch 16/100\n",
      "363/363 [==============================] - 0s 752us/step - loss: 0.3123 - val_loss: 0.3230\n",
      "Epoch 17/100\n",
      "363/363 [==============================] - 0s 797us/step - loss: 0.3156 - val_loss: 0.3162\n",
      "Epoch 18/100\n",
      "363/363 [==============================] - 0s 810us/step - loss: 0.3128 - val_loss: 0.3151\n",
      "Epoch 19/100\n",
      "363/363 [==============================] - 0s 752us/step - loss: 0.3141 - val_loss: 0.3225\n",
      "Epoch 20/100\n",
      "363/363 [==============================] - 0s 728us/step - loss: 0.3122 - val_loss: 0.3122\n",
      "Epoch 21/100\n",
      "363/363 [==============================] - 0s 776us/step - loss: 0.3127 - val_loss: 0.3285\n",
      "Epoch 22/100\n",
      "363/363 [==============================] - 0s 791us/step - loss: 0.3116 - val_loss: 0.3227\n",
      "Epoch 23/100\n",
      "363/363 [==============================] - 0s 825us/step - loss: 0.3138 - val_loss: 0.3181\n",
      "Epoch 24/100\n",
      "363/363 [==============================] - 0s 813us/step - loss: 0.3125 - val_loss: 0.3208\n",
      "Epoch 25/100\n",
      "363/363 [==============================] - 0s 802us/step - loss: 0.3126 - val_loss: 0.3162\n",
      "Epoch 26/100\n",
      "363/363 [==============================] - 0s 730us/step - loss: 0.3131 - val_loss: 0.3166\n",
      "Epoch 27/100\n",
      "363/363 [==============================] - 0s 769us/step - loss: 0.3125 - val_loss: 0.3140\n",
      "Epoch 28/100\n",
      "363/363 [==============================] - 0s 777us/step - loss: 0.3118 - val_loss: 0.3155\n",
      "Epoch 29/100\n",
      "363/363 [==============================] - 0s 788us/step - loss: 0.3150 - val_loss: 0.3198\n",
      "Epoch 30/100\n",
      "363/363 [==============================] - 0s 802us/step - loss: 0.3127 - val_loss: 0.3144\n",
      "Epoch 31/100\n",
      "363/363 [==============================] - 0s 779us/step - loss: 0.3122 - val_loss: 0.3271\n",
      "Epoch 32/100\n",
      "363/363 [==============================] - 0s 802us/step - loss: 0.3139 - val_loss: 0.3214\n",
      "Epoch 33/100\n",
      "363/363 [==============================] - 0s 779us/step - loss: 0.3220 - val_loss: 0.3243\n",
      "Epoch 34/100\n",
      "363/363 [==============================] - 0s 860us/step - loss: 0.3135 - val_loss: 0.3164\n",
      "Epoch 35/100\n",
      "363/363 [==============================] - 0s 835us/step - loss: 0.3138 - val_loss: 0.3154\n",
      "Epoch 36/100\n",
      "363/363 [==============================] - 0s 833us/step - loss: 0.3123 - val_loss: 0.3156\n",
      "Epoch 37/100\n",
      "363/363 [==============================] - 0s 911us/step - loss: 0.3134 - val_loss: 0.3200\n",
      "Epoch 38/100\n",
      "363/363 [==============================] - 0s 804us/step - loss: 0.3109 - val_loss: 0.3184\n",
      "Epoch 39/100\n",
      "363/363 [==============================] - 0s 835us/step - loss: 0.3103 - val_loss: 0.3201\n",
      "Epoch 40/100\n",
      "363/363 [==============================] - 0s 795us/step - loss: 0.3101 - val_loss: 0.3276\n",
      "Epoch 41/100\n",
      "363/363 [==============================] - 0s 803us/step - loss: 0.3089 - val_loss: 0.3240\n",
      "Epoch 42/100\n",
      "363/363 [==============================] - 0s 809us/step - loss: 0.3096 - val_loss: 0.3235\n",
      "Epoch 43/100\n",
      "363/363 [==============================] - 0s 795us/step - loss: 0.3101 - val_loss: 0.3269\n",
      "Epoch 44/100\n",
      "363/363 [==============================] - 0s 769us/step - loss: 0.3120 - val_loss: 0.3342\n",
      "Epoch 45/100\n",
      "363/363 [==============================] - 0s 798us/step - loss: 0.3103 - val_loss: 0.3127\n",
      "Epoch 46/100\n",
      "363/363 [==============================] - 0s 833us/step - loss: 0.3094 - val_loss: 0.3153\n",
      "Epoch 47/100\n",
      "363/363 [==============================] - 0s 790us/step - loss: 0.3097 - val_loss: 0.3177\n",
      "Epoch 48/100\n",
      "363/363 [==============================] - 0s 771us/step - loss: 0.3092 - val_loss: 0.3126\n",
      "Epoch 49/100\n",
      "363/363 [==============================] - 0s 753us/step - loss: 0.3101 - val_loss: 0.3182\n",
      "Epoch 50/100\n",
      "363/363 [==============================] - 0s 850us/step - loss: 0.3086 - val_loss: 0.3167\n",
      "Epoch 51/100\n",
      "363/363 [==============================] - 0s 790us/step - loss: 0.3076 - val_loss: 0.3214\n",
      "Epoch 52/100\n",
      "363/363 [==============================] - 0s 726us/step - loss: 0.3075 - val_loss: 0.3157\n",
      "Epoch 53/100\n",
      "363/363 [==============================] - 0s 751us/step - loss: 0.3099 - val_loss: 0.3192\n",
      "Epoch 54/100\n",
      "363/363 [==============================] - 0s 813us/step - loss: 0.3084 - val_loss: 0.3246\n",
      "Epoch 55/100\n",
      "363/363 [==============================] - 0s 877us/step - loss: 0.3091 - val_loss: 0.3130\n",
      "Epoch 56/100\n",
      "363/363 [==============================] - 0s 833us/step - loss: 0.3087 - val_loss: 0.3109\n",
      "Epoch 57/100\n",
      "363/363 [==============================] - 0s 804us/step - loss: 0.3078 - val_loss: 0.3182\n",
      "Epoch 58/100\n",
      "363/363 [==============================] - 0s 775us/step - loss: 0.3084 - val_loss: 0.3183\n",
      "Epoch 59/100\n",
      "363/363 [==============================] - 0s 770us/step - loss: 0.3072 - val_loss: 0.3208\n",
      "Epoch 60/100\n",
      "363/363 [==============================] - 0s 730us/step - loss: 0.3095 - val_loss: 0.3145\n",
      "Epoch 61/100\n",
      "363/363 [==============================] - 0s 728us/step - loss: 0.3081 - val_loss: 0.3152\n",
      "Epoch 62/100\n",
      "363/363 [==============================] - 0s 728us/step - loss: 0.3072 - val_loss: 0.3169\n",
      "Epoch 63/100\n",
      "363/363 [==============================] - 0s 815us/step - loss: 0.3071 - val_loss: 0.3134\n",
      "Epoch 64/100\n",
      "363/363 [==============================] - 0s 750us/step - loss: 0.3075 - val_loss: 0.3155\n",
      "Epoch 65/100\n",
      "363/363 [==============================] - 0s 729us/step - loss: 0.3106 - val_loss: 0.3129\n",
      "Epoch 66/100\n",
      "363/363 [==============================] - 0s 768us/step - loss: 0.3099 - val_loss: 0.3092\n",
      "Epoch 67/100\n",
      "363/363 [==============================] - 0s 778us/step - loss: 0.3076 - val_loss: 0.3175\n",
      "Epoch 68/100\n",
      "363/363 [==============================] - 0s 729us/step - loss: 0.3077 - val_loss: 0.3208\n",
      "Epoch 69/100\n",
      "363/363 [==============================] - 0s 753us/step - loss: 0.3076 - val_loss: 0.3128\n",
      "Epoch 70/100\n",
      "363/363 [==============================] - 0s 764us/step - loss: 0.3067 - val_loss: 0.3169\n",
      "Epoch 71/100\n",
      "363/363 [==============================] - 0s 730us/step - loss: 0.3066 - val_loss: 0.3153\n",
      "Epoch 72/100\n",
      "363/363 [==============================] - 0s 792us/step - loss: 0.3079 - val_loss: 0.3133\n",
      "Epoch 73/100\n",
      "363/363 [==============================] - 0s 779us/step - loss: 0.3077 - val_loss: 0.3180\n",
      "Epoch 74/100\n",
      "363/363 [==============================] - 0s 776us/step - loss: 0.3073 - val_loss: 0.3142\n",
      "Epoch 75/100\n",
      "363/363 [==============================] - 0s 781us/step - loss: 0.3056 - val_loss: 0.3162\n",
      "Epoch 76/100\n",
      "363/363 [==============================] - 0s 785us/step - loss: 0.3215 - val_loss: 0.3157\n",
      "Epoch 77/100\n"
     ]
    },
    {
     "name": "stdout",
     "output_type": "stream",
     "text": [
      "363/363 [==============================] - 0s 728us/step - loss: 0.3100 - val_loss: 0.3170\n",
      "Epoch 78/100\n",
      "363/363 [==============================] - 0s 728us/step - loss: 0.3077 - val_loss: 0.3128\n",
      "Epoch 79/100\n",
      "363/363 [==============================] - 0s 729us/step - loss: 0.3064 - val_loss: 0.3117\n",
      "Epoch 80/100\n",
      "363/363 [==============================] - 0s 839us/step - loss: 0.3088 - val_loss: 0.3149\n",
      "Epoch 81/100\n",
      "363/363 [==============================] - 0s 731us/step - loss: 0.3051 - val_loss: 0.3141\n",
      "Epoch 82/100\n",
      "363/363 [==============================] - 0s 728us/step - loss: 0.3071 - val_loss: 0.3116\n",
      "Epoch 83/100\n",
      "363/363 [==============================] - 0s 811us/step - loss: 0.3071 - val_loss: 0.3152\n",
      "Epoch 84/100\n",
      "363/363 [==============================] - 0s 729us/step - loss: 0.3053 - val_loss: 0.3090\n",
      "Epoch 85/100\n",
      "363/363 [==============================] - 0s 797us/step - loss: 0.3060 - val_loss: 0.3195\n",
      "Epoch 86/100\n",
      "363/363 [==============================] - 0s 792us/step - loss: 0.3058 - val_loss: 0.3160\n",
      "Epoch 87/100\n",
      "363/363 [==============================] - 0s 875us/step - loss: 0.3075 - val_loss: 0.3113\n",
      "Epoch 88/100\n",
      "363/363 [==============================] - 0s 810us/step - loss: 0.3065 - val_loss: 0.3126\n",
      "Epoch 89/100\n",
      "363/363 [==============================] - 0s 803us/step - loss: 0.3064 - val_loss: 0.3236\n",
      "Epoch 90/100\n",
      "363/363 [==============================] - 0s 831us/step - loss: 0.3051 - val_loss: 0.3159\n",
      "Epoch 91/100\n",
      "363/363 [==============================] - 0s 771us/step - loss: 0.3049 - val_loss: 0.3286\n",
      "Epoch 92/100\n",
      "363/363 [==============================] - ETA: 0s - loss: 0.301 - 0s 791us/step - loss: 0.3095 - val_loss: 0.3124\n",
      "Epoch 93/100\n",
      "363/363 [==============================] - 0s 749us/step - loss: 0.3060 - val_loss: 0.3136\n",
      "Epoch 94/100\n",
      "363/363 [==============================] - 0s 790us/step - loss: 0.3053 - val_loss: 0.3123\n",
      "Epoch 95/100\n",
      "363/363 [==============================] - 0s 728us/step - loss: 0.3072 - val_loss: 0.3154\n",
      "Epoch 96/100\n",
      "363/363 [==============================] - 0s 752us/step - loss: 0.3066 - val_loss: 0.3129\n",
      "Epoch 97/100\n",
      "363/363 [==============================] - 0s 881us/step - loss: 0.3072 - val_loss: 0.3253\n",
      "Epoch 98/100\n",
      "363/363 [==============================] - 0s 759us/step - loss: 0.3129 - val_loss: 0.3138\n",
      "Epoch 99/100\n",
      "363/363 [==============================] - 0s 784us/step - loss: 0.3085 - val_loss: 0.3165\n",
      "Epoch 100/100\n",
      "363/363 [==============================] - 0s 752us/step - loss: 0.3056 - val_loss: 0.3126\n"
     ]
    }
   ],
   "source": [
    "history = model.fit(X_train, y_train, epochs=100,\n",
    "validation_data=(X_valid, y_valid),\n",
    "callbacks=[tensorboard_cb])\n"
   ]
  },
  {
   "cell_type": "markdown",
   "metadata": {},
   "source": [
    "### Transfer Learning"
   ]
  },
  {
   "cell_type": "code",
   "execution_count": 103,
   "metadata": {},
   "outputs": [],
   "source": [
    "#import model A intitilly traned sequential moel\n",
    "model_A = keras.models.load_model(\"sequential_model.h5\")"
   ]
  },
  {
   "cell_type": "code",
   "execution_count": 104,
   "metadata": {},
   "outputs": [
    {
     "name": "stdout",
     "output_type": "stream",
     "text": [
      "C:\\Users\\Rogers\n"
     ]
    }
   ],
   "source": [
    "cd"
   ]
  },
  {
   "cell_type": "code",
   "execution_count": 105,
   "metadata": {},
   "outputs": [],
   "source": [
    "#remove the output layer on model A\n",
    "model_B_on_A = keras.models.Sequential(model_A.layers[:-1])"
   ]
  },
  {
   "cell_type": "code",
   "execution_count": 106,
   "metadata": {},
   "outputs": [],
   "source": [
    "#Add an output layer on the new model due to the new task\n",
    "model_B_on_A.add(keras.layers.Dense(1, activation=\"sigmoid\"))"
   ]
  },
  {
   "cell_type": "code",
   "execution_count": 107,
   "metadata": {},
   "outputs": [],
   "source": [
    "#Clone model A achitecture and weight to avoid destroying the model\n",
    "model_A_clone = keras.models.clone_model(model_A)\n",
    "model_A_clone.set_weights(model_A.get_weights())"
   ]
  },
  {
   "cell_type": "code",
   "execution_count": 108,
   "metadata": {},
   "outputs": [],
   "source": [
    "#Setting the layers untrainable to avoid errors in running due to the random new output\n",
    "for layer in model_B_on_A.layers[:-1]:\n",
    "    layer.trainable = False"
   ]
  },
  {
   "cell_type": "code",
   "execution_count": 109,
   "metadata": {},
   "outputs": [],
   "source": [
    "#Must always compile the model after freezing/unfreezing the layer\n",
    "model_B_on_A.compile(loss=\"binary_crossentropy\", optimizer=\"sgd\",\n",
    "metrics=[\"accuracy\"])"
   ]
  },
  {
   "cell_type": "code",
   "execution_count": 110,
   "metadata": {},
   "outputs": [
    {
     "name": "stdout",
     "output_type": "stream",
     "text": [
      "Epoch 1/4\n"
     ]
    },
    {
     "ename": "ValueError",
     "evalue": "in user code:\n\n    C:\\Users\\Rogers\\anaconda3\\envs\\tb\\lib\\site-packages\\tensorflow\\python\\keras\\engine\\training.py:806 train_function  *\n        return step_function(self, iterator)\n    C:\\Users\\Rogers\\anaconda3\\envs\\tb\\lib\\site-packages\\tensorflow\\python\\keras\\engine\\training.py:796 step_function  **\n        outputs = model.distribute_strategy.run(run_step, args=(data,))\n    C:\\Users\\Rogers\\anaconda3\\envs\\tb\\lib\\site-packages\\tensorflow\\python\\distribute\\distribute_lib.py:1211 run\n        return self._extended.call_for_each_replica(fn, args=args, kwargs=kwargs)\n    C:\\Users\\Rogers\\anaconda3\\envs\\tb\\lib\\site-packages\\tensorflow\\python\\distribute\\distribute_lib.py:2585 call_for_each_replica\n        return self._call_for_each_replica(fn, args, kwargs)\n    C:\\Users\\Rogers\\anaconda3\\envs\\tb\\lib\\site-packages\\tensorflow\\python\\distribute\\distribute_lib.py:2945 _call_for_each_replica\n        return fn(*args, **kwargs)\n    C:\\Users\\Rogers\\anaconda3\\envs\\tb\\lib\\site-packages\\tensorflow\\python\\keras\\engine\\training.py:789 run_step  **\n        outputs = model.train_step(data)\n    C:\\Users\\Rogers\\anaconda3\\envs\\tb\\lib\\site-packages\\tensorflow\\python\\keras\\engine\\training.py:747 train_step\n        y_pred = self(x, training=True)\n    C:\\Users\\Rogers\\anaconda3\\envs\\tb\\lib\\site-packages\\tensorflow\\python\\keras\\engine\\base_layer.py:975 __call__\n        input_spec.assert_input_compatibility(self.input_spec, inputs,\n    C:\\Users\\Rogers\\anaconda3\\envs\\tb\\lib\\site-packages\\tensorflow\\python\\keras\\engine\\input_spec.py:212 assert_input_compatibility\n        raise ValueError(\n\n    ValueError: Input 0 of layer sequential_2 is incompatible with the layer: expected axis -1 of input shape to have value 8 but received input with shape [None, 6]\n",
     "output_type": "error",
     "traceback": [
      "\u001b[1;31m---------------------------------------------------------------------------\u001b[0m",
      "\u001b[1;31mValueError\u001b[0m                                Traceback (most recent call last)",
      "\u001b[1;32m<ipython-input-110-243c5abf49e6>\u001b[0m in \u001b[0;36m<module>\u001b[1;34m\u001b[0m\n\u001b[0;32m      1\u001b[0m \u001b[1;31m#Train the model again\u001b[0m\u001b[1;33m\u001b[0m\u001b[1;33m\u001b[0m\u001b[1;33m\u001b[0m\u001b[0m\n\u001b[1;32m----> 2\u001b[1;33m history = model_B_on_A.fit(X_train_B, y_train, epochs=4,\n\u001b[0m\u001b[0;32m      3\u001b[0m validation_data=(X_valid_B, y_valid))\n",
      "\u001b[1;32m~\\anaconda3\\envs\\tb\\lib\\site-packages\\tensorflow\\python\\keras\\engine\\training.py\u001b[0m in \u001b[0;36m_method_wrapper\u001b[1;34m(self, *args, **kwargs)\u001b[0m\n\u001b[0;32m    106\u001b[0m   \u001b[1;32mdef\u001b[0m \u001b[0m_method_wrapper\u001b[0m\u001b[1;33m(\u001b[0m\u001b[0mself\u001b[0m\u001b[1;33m,\u001b[0m \u001b[1;33m*\u001b[0m\u001b[0margs\u001b[0m\u001b[1;33m,\u001b[0m \u001b[1;33m**\u001b[0m\u001b[0mkwargs\u001b[0m\u001b[1;33m)\u001b[0m\u001b[1;33m:\u001b[0m\u001b[1;33m\u001b[0m\u001b[1;33m\u001b[0m\u001b[0m\n\u001b[0;32m    107\u001b[0m     \u001b[1;32mif\u001b[0m \u001b[1;32mnot\u001b[0m \u001b[0mself\u001b[0m\u001b[1;33m.\u001b[0m\u001b[0m_in_multi_worker_mode\u001b[0m\u001b[1;33m(\u001b[0m\u001b[1;33m)\u001b[0m\u001b[1;33m:\u001b[0m  \u001b[1;31m# pylint: disable=protected-access\u001b[0m\u001b[1;33m\u001b[0m\u001b[1;33m\u001b[0m\u001b[0m\n\u001b[1;32m--> 108\u001b[1;33m       \u001b[1;32mreturn\u001b[0m \u001b[0mmethod\u001b[0m\u001b[1;33m(\u001b[0m\u001b[0mself\u001b[0m\u001b[1;33m,\u001b[0m \u001b[1;33m*\u001b[0m\u001b[0margs\u001b[0m\u001b[1;33m,\u001b[0m \u001b[1;33m**\u001b[0m\u001b[0mkwargs\u001b[0m\u001b[1;33m)\u001b[0m\u001b[1;33m\u001b[0m\u001b[1;33m\u001b[0m\u001b[0m\n\u001b[0m\u001b[0;32m    109\u001b[0m \u001b[1;33m\u001b[0m\u001b[0m\n\u001b[0;32m    110\u001b[0m     \u001b[1;31m# Running inside `run_distribute_coordinator` already.\u001b[0m\u001b[1;33m\u001b[0m\u001b[1;33m\u001b[0m\u001b[1;33m\u001b[0m\u001b[0m\n",
      "\u001b[1;32m~\\anaconda3\\envs\\tb\\lib\\site-packages\\tensorflow\\python\\keras\\engine\\training.py\u001b[0m in \u001b[0;36mfit\u001b[1;34m(self, x, y, batch_size, epochs, verbose, callbacks, validation_split, validation_data, shuffle, class_weight, sample_weight, initial_epoch, steps_per_epoch, validation_steps, validation_batch_size, validation_freq, max_queue_size, workers, use_multiprocessing)\u001b[0m\n\u001b[0;32m   1096\u001b[0m                 batch_size=batch_size):\n\u001b[0;32m   1097\u001b[0m               \u001b[0mcallbacks\u001b[0m\u001b[1;33m.\u001b[0m\u001b[0mon_train_batch_begin\u001b[0m\u001b[1;33m(\u001b[0m\u001b[0mstep\u001b[0m\u001b[1;33m)\u001b[0m\u001b[1;33m\u001b[0m\u001b[1;33m\u001b[0m\u001b[0m\n\u001b[1;32m-> 1098\u001b[1;33m               \u001b[0mtmp_logs\u001b[0m \u001b[1;33m=\u001b[0m \u001b[0mtrain_function\u001b[0m\u001b[1;33m(\u001b[0m\u001b[0miterator\u001b[0m\u001b[1;33m)\u001b[0m\u001b[1;33m\u001b[0m\u001b[1;33m\u001b[0m\u001b[0m\n\u001b[0m\u001b[0;32m   1099\u001b[0m               \u001b[1;32mif\u001b[0m \u001b[0mdata_handler\u001b[0m\u001b[1;33m.\u001b[0m\u001b[0mshould_sync\u001b[0m\u001b[1;33m:\u001b[0m\u001b[1;33m\u001b[0m\u001b[1;33m\u001b[0m\u001b[0m\n\u001b[0;32m   1100\u001b[0m                 \u001b[0mcontext\u001b[0m\u001b[1;33m.\u001b[0m\u001b[0masync_wait\u001b[0m\u001b[1;33m(\u001b[0m\u001b[1;33m)\u001b[0m\u001b[1;33m\u001b[0m\u001b[1;33m\u001b[0m\u001b[0m\n",
      "\u001b[1;32m~\\anaconda3\\envs\\tb\\lib\\site-packages\\tensorflow\\python\\eager\\def_function.py\u001b[0m in \u001b[0;36m__call__\u001b[1;34m(self, *args, **kwds)\u001b[0m\n\u001b[0;32m    778\u001b[0m       \u001b[1;32melse\u001b[0m\u001b[1;33m:\u001b[0m\u001b[1;33m\u001b[0m\u001b[1;33m\u001b[0m\u001b[0m\n\u001b[0;32m    779\u001b[0m         \u001b[0mcompiler\u001b[0m \u001b[1;33m=\u001b[0m \u001b[1;34m\"nonXla\"\u001b[0m\u001b[1;33m\u001b[0m\u001b[1;33m\u001b[0m\u001b[0m\n\u001b[1;32m--> 780\u001b[1;33m         \u001b[0mresult\u001b[0m \u001b[1;33m=\u001b[0m \u001b[0mself\u001b[0m\u001b[1;33m.\u001b[0m\u001b[0m_call\u001b[0m\u001b[1;33m(\u001b[0m\u001b[1;33m*\u001b[0m\u001b[0margs\u001b[0m\u001b[1;33m,\u001b[0m \u001b[1;33m**\u001b[0m\u001b[0mkwds\u001b[0m\u001b[1;33m)\u001b[0m\u001b[1;33m\u001b[0m\u001b[1;33m\u001b[0m\u001b[0m\n\u001b[0m\u001b[0;32m    781\u001b[0m \u001b[1;33m\u001b[0m\u001b[0m\n\u001b[0;32m    782\u001b[0m       \u001b[0mnew_tracing_count\u001b[0m \u001b[1;33m=\u001b[0m \u001b[0mself\u001b[0m\u001b[1;33m.\u001b[0m\u001b[0m_get_tracing_count\u001b[0m\u001b[1;33m(\u001b[0m\u001b[1;33m)\u001b[0m\u001b[1;33m\u001b[0m\u001b[1;33m\u001b[0m\u001b[0m\n",
      "\u001b[1;32m~\\anaconda3\\envs\\tb\\lib\\site-packages\\tensorflow\\python\\eager\\def_function.py\u001b[0m in \u001b[0;36m_call\u001b[1;34m(self, *args, **kwds)\u001b[0m\n\u001b[0;32m    821\u001b[0m       \u001b[1;31m# This is the first call of __call__, so we have to initialize.\u001b[0m\u001b[1;33m\u001b[0m\u001b[1;33m\u001b[0m\u001b[1;33m\u001b[0m\u001b[0m\n\u001b[0;32m    822\u001b[0m       \u001b[0minitializers\u001b[0m \u001b[1;33m=\u001b[0m \u001b[1;33m[\u001b[0m\u001b[1;33m]\u001b[0m\u001b[1;33m\u001b[0m\u001b[1;33m\u001b[0m\u001b[0m\n\u001b[1;32m--> 823\u001b[1;33m       \u001b[0mself\u001b[0m\u001b[1;33m.\u001b[0m\u001b[0m_initialize\u001b[0m\u001b[1;33m(\u001b[0m\u001b[0margs\u001b[0m\u001b[1;33m,\u001b[0m \u001b[0mkwds\u001b[0m\u001b[1;33m,\u001b[0m \u001b[0madd_initializers_to\u001b[0m\u001b[1;33m=\u001b[0m\u001b[0minitializers\u001b[0m\u001b[1;33m)\u001b[0m\u001b[1;33m\u001b[0m\u001b[1;33m\u001b[0m\u001b[0m\n\u001b[0m\u001b[0;32m    824\u001b[0m     \u001b[1;32mfinally\u001b[0m\u001b[1;33m:\u001b[0m\u001b[1;33m\u001b[0m\u001b[1;33m\u001b[0m\u001b[0m\n\u001b[0;32m    825\u001b[0m       \u001b[1;31m# At this point we know that the initialization is complete (or less\u001b[0m\u001b[1;33m\u001b[0m\u001b[1;33m\u001b[0m\u001b[1;33m\u001b[0m\u001b[0m\n",
      "\u001b[1;32m~\\anaconda3\\envs\\tb\\lib\\site-packages\\tensorflow\\python\\eager\\def_function.py\u001b[0m in \u001b[0;36m_initialize\u001b[1;34m(self, args, kwds, add_initializers_to)\u001b[0m\n\u001b[0;32m    694\u001b[0m     \u001b[0mself\u001b[0m\u001b[1;33m.\u001b[0m\u001b[0m_graph_deleter\u001b[0m \u001b[1;33m=\u001b[0m \u001b[0mFunctionDeleter\u001b[0m\u001b[1;33m(\u001b[0m\u001b[0mself\u001b[0m\u001b[1;33m.\u001b[0m\u001b[0m_lifted_initializer_graph\u001b[0m\u001b[1;33m)\u001b[0m\u001b[1;33m\u001b[0m\u001b[1;33m\u001b[0m\u001b[0m\n\u001b[0;32m    695\u001b[0m     self._concrete_stateful_fn = (\n\u001b[1;32m--> 696\u001b[1;33m         self._stateful_fn._get_concrete_function_internal_garbage_collected(  # pylint: disable=protected-access\n\u001b[0m\u001b[0;32m    697\u001b[0m             *args, **kwds))\n\u001b[0;32m    698\u001b[0m \u001b[1;33m\u001b[0m\u001b[0m\n",
      "\u001b[1;32m~\\anaconda3\\envs\\tb\\lib\\site-packages\\tensorflow\\python\\eager\\function.py\u001b[0m in \u001b[0;36m_get_concrete_function_internal_garbage_collected\u001b[1;34m(self, *args, **kwargs)\u001b[0m\n\u001b[0;32m   2853\u001b[0m       \u001b[0margs\u001b[0m\u001b[1;33m,\u001b[0m \u001b[0mkwargs\u001b[0m \u001b[1;33m=\u001b[0m \u001b[1;32mNone\u001b[0m\u001b[1;33m,\u001b[0m \u001b[1;32mNone\u001b[0m\u001b[1;33m\u001b[0m\u001b[1;33m\u001b[0m\u001b[0m\n\u001b[0;32m   2854\u001b[0m     \u001b[1;32mwith\u001b[0m \u001b[0mself\u001b[0m\u001b[1;33m.\u001b[0m\u001b[0m_lock\u001b[0m\u001b[1;33m:\u001b[0m\u001b[1;33m\u001b[0m\u001b[1;33m\u001b[0m\u001b[0m\n\u001b[1;32m-> 2855\u001b[1;33m       \u001b[0mgraph_function\u001b[0m\u001b[1;33m,\u001b[0m \u001b[0m_\u001b[0m\u001b[1;33m,\u001b[0m \u001b[0m_\u001b[0m \u001b[1;33m=\u001b[0m \u001b[0mself\u001b[0m\u001b[1;33m.\u001b[0m\u001b[0m_maybe_define_function\u001b[0m\u001b[1;33m(\u001b[0m\u001b[0margs\u001b[0m\u001b[1;33m,\u001b[0m \u001b[0mkwargs\u001b[0m\u001b[1;33m)\u001b[0m\u001b[1;33m\u001b[0m\u001b[1;33m\u001b[0m\u001b[0m\n\u001b[0m\u001b[0;32m   2856\u001b[0m     \u001b[1;32mreturn\u001b[0m \u001b[0mgraph_function\u001b[0m\u001b[1;33m\u001b[0m\u001b[1;33m\u001b[0m\u001b[0m\n\u001b[0;32m   2857\u001b[0m \u001b[1;33m\u001b[0m\u001b[0m\n",
      "\u001b[1;32m~\\anaconda3\\envs\\tb\\lib\\site-packages\\tensorflow\\python\\eager\\function.py\u001b[0m in \u001b[0;36m_maybe_define_function\u001b[1;34m(self, args, kwargs)\u001b[0m\n\u001b[0;32m   3211\u001b[0m \u001b[1;33m\u001b[0m\u001b[0m\n\u001b[0;32m   3212\u001b[0m       \u001b[0mself\u001b[0m\u001b[1;33m.\u001b[0m\u001b[0m_function_cache\u001b[0m\u001b[1;33m.\u001b[0m\u001b[0mmissed\u001b[0m\u001b[1;33m.\u001b[0m\u001b[0madd\u001b[0m\u001b[1;33m(\u001b[0m\u001b[0mcall_context_key\u001b[0m\u001b[1;33m)\u001b[0m\u001b[1;33m\u001b[0m\u001b[1;33m\u001b[0m\u001b[0m\n\u001b[1;32m-> 3213\u001b[1;33m       \u001b[0mgraph_function\u001b[0m \u001b[1;33m=\u001b[0m \u001b[0mself\u001b[0m\u001b[1;33m.\u001b[0m\u001b[0m_create_graph_function\u001b[0m\u001b[1;33m(\u001b[0m\u001b[0margs\u001b[0m\u001b[1;33m,\u001b[0m \u001b[0mkwargs\u001b[0m\u001b[1;33m)\u001b[0m\u001b[1;33m\u001b[0m\u001b[1;33m\u001b[0m\u001b[0m\n\u001b[0m\u001b[0;32m   3214\u001b[0m       \u001b[0mself\u001b[0m\u001b[1;33m.\u001b[0m\u001b[0m_function_cache\u001b[0m\u001b[1;33m.\u001b[0m\u001b[0mprimary\u001b[0m\u001b[1;33m[\u001b[0m\u001b[0mcache_key\u001b[0m\u001b[1;33m]\u001b[0m \u001b[1;33m=\u001b[0m \u001b[0mgraph_function\u001b[0m\u001b[1;33m\u001b[0m\u001b[1;33m\u001b[0m\u001b[0m\n\u001b[0;32m   3215\u001b[0m       \u001b[1;32mreturn\u001b[0m \u001b[0mgraph_function\u001b[0m\u001b[1;33m,\u001b[0m \u001b[0margs\u001b[0m\u001b[1;33m,\u001b[0m \u001b[0mkwargs\u001b[0m\u001b[1;33m\u001b[0m\u001b[1;33m\u001b[0m\u001b[0m\n",
      "\u001b[1;32m~\\anaconda3\\envs\\tb\\lib\\site-packages\\tensorflow\\python\\eager\\function.py\u001b[0m in \u001b[0;36m_create_graph_function\u001b[1;34m(self, args, kwargs, override_flat_arg_shapes)\u001b[0m\n\u001b[0;32m   3063\u001b[0m     \u001b[0marg_names\u001b[0m \u001b[1;33m=\u001b[0m \u001b[0mbase_arg_names\u001b[0m \u001b[1;33m+\u001b[0m \u001b[0mmissing_arg_names\u001b[0m\u001b[1;33m\u001b[0m\u001b[1;33m\u001b[0m\u001b[0m\n\u001b[0;32m   3064\u001b[0m     graph_function = ConcreteFunction(\n\u001b[1;32m-> 3065\u001b[1;33m         func_graph_module.func_graph_from_py_func(\n\u001b[0m\u001b[0;32m   3066\u001b[0m             \u001b[0mself\u001b[0m\u001b[1;33m.\u001b[0m\u001b[0m_name\u001b[0m\u001b[1;33m,\u001b[0m\u001b[1;33m\u001b[0m\u001b[1;33m\u001b[0m\u001b[0m\n\u001b[0;32m   3067\u001b[0m             \u001b[0mself\u001b[0m\u001b[1;33m.\u001b[0m\u001b[0m_python_function\u001b[0m\u001b[1;33m,\u001b[0m\u001b[1;33m\u001b[0m\u001b[1;33m\u001b[0m\u001b[0m\n",
      "\u001b[1;32m~\\anaconda3\\envs\\tb\\lib\\site-packages\\tensorflow\\python\\framework\\func_graph.py\u001b[0m in \u001b[0;36mfunc_graph_from_py_func\u001b[1;34m(name, python_func, args, kwargs, signature, func_graph, autograph, autograph_options, add_control_dependencies, arg_names, op_return_value, collections, capture_by_value, override_flat_arg_shapes)\u001b[0m\n\u001b[0;32m    984\u001b[0m         \u001b[0m_\u001b[0m\u001b[1;33m,\u001b[0m \u001b[0moriginal_func\u001b[0m \u001b[1;33m=\u001b[0m \u001b[0mtf_decorator\u001b[0m\u001b[1;33m.\u001b[0m\u001b[0munwrap\u001b[0m\u001b[1;33m(\u001b[0m\u001b[0mpython_func\u001b[0m\u001b[1;33m)\u001b[0m\u001b[1;33m\u001b[0m\u001b[1;33m\u001b[0m\u001b[0m\n\u001b[0;32m    985\u001b[0m \u001b[1;33m\u001b[0m\u001b[0m\n\u001b[1;32m--> 986\u001b[1;33m       \u001b[0mfunc_outputs\u001b[0m \u001b[1;33m=\u001b[0m \u001b[0mpython_func\u001b[0m\u001b[1;33m(\u001b[0m\u001b[1;33m*\u001b[0m\u001b[0mfunc_args\u001b[0m\u001b[1;33m,\u001b[0m \u001b[1;33m**\u001b[0m\u001b[0mfunc_kwargs\u001b[0m\u001b[1;33m)\u001b[0m\u001b[1;33m\u001b[0m\u001b[1;33m\u001b[0m\u001b[0m\n\u001b[0m\u001b[0;32m    987\u001b[0m \u001b[1;33m\u001b[0m\u001b[0m\n\u001b[0;32m    988\u001b[0m       \u001b[1;31m# invariant: `func_outputs` contains only Tensors, CompositeTensors,\u001b[0m\u001b[1;33m\u001b[0m\u001b[1;33m\u001b[0m\u001b[1;33m\u001b[0m\u001b[0m\n",
      "\u001b[1;32m~\\anaconda3\\envs\\tb\\lib\\site-packages\\tensorflow\\python\\eager\\def_function.py\u001b[0m in \u001b[0;36mwrapped_fn\u001b[1;34m(*args, **kwds)\u001b[0m\n\u001b[0;32m    598\u001b[0m         \u001b[1;31m# __wrapped__ allows AutoGraph to swap in a converted function. We give\u001b[0m\u001b[1;33m\u001b[0m\u001b[1;33m\u001b[0m\u001b[1;33m\u001b[0m\u001b[0m\n\u001b[0;32m    599\u001b[0m         \u001b[1;31m# the function a weak reference to itself to avoid a reference cycle.\u001b[0m\u001b[1;33m\u001b[0m\u001b[1;33m\u001b[0m\u001b[1;33m\u001b[0m\u001b[0m\n\u001b[1;32m--> 600\u001b[1;33m         \u001b[1;32mreturn\u001b[0m \u001b[0mweak_wrapped_fn\u001b[0m\u001b[1;33m(\u001b[0m\u001b[1;33m)\u001b[0m\u001b[1;33m.\u001b[0m\u001b[0m__wrapped__\u001b[0m\u001b[1;33m(\u001b[0m\u001b[1;33m*\u001b[0m\u001b[0margs\u001b[0m\u001b[1;33m,\u001b[0m \u001b[1;33m**\u001b[0m\u001b[0mkwds\u001b[0m\u001b[1;33m)\u001b[0m\u001b[1;33m\u001b[0m\u001b[1;33m\u001b[0m\u001b[0m\n\u001b[0m\u001b[0;32m    601\u001b[0m     \u001b[0mweak_wrapped_fn\u001b[0m \u001b[1;33m=\u001b[0m \u001b[0mweakref\u001b[0m\u001b[1;33m.\u001b[0m\u001b[0mref\u001b[0m\u001b[1;33m(\u001b[0m\u001b[0mwrapped_fn\u001b[0m\u001b[1;33m)\u001b[0m\u001b[1;33m\u001b[0m\u001b[1;33m\u001b[0m\u001b[0m\n\u001b[0;32m    602\u001b[0m \u001b[1;33m\u001b[0m\u001b[0m\n",
      "\u001b[1;32m~\\anaconda3\\envs\\tb\\lib\\site-packages\\tensorflow\\python\\framework\\func_graph.py\u001b[0m in \u001b[0;36mwrapper\u001b[1;34m(*args, **kwargs)\u001b[0m\n\u001b[0;32m    971\u001b[0m           \u001b[1;32mexcept\u001b[0m \u001b[0mException\u001b[0m \u001b[1;32mas\u001b[0m \u001b[0me\u001b[0m\u001b[1;33m:\u001b[0m  \u001b[1;31m# pylint:disable=broad-except\u001b[0m\u001b[1;33m\u001b[0m\u001b[1;33m\u001b[0m\u001b[0m\n\u001b[0;32m    972\u001b[0m             \u001b[1;32mif\u001b[0m \u001b[0mhasattr\u001b[0m\u001b[1;33m(\u001b[0m\u001b[0me\u001b[0m\u001b[1;33m,\u001b[0m \u001b[1;34m\"ag_error_metadata\"\u001b[0m\u001b[1;33m)\u001b[0m\u001b[1;33m:\u001b[0m\u001b[1;33m\u001b[0m\u001b[1;33m\u001b[0m\u001b[0m\n\u001b[1;32m--> 973\u001b[1;33m               \u001b[1;32mraise\u001b[0m \u001b[0me\u001b[0m\u001b[1;33m.\u001b[0m\u001b[0mag_error_metadata\u001b[0m\u001b[1;33m.\u001b[0m\u001b[0mto_exception\u001b[0m\u001b[1;33m(\u001b[0m\u001b[0me\u001b[0m\u001b[1;33m)\u001b[0m\u001b[1;33m\u001b[0m\u001b[1;33m\u001b[0m\u001b[0m\n\u001b[0m\u001b[0;32m    974\u001b[0m             \u001b[1;32melse\u001b[0m\u001b[1;33m:\u001b[0m\u001b[1;33m\u001b[0m\u001b[1;33m\u001b[0m\u001b[0m\n\u001b[0;32m    975\u001b[0m               \u001b[1;32mraise\u001b[0m\u001b[1;33m\u001b[0m\u001b[1;33m\u001b[0m\u001b[0m\n",
      "\u001b[1;31mValueError\u001b[0m: in user code:\n\n    C:\\Users\\Rogers\\anaconda3\\envs\\tb\\lib\\site-packages\\tensorflow\\python\\keras\\engine\\training.py:806 train_function  *\n        return step_function(self, iterator)\n    C:\\Users\\Rogers\\anaconda3\\envs\\tb\\lib\\site-packages\\tensorflow\\python\\keras\\engine\\training.py:796 step_function  **\n        outputs = model.distribute_strategy.run(run_step, args=(data,))\n    C:\\Users\\Rogers\\anaconda3\\envs\\tb\\lib\\site-packages\\tensorflow\\python\\distribute\\distribute_lib.py:1211 run\n        return self._extended.call_for_each_replica(fn, args=args, kwargs=kwargs)\n    C:\\Users\\Rogers\\anaconda3\\envs\\tb\\lib\\site-packages\\tensorflow\\python\\distribute\\distribute_lib.py:2585 call_for_each_replica\n        return self._call_for_each_replica(fn, args, kwargs)\n    C:\\Users\\Rogers\\anaconda3\\envs\\tb\\lib\\site-packages\\tensorflow\\python\\distribute\\distribute_lib.py:2945 _call_for_each_replica\n        return fn(*args, **kwargs)\n    C:\\Users\\Rogers\\anaconda3\\envs\\tb\\lib\\site-packages\\tensorflow\\python\\keras\\engine\\training.py:789 run_step  **\n        outputs = model.train_step(data)\n    C:\\Users\\Rogers\\anaconda3\\envs\\tb\\lib\\site-packages\\tensorflow\\python\\keras\\engine\\training.py:747 train_step\n        y_pred = self(x, training=True)\n    C:\\Users\\Rogers\\anaconda3\\envs\\tb\\lib\\site-packages\\tensorflow\\python\\keras\\engine\\base_layer.py:975 __call__\n        input_spec.assert_input_compatibility(self.input_spec, inputs,\n    C:\\Users\\Rogers\\anaconda3\\envs\\tb\\lib\\site-packages\\tensorflow\\python\\keras\\engine\\input_spec.py:212 assert_input_compatibility\n        raise ValueError(\n\n    ValueError: Input 0 of layer sequential_2 is incompatible with the layer: expected axis -1 of input shape to have value 8 but received input with shape [None, 6]\n"
     ]
    }
   ],
   "source": [
    "#Train the model again\n",
    "history = model_B_on_A.fit(X_train_B, y_train, epochs=4,\n",
    "validation_data=(X_valid_B, y_valid))\n"
   ]
  },
  {
   "cell_type": "code",
   "execution_count": null,
   "metadata": {},
   "outputs": [],
   "source": []
  },
  {
   "cell_type": "code",
   "execution_count": null,
   "metadata": {},
   "outputs": [],
   "source": []
  },
  {
   "cell_type": "code",
   "execution_count": null,
   "metadata": {},
   "outputs": [],
   "source": []
  }
 ],
 "metadata": {
  "kernelspec": {
   "display_name": "Python 3",
   "language": "python",
   "name": "python3"
  },
  "language_info": {
   "codemirror_mode": {
    "name": "ipython",
    "version": 3
   },
   "file_extension": ".py",
   "mimetype": "text/x-python",
   "name": "python",
   "nbconvert_exporter": "python",
   "pygments_lexer": "ipython3",
   "version": "3.8.5"
  }
 },
 "nbformat": 4,
 "nbformat_minor": 4
}
