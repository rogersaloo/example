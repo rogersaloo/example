{
 "cells": [
  {
   "cell_type": "code",
   "execution_count": 1,
   "metadata": {},
   "outputs": [],
   "source": [
    "import numpy as np\n",
    "from sklearn.datasets import load_iris\n",
    "from sklearn.linear_model import Perceptron\n"
   ]
  },
  {
   "cell_type": "code",
   "execution_count": 2,
   "metadata": {},
   "outputs": [],
   "source": [
    "iris = load_iris()\n",
    "X = iris.data[:, (2, 3)] # petal length, petal width\n",
    "y = (iris.target == 0).astype(np.int) # Iris setosa?"
   ]
  },
  {
   "cell_type": "code",
   "execution_count": 3,
   "metadata": {},
   "outputs": [
    {
     "data": {
      "text/plain": [
       "Perceptron()"
      ]
     },
     "execution_count": 3,
     "metadata": {},
     "output_type": "execute_result"
    }
   ],
   "source": [
    "per_clf = Perceptron()\n",
    "per_clf.fit(X, y)"
   ]
  },
  {
   "cell_type": "code",
   "execution_count": 4,
   "metadata": {},
   "outputs": [],
   "source": [
    "y_pred = per_clf.predict([[2, 0.5]])"
   ]
  },
  {
   "cell_type": "code",
   "execution_count": 5,
   "metadata": {},
   "outputs": [
    {
     "name": "stdout",
     "output_type": "stream",
     "text": [
      "[0]\n"
     ]
    }
   ],
   "source": [
    "\n",
    "print(y_pred)"
   ]
  },
  {
   "cell_type": "code",
   "execution_count": 6,
   "metadata": {},
   "outputs": [],
   "source": [
    "import tensorflow as tf\n"
   ]
  },
  {
   "cell_type": "code",
   "execution_count": 7,
   "metadata": {},
   "outputs": [
    {
     "data": {
      "text/plain": [
       "'2.3.0'"
      ]
     },
     "execution_count": 7,
     "metadata": {},
     "output_type": "execute_result"
    }
   ],
   "source": [
    "from tensorflow import keras\n",
    "tf.__version__\n"
   ]
  },
  {
   "cell_type": "code",
   "execution_count": 8,
   "metadata": {},
   "outputs": [
    {
     "data": {
      "text/plain": [
       "'2.4.0'"
      ]
     },
     "execution_count": 8,
     "metadata": {},
     "output_type": "execute_result"
    }
   ],
   "source": [
    "keras.__version__"
   ]
  },
  {
   "cell_type": "code",
   "execution_count": 9,
   "metadata": {},
   "outputs": [],
   "source": [
    "fashion_mnist = keras.datasets.fashion_mnist\n",
    "(X_train_full, y_train_full), (X_test, y_test) = fashion_mnist.load_data()"
   ]
  },
  {
   "cell_type": "code",
   "execution_count": 10,
   "metadata": {},
   "outputs": [
    {
     "data": {
      "text/plain": [
       "(60000, 28, 28)"
      ]
     },
     "execution_count": 10,
     "metadata": {},
     "output_type": "execute_result"
    }
   ],
   "source": [
    " X_train_full.shape\n"
   ]
  },
  {
   "cell_type": "code",
   "execution_count": 11,
   "metadata": {},
   "outputs": [
    {
     "data": {
      "text/plain": [
       "dtype('uint8')"
      ]
     },
     "execution_count": 11,
     "metadata": {},
     "output_type": "execute_result"
    }
   ],
   "source": [
    " X_train_full.dtype"
   ]
  },
  {
   "cell_type": "code",
   "execution_count": 12,
   "metadata": {},
   "outputs": [
    {
     "data": {
      "text/plain": [
       "(60000,)"
      ]
     },
     "execution_count": 12,
     "metadata": {},
     "output_type": "execute_result"
    }
   ],
   "source": [
    "y_train_full.shape"
   ]
  },
  {
   "cell_type": "code",
   "execution_count": 13,
   "metadata": {},
   "outputs": [
    {
     "data": {
      "text/plain": [
       "dtype('uint8')"
      ]
     },
     "execution_count": 13,
     "metadata": {},
     "output_type": "execute_result"
    }
   ],
   "source": [
    "y_train_full.dtype"
   ]
  },
  {
   "cell_type": "code",
   "execution_count": 14,
   "metadata": {},
   "outputs": [
    {
     "data": {
      "text/plain": [
       "(10000, 28, 28)"
      ]
     },
     "execution_count": 14,
     "metadata": {},
     "output_type": "execute_result"
    }
   ],
   "source": [
    " X_test.shape\n"
   ]
  },
  {
   "cell_type": "code",
   "execution_count": 15,
   "metadata": {},
   "outputs": [
    {
     "data": {
      "text/plain": [
       "dtype('uint8')"
      ]
     },
     "execution_count": 15,
     "metadata": {},
     "output_type": "execute_result"
    }
   ],
   "source": [
    "X_test.dtype"
   ]
  },
  {
   "cell_type": "code",
   "execution_count": 16,
   "metadata": {},
   "outputs": [
    {
     "data": {
      "text/plain": [
       "(10000,)"
      ]
     },
     "execution_count": 16,
     "metadata": {},
     "output_type": "execute_result"
    }
   ],
   "source": [
    "y_test.shape"
   ]
  },
  {
   "cell_type": "code",
   "execution_count": 17,
   "metadata": {},
   "outputs": [],
   "source": [
    "#Scale dow the pixel intensity of the images to allow for differentiation\n",
    "X_valid, X_train = X_train_full[:5000] / 255.0, X_train_full[5000:] /255.0\n",
    "y_valid, y_train = y_train_full[:5000], y_train_full[5000:]"
   ]
  },
  {
   "cell_type": "code",
   "execution_count": 18,
   "metadata": {},
   "outputs": [],
   "source": [
    "#provide the class names to enable during the prediction\n",
    "class_names = [\"T-shirt/top\", \"Trouser\", \"Pullover\", \"Dress\", \"Coat\",\n",
    "\"Sandal\", \"Shirt\", \"Sneaker\", \"Bag\", \"Ankle boot\"]\n"
   ]
  },
  {
   "cell_type": "code",
   "execution_count": 19,
   "metadata": {},
   "outputs": [
    {
     "data": {
      "text/plain": [
       "'Coat'"
      ]
     },
     "execution_count": 19,
     "metadata": {},
     "output_type": "execute_result"
    }
   ],
   "source": [
    "#Check out the first image\n",
    "class_names[y_train[0]]\n"
   ]
  },
  {
   "cell_type": "code",
   "execution_count": 20,
   "metadata": {},
   "outputs": [],
   "source": [
    "#Create the model and pass them as a list using the sequential API\n",
    "model = keras.models.Sequential([\n",
    "    keras.layers.Flatten(input_shape=[28, 28]),\n",
    "    keras.layers.Dense(300, activation=\"relu\"),\n",
    "    keras.layers.Dense(100, activation=\"relu\"),\n",
    "    keras.layers.Dense(10, activation=\"softmax\")\n",
    "    ])"
   ]
  },
  {
   "cell_type": "code",
   "execution_count": 21,
   "metadata": {},
   "outputs": [
    {
     "name": "stdout",
     "output_type": "stream",
     "text": [
      "Model: \"sequential\"\n",
      "_________________________________________________________________\n",
      "Layer (type)                 Output Shape              Param #   \n",
      "=================================================================\n",
      "flatten (Flatten)            (None, 784)               0         \n",
      "_________________________________________________________________\n",
      "dense (Dense)                (None, 300)               235500    \n",
      "_________________________________________________________________\n",
      "dense_1 (Dense)              (None, 100)               30100     \n",
      "_________________________________________________________________\n",
      "dense_2 (Dense)              (None, 10)                1010      \n",
      "=================================================================\n",
      "Total params: 266,610\n",
      "Trainable params: 266,610\n",
      "Non-trainable params: 0\n",
      "_________________________________________________________________\n"
     ]
    }
   ],
   "source": [
    "#Check the model summarry\n",
    "model.summary()"
   ]
  },
  {
   "cell_type": "code",
   "execution_count": 22,
   "metadata": {},
   "outputs": [
    {
     "data": {
      "text/plain": [
       "[<tensorflow.python.keras.layers.core.Flatten at 0x269ffae7df0>,\n",
       " <tensorflow.python.keras.layers.core.Dense at 0x269ffb209d0>,\n",
       " <tensorflow.python.keras.layers.core.Dense at 0x269ffb20d00>,\n",
       " <tensorflow.python.keras.layers.core.Dense at 0x269ffb20550>]"
      ]
     },
     "execution_count": 22,
     "metadata": {},
     "output_type": "execute_result"
    }
   ],
   "source": [
    "#Fetch a models list of layers \n",
    "model.layers"
   ]
  },
  {
   "cell_type": "code",
   "execution_count": 23,
   "metadata": {},
   "outputs": [],
   "source": [
    "#Get the parameters of a hidden layer\n",
    "hidden1 = model.layers[1]"
   ]
  },
  {
   "cell_type": "code",
   "execution_count": 24,
   "metadata": {},
   "outputs": [
    {
     "data": {
      "text/plain": [
       "array([[-0.04984057, -0.04417827,  0.00039162, ..., -0.00352843,\n",
       "        -0.01240064,  0.04128125],\n",
       "       [ 0.03107892,  0.02017666,  0.04645464, ...,  0.06624299,\n",
       "        -0.04354368, -0.05153636],\n",
       "       [ 0.00543312, -0.0432862 ,  0.04466709, ...,  0.04288968,\n",
       "         0.00558996, -0.01299282],\n",
       "       ...,\n",
       "       [-0.01550106, -0.06023944, -0.03231943, ...,  0.0521556 ,\n",
       "        -0.02692356,  0.03095128],\n",
       "       [-0.06643023, -0.01649913,  0.06851771, ...,  0.06169935,\n",
       "        -0.03426569, -0.03219751],\n",
       "       [ 0.03408671, -0.05832841, -0.03673095, ..., -0.01263363,\n",
       "        -0.02761949, -0.07147656]], dtype=float32)"
      ]
     },
     "execution_count": 24,
     "metadata": {},
     "output_type": "execute_result"
    }
   ],
   "source": [
    "#Access the paameters of a layer\n",
    "weights, biases = hidden1.get_weights()\n",
    "weights"
   ]
  },
  {
   "cell_type": "code",
   "execution_count": 25,
   "metadata": {},
   "outputs": [
    {
     "data": {
      "text/plain": [
       "array([0., 0., 0., 0., 0., 0., 0., 0., 0., 0., 0., 0., 0., 0., 0., 0., 0.,\n",
       "       0., 0., 0., 0., 0., 0., 0., 0., 0., 0., 0., 0., 0., 0., 0., 0., 0.,\n",
       "       0., 0., 0., 0., 0., 0., 0., 0., 0., 0., 0., 0., 0., 0., 0., 0., 0.,\n",
       "       0., 0., 0., 0., 0., 0., 0., 0., 0., 0., 0., 0., 0., 0., 0., 0., 0.,\n",
       "       0., 0., 0., 0., 0., 0., 0., 0., 0., 0., 0., 0., 0., 0., 0., 0., 0.,\n",
       "       0., 0., 0., 0., 0., 0., 0., 0., 0., 0., 0., 0., 0., 0., 0., 0., 0.,\n",
       "       0., 0., 0., 0., 0., 0., 0., 0., 0., 0., 0., 0., 0., 0., 0., 0., 0.,\n",
       "       0., 0., 0., 0., 0., 0., 0., 0., 0., 0., 0., 0., 0., 0., 0., 0., 0.,\n",
       "       0., 0., 0., 0., 0., 0., 0., 0., 0., 0., 0., 0., 0., 0., 0., 0., 0.,\n",
       "       0., 0., 0., 0., 0., 0., 0., 0., 0., 0., 0., 0., 0., 0., 0., 0., 0.,\n",
       "       0., 0., 0., 0., 0., 0., 0., 0., 0., 0., 0., 0., 0., 0., 0., 0., 0.,\n",
       "       0., 0., 0., 0., 0., 0., 0., 0., 0., 0., 0., 0., 0., 0., 0., 0., 0.,\n",
       "       0., 0., 0., 0., 0., 0., 0., 0., 0., 0., 0., 0., 0., 0., 0., 0., 0.,\n",
       "       0., 0., 0., 0., 0., 0., 0., 0., 0., 0., 0., 0., 0., 0., 0., 0., 0.,\n",
       "       0., 0., 0., 0., 0., 0., 0., 0., 0., 0., 0., 0., 0., 0., 0., 0., 0.,\n",
       "       0., 0., 0., 0., 0., 0., 0., 0., 0., 0., 0., 0., 0., 0., 0., 0., 0.,\n",
       "       0., 0., 0., 0., 0., 0., 0., 0., 0., 0., 0., 0., 0., 0., 0., 0., 0.,\n",
       "       0., 0., 0., 0., 0., 0., 0., 0., 0., 0., 0.], dtype=float32)"
      ]
     },
     "execution_count": 25,
     "metadata": {},
     "output_type": "execute_result"
    }
   ],
   "source": [
    "biases"
   ]
  },
  {
   "cell_type": "code",
   "execution_count": 26,
   "metadata": {},
   "outputs": [
    {
     "data": {
      "text/plain": [
       "(784, 300)"
      ]
     },
     "execution_count": 26,
     "metadata": {},
     "output_type": "execute_result"
    }
   ],
   "source": [
    "weights.shape"
   ]
  },
  {
   "cell_type": "code",
   "execution_count": 27,
   "metadata": {},
   "outputs": [
    {
     "data": {
      "text/plain": [
       "dtype('float32')"
      ]
     },
     "execution_count": 27,
     "metadata": {},
     "output_type": "execute_result"
    }
   ],
   "source": [
    "weights.dtype"
   ]
  },
  {
   "cell_type": "code",
   "execution_count": 28,
   "metadata": {},
   "outputs": [
    {
     "data": {
      "text/plain": [
       "(300,)"
      ]
     },
     "execution_count": 28,
     "metadata": {},
     "output_type": "execute_result"
    }
   ],
   "source": [
    "biases.shape"
   ]
  },
  {
   "cell_type": "code",
   "execution_count": 29,
   "metadata": {},
   "outputs": [],
   "source": [
    "#Compile the model\n",
    "'''After creating the network we compile it or put it together witht the \n",
    "loss and optimizer'''\n",
    "model.compile(loss = keras.losses.sparse_categorical_crossentropy,\n",
    "              optimizer = keras.optimizers.SGD(lr=0.01),\n",
    "             metrics = [\"accuracy\"])"
   ]
  },
  {
   "cell_type": "code",
   "execution_count": 30,
   "metadata": {},
   "outputs": [
    {
     "name": "stdout",
     "output_type": "stream",
     "text": [
      "Epoch 1/30\n",
      "1719/1719 [==============================] - 3s 2ms/step - loss: 0.7184 - accuracy: 0.7647 - val_loss: 0.5113 - val_accuracy: 0.8250\n",
      "Epoch 2/30\n",
      "1719/1719 [==============================] - 2s 1ms/step - loss: 0.4859 - accuracy: 0.8305 - val_loss: 0.4475 - val_accuracy: 0.8420\n",
      "Epoch 3/30\n",
      "1719/1719 [==============================] - 2s 1ms/step - loss: 0.4444 - accuracy: 0.8440 - val_loss: 0.4212 - val_accuracy: 0.8550\n",
      "Epoch 4/30\n",
      "1719/1719 [==============================] - 2s 1ms/step - loss: 0.4176 - accuracy: 0.8535 - val_loss: 0.3985 - val_accuracy: 0.8636\n",
      "Epoch 5/30\n",
      "1719/1719 [==============================] - 2s 1ms/step - loss: 0.3996 - accuracy: 0.8599 - val_loss: 0.3978 - val_accuracy: 0.8616\n",
      "Epoch 6/30\n",
      "1719/1719 [==============================] - 2s 1ms/step - loss: 0.3833 - accuracy: 0.8653 - val_loss: 0.3899 - val_accuracy: 0.8648\n",
      "Epoch 7/30\n",
      "1719/1719 [==============================] - 2s 1ms/step - loss: 0.3711 - accuracy: 0.8695 - val_loss: 0.3755 - val_accuracy: 0.8678\n",
      "Epoch 8/30\n",
      "1719/1719 [==============================] - 2s 1ms/step - loss: 0.3588 - accuracy: 0.8733 - val_loss: 0.3589 - val_accuracy: 0.8760\n",
      "Epoch 9/30\n",
      "1719/1719 [==============================] - 2s 1ms/step - loss: 0.3491 - accuracy: 0.8763 - val_loss: 0.3507 - val_accuracy: 0.8774\n",
      "Epoch 10/30\n",
      "1719/1719 [==============================] - 2s 1ms/step - loss: 0.3405 - accuracy: 0.8792 - val_loss: 0.3492 - val_accuracy: 0.8764\n",
      "Epoch 11/30\n",
      "1719/1719 [==============================] - 2s 1ms/step - loss: 0.3303 - accuracy: 0.8810 - val_loss: 0.3438 - val_accuracy: 0.8810\n",
      "Epoch 12/30\n",
      "1719/1719 [==============================] - 2s 1ms/step - loss: 0.3222 - accuracy: 0.8855 - val_loss: 0.3481 - val_accuracy: 0.8738\n",
      "Epoch 13/30\n",
      "1719/1719 [==============================] - 2s 1ms/step - loss: 0.3153 - accuracy: 0.8873 - val_loss: 0.3365 - val_accuracy: 0.8838\n",
      "Epoch 14/30\n",
      "1719/1719 [==============================] - 2s 1ms/step - loss: 0.3088 - accuracy: 0.8893 - val_loss: 0.3212 - val_accuracy: 0.8866\n",
      "Epoch 15/30\n",
      "1719/1719 [==============================] - 2s 1ms/step - loss: 0.3022 - accuracy: 0.8913 - val_loss: 0.3304 - val_accuracy: 0.8834\n",
      "Epoch 16/30\n",
      "1719/1719 [==============================] - 2s 1ms/step - loss: 0.2951 - accuracy: 0.8934 - val_loss: 0.3276 - val_accuracy: 0.8860\n",
      "Epoch 17/30\n",
      "1719/1719 [==============================] - 2s 1ms/step - loss: 0.2898 - accuracy: 0.8957 - val_loss: 0.3200 - val_accuracy: 0.8918\n",
      "Epoch 18/30\n",
      "1719/1719 [==============================] - 2s 1ms/step - loss: 0.2849 - accuracy: 0.8973 - val_loss: 0.3189 - val_accuracy: 0.8828\n",
      "Epoch 19/30\n",
      "1719/1719 [==============================] - 2s 1ms/step - loss: 0.2788 - accuracy: 0.8994 - val_loss: 0.3272 - val_accuracy: 0.8868\n",
      "Epoch 20/30\n",
      "1719/1719 [==============================] - 2s 1ms/step - loss: 0.2735 - accuracy: 0.9018 - val_loss: 0.3154 - val_accuracy: 0.8844\n",
      "Epoch 21/30\n",
      "1719/1719 [==============================] - 2s 1ms/step - loss: 0.2693 - accuracy: 0.9021 - val_loss: 0.3289 - val_accuracy: 0.8838\n",
      "Epoch 22/30\n",
      "1719/1719 [==============================] - 2s 1ms/step - loss: 0.2643 - accuracy: 0.9043 - val_loss: 0.3084 - val_accuracy: 0.8918\n",
      "Epoch 23/30\n",
      "1719/1719 [==============================] - 2s 1ms/step - loss: 0.2597 - accuracy: 0.9064 - val_loss: 0.3273 - val_accuracy: 0.8810\n",
      "Epoch 24/30\n",
      "1719/1719 [==============================] - 3s 2ms/step - loss: 0.2555 - accuracy: 0.9071 - val_loss: 0.3096 - val_accuracy: 0.8864\n",
      "Epoch 25/30\n",
      "1719/1719 [==============================] - 3s 2ms/step - loss: 0.2496 - accuracy: 0.9096 - val_loss: 0.2980 - val_accuracy: 0.8934\n",
      "Epoch 26/30\n",
      "1719/1719 [==============================] - 2s 1ms/step - loss: 0.2468 - accuracy: 0.9112 - val_loss: 0.3085 - val_accuracy: 0.8886\n",
      "Epoch 27/30\n",
      "1719/1719 [==============================] - 2s 1ms/step - loss: 0.2425 - accuracy: 0.9133 - val_loss: 0.2985 - val_accuracy: 0.8950\n",
      "Epoch 28/30\n",
      "1719/1719 [==============================] - 2s 1ms/step - loss: 0.2384 - accuracy: 0.9142 - val_loss: 0.3051 - val_accuracy: 0.8896\n",
      "Epoch 29/30\n",
      "1719/1719 [==============================] - 2s 1ms/step - loss: 0.2341 - accuracy: 0.9150 - val_loss: 0.2976 - val_accuracy: 0.8910\n",
      "Epoch 30/30\n",
      "1719/1719 [==============================] - 2s 1ms/step - loss: 0.2297 - accuracy: 0.9177 - val_loss: 0.2955 - val_accuracy: 0.8942\n"
     ]
    }
   ],
   "source": [
    "#Training and evaluating the model\n",
    "history = model.fit(X_train, y_train, epochs=30,\n",
    "                    validation_data=(X_valid, y_valid))"
   ]
  },
  {
   "cell_type": "code",
   "execution_count": 31,
   "metadata": {},
   "outputs": [
    {
     "data": {
      "text/plain": [
       "{'verbose': 1, 'epochs': 30, 'steps': 1719}"
      ]
     },
     "execution_count": 31,
     "metadata": {},
     "output_type": "execute_result"
    }
   ],
   "source": [
    "history.params"
   ]
  },
  {
   "cell_type": "code",
   "execution_count": 32,
   "metadata": {},
   "outputs": [
    {
     "data": {
      "text/plain": [
       "{'loss': [0.7183544039726257,\n",
       "  0.4858752191066742,\n",
       "  0.44437098503112793,\n",
       "  0.4176378846168518,\n",
       "  0.399557888507843,\n",
       "  0.3832971453666687,\n",
       "  0.3711097538471222,\n",
       "  0.35882240533828735,\n",
       "  0.34912770986557007,\n",
       "  0.34053000807762146,\n",
       "  0.33025991916656494,\n",
       "  0.3222481608390808,\n",
       "  0.31530553102493286,\n",
       "  0.30879276990890503,\n",
       "  0.30216366052627563,\n",
       "  0.2950868010520935,\n",
       "  0.2897644340991974,\n",
       "  0.2848961353302002,\n",
       "  0.2788137197494507,\n",
       "  0.2735423147678375,\n",
       "  0.26925551891326904,\n",
       "  0.2642902731895447,\n",
       "  0.2597428262233734,\n",
       "  0.25550544261932373,\n",
       "  0.24955306947231293,\n",
       "  0.24681037664413452,\n",
       "  0.24251309037208557,\n",
       "  0.23843319714069366,\n",
       "  0.23405282199382782,\n",
       "  0.22971685230731964],\n",
       " 'accuracy': [0.7647272944450378,\n",
       "  0.8304545283317566,\n",
       "  0.8439818024635315,\n",
       "  0.8534545302391052,\n",
       "  0.8599454760551453,\n",
       "  0.8653091192245483,\n",
       "  0.869527280330658,\n",
       "  0.8732545375823975,\n",
       "  0.8762909173965454,\n",
       "  0.8791818022727966,\n",
       "  0.8809636235237122,\n",
       "  0.8854727149009705,\n",
       "  0.8872727155685425,\n",
       "  0.8892909288406372,\n",
       "  0.8912727236747742,\n",
       "  0.8934363722801208,\n",
       "  0.8956727385520935,\n",
       "  0.8973090648651123,\n",
       "  0.899436354637146,\n",
       "  0.9017999768257141,\n",
       "  0.9020909070968628,\n",
       "  0.904309093952179,\n",
       "  0.9064000248908997,\n",
       "  0.9071090817451477,\n",
       "  0.9095636606216431,\n",
       "  0.9112363457679749,\n",
       "  0.913345456123352,\n",
       "  0.9141636490821838,\n",
       "  0.9150000214576721,\n",
       "  0.9177091121673584],\n",
       " 'val_loss': [0.5113087296485901,\n",
       "  0.4475210905075073,\n",
       "  0.4212143123149872,\n",
       "  0.398502379655838,\n",
       "  0.39783334732055664,\n",
       "  0.3898775577545166,\n",
       "  0.3754654824733734,\n",
       "  0.35889366269111633,\n",
       "  0.35070228576660156,\n",
       "  0.34919223189353943,\n",
       "  0.3438050150871277,\n",
       "  0.34806209802627563,\n",
       "  0.33648476004600525,\n",
       "  0.32121676206588745,\n",
       "  0.33042973279953003,\n",
       "  0.32759010791778564,\n",
       "  0.32003629207611084,\n",
       "  0.3188975751399994,\n",
       "  0.32716044783592224,\n",
       "  0.3154406249523163,\n",
       "  0.3288624584674835,\n",
       "  0.3084343373775482,\n",
       "  0.32733869552612305,\n",
       "  0.3095882833003998,\n",
       "  0.29800963401794434,\n",
       "  0.3084554076194763,\n",
       "  0.2984617352485657,\n",
       "  0.30505457520484924,\n",
       "  0.297607421875,\n",
       "  0.2954524755477905],\n",
       " 'val_accuracy': [0.824999988079071,\n",
       "  0.8420000076293945,\n",
       "  0.8550000190734863,\n",
       "  0.8636000156402588,\n",
       "  0.8615999817848206,\n",
       "  0.864799976348877,\n",
       "  0.8677999973297119,\n",
       "  0.8759999871253967,\n",
       "  0.8773999810218811,\n",
       "  0.8763999938964844,\n",
       "  0.8809999823570251,\n",
       "  0.8737999796867371,\n",
       "  0.8838000297546387,\n",
       "  0.8866000175476074,\n",
       "  0.883400022983551,\n",
       "  0.8859999775886536,\n",
       "  0.8917999863624573,\n",
       "  0.8827999830245972,\n",
       "  0.8867999911308289,\n",
       "  0.8844000101089478,\n",
       "  0.8838000297546387,\n",
       "  0.8917999863624573,\n",
       "  0.8809999823570251,\n",
       "  0.8863999843597412,\n",
       "  0.8934000134468079,\n",
       "  0.8885999917984009,\n",
       "  0.8949999809265137,\n",
       "  0.8895999789237976,\n",
       "  0.890999972820282,\n",
       "  0.8942000269889832]}"
      ]
     },
     "execution_count": 32,
     "metadata": {},
     "output_type": "execute_result"
    }
   ],
   "source": [
    "history.history"
   ]
  },
  {
   "cell_type": "code",
   "execution_count": 33,
   "metadata": {},
   "outputs": [],
   "source": [
    "import pandas as pd\n",
    "import matplotlib.pyplot as plt"
   ]
  },
  {
   "cell_type": "code",
   "execution_count": 34,
   "metadata": {},
   "outputs": [
    {
     "data": {
      "image/png": "[encoded data removed]",
      "text/plain": [
       "<Figure size 576x360 with 1 Axes>"
      ]
     },
     "metadata": {
      "needs_background": "light"
     },
     "output_type": "display_data"
    }
   ],
   "source": [
    "#plot the history of the model.fit\n",
    "pd.DataFrame(history.history).plot(figsize=(8, 5))\n",
    "plt.grid(True)\n",
    "plt.gca().set_ylim(0, 1) # set the vertical range to [0-1]\n",
    "plt.show()"
   ]
  },
  {
   "cell_type": "code",
   "execution_count": 35,
   "metadata": {},
   "outputs": [
    {
     "name": "stdout",
     "output_type": "stream",
     "text": [
      "313/313 [==============================] - 0s 1ms/step - loss: 63.2175 - accuracy: 0.8500\n"
     ]
    },
    {
     "data": {
      "text/plain": [
       "[63.217525482177734, 0.8500000238418579]"
      ]
     },
     "execution_count": 35,
     "metadata": {},
     "output_type": "execute_result"
    }
   ],
   "source": [
    "#Evaluaing the model on the test set\n",
    "model.evaluate(X_test, y_test)"
   ]
  },
  {
   "cell_type": "code",
   "execution_count": 36,
   "metadata": {},
   "outputs": [
    {
     "data": {
      "text/plain": [
       "array([[0., 0., 0., 0., 0., 0., 0., 0., 0., 1.],\n",
       "       [0., 0., 1., 0., 0., 0., 0., 0., 0., 0.],\n",
       "       [0., 1., 0., 0., 0., 0., 0., 0., 0., 0.]], dtype=float32)"
      ]
     },
     "execution_count": 36,
     "metadata": {},
     "output_type": "execute_result"
    }
   ],
   "source": [
    "#prediction using the model\n",
    "X_new = X_test[:3]\n",
    "y_proba = model.predict(X_new)\n",
    "y_proba.round(2)"
   ]
  },
  {
   "cell_type": "code",
   "execution_count": 37,
   "metadata": {},
   "outputs": [
    {
     "name": "stdout",
     "output_type": "stream",
     "text": [
      "WARNING:tensorflow:From <ipython-input-37-d2eab565e431>:2: Sequential.predict_classes (from tensorflow.python.keras.engine.sequential) is deprecated and will be removed after 2021-01-01.\n",
      "Instructions for updating:\n",
      "Please use instead:* `np.argmax(model.predict(x), axis=-1)`,   if your model does multi-class classification   (e.g. if it uses a `softmax` last-layer activation).* `(model.predict(x) > 0.5).astype(\"int32\")`,   if your model does binary classification   (e.g. if it uses a `sigmoid` last-layer activation).\n"
     ]
    },
    {
     "data": {
      "text/plain": [
       "array([9, 2, 1], dtype=int64)"
      ]
     },
     "execution_count": 37,
     "metadata": {},
     "output_type": "execute_result"
    }
   ],
   "source": [
    "#Choos on the class with the hieghest probabilities\n",
    "y_pred = model.predict_classes(X_new)\n",
    "y_pred\n"
   ]
  },
  {
   "cell_type": "code",
   "execution_count": 38,
   "metadata": {},
   "outputs": [
    {
     "data": {
      "text/plain": [
       "array([9, 2, 1], dtype=int64)"
      ]
     },
     "execution_count": 38,
     "metadata": {},
     "output_type": "execute_result"
    }
   ],
   "source": [
    "np.argmax(model.predict(X_new), axis=-1)"
   ]
  },
  {
   "cell_type": "code",
   "execution_count": 39,
   "metadata": {},
   "outputs": [
    {
     "data": {
      "text/plain": [
       "array(['Ankle boot', 'Pullover', 'Trouser'], dtype='<U11')"
      ]
     },
     "execution_count": 39,
     "metadata": {},
     "output_type": "execute_result"
    }
   ],
   "source": [
    "np.array(class_names)[y_pred]"
   ]
  },
  {
   "cell_type": "markdown",
   "metadata": {},
   "source": [
    "### Regression of MLP using Sequential API"
   ]
  },
  {
   "cell_type": "code",
   "execution_count": 40,
   "metadata": {},
   "outputs": [],
   "source": [
    "from sklearn.datasets import fetch_california_housing\n",
    "from sklearn.model_selection import train_test_split\n",
    "from sklearn.preprocessing import StandardScaler"
   ]
  },
  {
   "cell_type": "code",
   "execution_count": 41,
   "metadata": {},
   "outputs": [],
   "source": [
    "#load the data from sklearn\n",
    "housing = fetch_california_housing()"
   ]
  },
  {
   "cell_type": "code",
   "execution_count": 42,
   "metadata": {},
   "outputs": [],
   "source": [
    "#Slit the data to train test and validation\n",
    "X_train_full, X_test, y_train_full, y_test = train_test_split(\n",
    "housing.data, housing.target)\n",
    "X_train, X_valid, y_train, y_valid = train_test_split(\n",
    "X_train_full, y_train_full)"
   ]
  },
  {
   "cell_type": "code",
   "execution_count": 43,
   "metadata": {},
   "outputs": [],
   "source": [
    "#Scale the data into the same range\n",
    "scaler = StandardScaler()\n",
    "X_train = scaler.fit_transform(X_train)\n",
    "X_valid = scaler.transform(X_valid)\n",
    "X_test = scaler.transform(X_test)"
   ]
  },
  {
   "cell_type": "code",
   "execution_count": 44,
   "metadata": {},
   "outputs": [
    {
     "data": {
      "text/plain": [
       "(11610, 8)"
      ]
     },
     "execution_count": 44,
     "metadata": {},
     "output_type": "execute_result"
    }
   ],
   "source": [
    "X_train.shape"
   ]
  },
  {
   "cell_type": "code",
   "execution_count": 45,
   "metadata": {},
   "outputs": [
    {
     "data": {
      "text/plain": [
       "(11610,)"
      ]
     },
     "execution_count": 45,
     "metadata": {},
     "output_type": "execute_result"
    }
   ],
   "source": [
    "y_train.shape"
   ]
  },
  {
   "cell_type": "code",
   "execution_count": 46,
   "metadata": {},
   "outputs": [
    {
     "data": {
      "text/plain": [
       "dtype('float64')"
      ]
     },
     "execution_count": 46,
     "metadata": {},
     "output_type": "execute_result"
    }
   ],
   "source": [
    "X_train.dtype"
   ]
  },
  {
   "cell_type": "code",
   "execution_count": 47,
   "metadata": {},
   "outputs": [],
   "source": [
    "#Create the model\n",
    "model = keras.models.Sequential([\n",
    "    keras.layers.Dense(30, activation=\"relu\",\n",
    "    input_shape=X_train.shape[1:]),\n",
    "    keras.layers.Dense(1)\n",
    "])\n"
   ]
  },
  {
   "cell_type": "code",
   "execution_count": 48,
   "metadata": {},
   "outputs": [
    {
     "data": {
      "text/plain": [
       "<tensorflow.python.keras.layers.core.Dense at 0x269a98a3a00>"
      ]
     },
     "execution_count": 48,
     "metadata": {},
     "output_type": "execute_result"
    }
   ],
   "source": [
    "hidden = model.layers[1]\n",
    "hidden"
   ]
  },
  {
   "cell_type": "code",
   "execution_count": 49,
   "metadata": {},
   "outputs": [
    {
     "name": "stdout",
     "output_type": "stream",
     "text": [
      "Model: \"sequential_1\"\n",
      "_________________________________________________________________\n",
      "Layer (type)                 Output Shape              Param #   \n",
      "=================================================================\n",
      "dense_3 (Dense)              (None, 30)                270       \n",
      "_________________________________________________________________\n",
      "dense_4 (Dense)              (None, 1)                 31        \n",
      "=================================================================\n",
      "Total params: 301\n",
      "Trainable params: 301\n",
      "Non-trainable params: 0\n",
      "_________________________________________________________________\n"
     ]
    }
   ],
   "source": [
    "model.summary()"
   ]
  },
  {
   "cell_type": "code",
   "execution_count": 50,
   "metadata": {},
   "outputs": [],
   "source": [
    "#Compile the model\n",
    "model.compile(loss=\"mean_squared_error\", optimizer=\"sgd\")"
   ]
  },
  {
   "cell_type": "code",
   "execution_count": 51,
   "metadata": {},
   "outputs": [
    {
     "name": "stdout",
     "output_type": "stream",
     "text": [
      "Epoch 1/20\n",
      "296/363 [=======================>......] - ETA: 0s - loss: 0.8791WARNING:tensorflow:Callbacks method `on_test_batch_end` is slow compared to the batch time (batch time: 0.0000s vs `on_test_batch_end` time: 0.0010s). Check your callbacks.\n",
      "363/363 [==============================] - 0s 960us/step - loss: 0.9314 - val_loss: 0.5674\n",
      "Epoch 2/20\n",
      "363/363 [==============================] - 0s 644us/step - loss: 0.7707 - val_loss: 0.5093\n",
      "Epoch 3/20\n",
      "363/363 [==============================] - 0s 616us/step - loss: 0.5031 - val_loss: 0.4609\n",
      "Epoch 4/20\n",
      "363/363 [==============================] - 0s 682us/step - loss: 0.4810 - val_loss: 0.4442\n",
      "Epoch 5/20\n",
      "363/363 [==============================] - 0s 583us/step - loss: 0.4596 - val_loss: 0.4337\n",
      "Epoch 6/20\n",
      "363/363 [==============================] - 0s 742us/step - loss: 0.4467 - val_loss: 0.4226\n",
      "Epoch 7/20\n",
      "363/363 [==============================] - 0s 622us/step - loss: 0.4376 - val_loss: 0.4142\n",
      "Epoch 8/20\n",
      "363/363 [==============================] - 0s 589us/step - loss: 0.4299 - val_loss: 0.4134\n",
      "Epoch 9/20\n",
      "363/363 [==============================] - 0s 687us/step - loss: 0.4248 - val_loss: 0.4021\n",
      "Epoch 10/20\n",
      "363/363 [==============================] - 0s 688us/step - loss: 0.4275 - val_loss: 0.4142\n",
      "Epoch 11/20\n",
      "363/363 [==============================] - 0s 688us/step - loss: 0.4240 - val_loss: 0.4033\n",
      "Epoch 12/20\n",
      "363/363 [==============================] - 0s 640us/step - loss: 0.4131 - val_loss: 0.4059\n",
      "Epoch 13/20\n",
      "363/363 [==============================] - 0s 666us/step - loss: 0.4095 - val_loss: 0.3929\n",
      "Epoch 14/20\n",
      "363/363 [==============================] - 0s 655us/step - loss: 0.4092 - val_loss: 0.3903\n",
      "Epoch 15/20\n",
      "363/363 [==============================] - 0s 597us/step - loss: 0.4031 - val_loss: 0.3832\n",
      "Epoch 16/20\n",
      "363/363 [==============================] - 0s 721us/step - loss: 0.3994 - val_loss: 0.4172\n",
      "Epoch 17/20\n",
      "363/363 [==============================] - 0s 589us/step - loss: 0.4033 - val_loss: 0.3883\n",
      "Epoch 18/20\n",
      "363/363 [==============================] - 0s 635us/step - loss: 0.3940 - val_loss: 0.3770\n",
      "Epoch 19/20\n",
      "363/363 [==============================] - 0s 694us/step - loss: 0.3947 - val_loss: 0.3741\n",
      "Epoch 20/20\n",
      "363/363 [==============================] - 0s 584us/step - loss: 0.3873 - val_loss: 0.3691\n"
     ]
    }
   ],
   "source": [
    "historyr = model.fit(X_train, y_train, epochs=20,\n",
    "validation_data=(X_valid, y_valid))"
   ]
  },
  {
   "cell_type": "code",
   "execution_count": 52,
   "metadata": {},
   "outputs": [
    {
     "data": {
      "image/png": "[encoded data removed]",
      "text/plain": [
       "<Figure size 576x360 with 1 Axes>"
      ]
     },
     "metadata": {
      "needs_background": "light"
     },
     "output_type": "display_data"
    }
   ],
   "source": [
    "#plot the history of the model.fit\n",
    "pd.DataFrame(historyr.history).plot(figsize=(8, 5))\n",
    "plt.grid(True)\n",
    "plt.gca().set_ylim(0, 1) # set the vertical range to [0-1]\n",
    "plt.show()"
   ]
  },
  {
   "cell_type": "code",
   "execution_count": 53,
   "metadata": {},
   "outputs": [
    {
     "name": "stdout",
     "output_type": "stream",
     "text": [
      "162/162 [==============================] - 0s 433us/step - loss: 0.3840\n"
     ]
    }
   ],
   "source": [
    "#Evaluate the model on the test set\n",
    "mse_test = model.evaluate(X_test, y_test)\n"
   ]
  },
  {
   "cell_type": "code",
   "execution_count": 54,
   "metadata": {},
   "outputs": [
    {
     "data": {
      "text/plain": [
       "array([[ 0.25708838, -0.05808216, -0.22950229, -0.03502324,  0.00673089,\n",
       "         0.03583845, -0.86275385,  0.64645929],\n",
       "       [-0.39522925,  1.2988871 , -0.44952571, -0.05675687,  0.31250488,\n",
       "        -0.03287706, -0.70840067,  0.65641349],\n",
       "       [-0.26779006, -0.37736905,  0.06895041, -0.19964578, -0.02331627,\n",
       "        -0.03262817,  2.39737252, -2.27509849]])"
      ]
     },
     "execution_count": 54,
     "metadata": {},
     "output_type": "execute_result"
    }
   ],
   "source": [
    "#Test the model on data\n",
    "X_new = X_test[:3] # pretend these are new instances\n",
    "X_new"
   ]
  },
  {
   "cell_type": "code",
   "execution_count": 55,
   "metadata": {},
   "outputs": [
    {
     "data": {
      "text/plain": [
       "array([[2.5369978],\n",
       "       [2.2763255],\n",
       "       [1.1545289]], dtype=float32)"
      ]
     },
     "execution_count": 55,
     "metadata": {},
     "output_type": "execute_result"
    }
   ],
   "source": [
    "#predict the test\n",
    "y_pred = model.predict(X_new)\n",
    "y_pred"
   ]
  },
  {
   "cell_type": "code",
   "execution_count": 56,
   "metadata": {},
   "outputs": [
    {
     "data": {
      "text/plain": [
       "array([1.913, 2.14 , 1.006])"
      ]
     },
     "execution_count": 56,
     "metadata": {},
     "output_type": "execute_result"
    }
   ],
   "source": [
    "y_test[:3]"
   ]
  },
  {
   "cell_type": "markdown",
   "metadata": {},
   "source": [
    "### Functional API"
   ]
  },
  {
   "cell_type": "code",
   "execution_count": 57,
   "metadata": {},
   "outputs": [],
   "source": [
    "#A simple functional API under one path\n",
    "input_ = keras.layers.Input(shape=X_train.shape[1:])\n",
    "hidden1 = keras.layers.Dense(30, activation=\"relu\")(input_)\n",
    "hidden2 = keras.layers.Dense(30, activation=\"relu\")(hidden1)\n",
    "concat = keras.layers.Concatenate()([input_, hidden2])\n",
    "output = keras.layers.Dense(1)(concat)\n",
    "modelu = keras.Model(inputs=[input_], outputs=[output])"
   ]
  },
  {
   "cell_type": "code",
   "execution_count": 58,
   "metadata": {},
   "outputs": [],
   "source": [
    "#In other instances we need to create an API where two inputs exist\n",
    "input_A = keras.layers.Input(shape=[5], name=\"wide_input\")\n",
    "input_B = keras.layers.Input(shape=[6], name=\"deep_input\")\n",
    "hidden1 = keras.layers.Dense(30, activation=\"relu\")(input_B)\n",
    "hidden2 = keras.layers.Dense(30, activation=\"relu\")(hidden1)\n",
    "concat = keras.layers.concatenate([input_A, hidden2])\n",
    "output = keras.layers.Dense(1, name=\"output\")(concat)\n",
    "modelu = keras.Model(inputs=[input_A, input_B], outputs=[output])"
   ]
  },
  {
   "cell_type": "code",
   "execution_count": 62,
   "metadata": {},
   "outputs": [],
   "source": [
    "#Compile model\n",
    "modelu.compile(loss=\"mse\", optimizer=keras.optimizers.SGD(lr=1e-3))"
   ]
  },
  {
   "cell_type": "code",
   "execution_count": 63,
   "metadata": {},
   "outputs": [],
   "source": [
    "#Redifining the inputs due to the two channels\n",
    "X_train_A, X_train_B = X_train[:, :5], X_train[:, 2:]\n",
    "X_valid_A, X_valid_B = X_valid[:, :5], X_valid[:, 2:]\n",
    "X_test_A, X_test_B = X_test[:, :5], X_test[:, 2:]\n",
    "X_new_A, X_new_B = X_test_A[:3], X_test_B[:3]\n"
   ]
  },
  {
   "cell_type": "code",
   "execution_count": 64,
   "metadata": {},
   "outputs": [
    {
     "name": "stdout",
     "output_type": "stream",
     "text": [
      "Epoch 1/20\n",
      "363/363 [==============================] - 0s 899us/step - loss: 1.6417 - val_loss: 0.8878\n",
      "Epoch 2/20\n",
      "363/363 [==============================] - 0s 669us/step - loss: 0.8479 - val_loss: 0.7432\n",
      "Epoch 3/20\n",
      "363/363 [==============================] - 0s 625us/step - loss: 0.7370 - val_loss: 0.6670\n",
      "Epoch 4/20\n",
      "363/363 [==============================] - 0s 673us/step - loss: 0.6745 - val_loss: 0.6216\n",
      "Epoch 5/20\n",
      "363/363 [==============================] - 0s 653us/step - loss: 0.6320 - val_loss: 0.5874\n",
      "Epoch 6/20\n",
      "363/363 [==============================] - 0s 646us/step - loss: 0.6014 - val_loss: 0.5626\n",
      "Epoch 7/20\n",
      "363/363 [==============================] - 0s 626us/step - loss: 0.5776 - val_loss: 0.5426\n",
      "Epoch 8/20\n",
      "363/363 [==============================] - 0s 655us/step - loss: 0.5605 - val_loss: 0.5294\n",
      "Epoch 9/20\n",
      "363/363 [==============================] - 0s 659us/step - loss: 0.5467 - val_loss: 0.5175\n",
      "Epoch 10/20\n",
      "363/363 [==============================] - 0s 671us/step - loss: 0.5365 - val_loss: 0.5091\n",
      "Epoch 11/20\n",
      "363/363 [==============================] - 0s 651us/step - loss: 0.5282 - val_loss: 0.5016\n",
      "Epoch 12/20\n",
      "363/363 [==============================] - 0s 667us/step - loss: 0.5208 - val_loss: 0.4947\n",
      "Epoch 13/20\n",
      "363/363 [==============================] - 0s 684us/step - loss: 0.5148 - val_loss: 0.4894\n",
      "Epoch 14/20\n",
      "363/363 [==============================] - 0s 652us/step - loss: 0.5094 - val_loss: 0.4849\n",
      "Epoch 15/20\n",
      "363/363 [==============================] - 0s 629us/step - loss: 0.5049 - val_loss: 0.4820\n",
      "Epoch 16/20\n",
      "363/363 [==============================] - 0s 623us/step - loss: 0.5004 - val_loss: 0.4770\n",
      "Epoch 17/20\n",
      "363/363 [==============================] - 0s 710us/step - loss: 0.4966 - val_loss: 0.4743\n",
      "Epoch 18/20\n",
      "363/363 [==============================] - 0s 682us/step - loss: 0.4926 - val_loss: 0.4713\n",
      "Epoch 19/20\n",
      "363/363 [==============================] - 0s 741us/step - loss: 0.4891 - val_loss: 0.4662\n",
      "Epoch 20/20\n",
      "363/363 [==============================] - 0s 776us/step - loss: 0.4870 - val_loss: 0.4638\n"
     ]
    }
   ],
   "source": [
    "#Fitting the model\n",
    "historyu = modelu.fit((X_train_A, X_train_B), y_train, epochs=20,\n",
    "validation_data=((X_valid_A, X_valid_B), y_valid))"
   ]
  },
  {
   "cell_type": "code",
   "execution_count": 65,
   "metadata": {},
   "outputs": [
    {
     "data": {
      "image/png": "[encoded data removed]",
      "text/plain": [
       "<Figure size 576x360 with 1 Axes>"
      ]
     },
     "metadata": {
      "needs_background": "light"
     },
     "output_type": "display_data"
    }
   ],
   "source": [
    "#plot the history of the model.fit\n",
    "pd.DataFrame(historyu.history).plot(figsize=(8, 5))\n",
    "plt.grid(True)\n",
    "plt.gca().set_ylim(0, 1) # set the vertical range to [0-1]\n",
    "plt.show()"
   ]
  },
  {
   "cell_type": "code",
   "execution_count": 66,
   "metadata": {},
   "outputs": [
    {
     "name": "stdout",
     "output_type": "stream",
     "text": [
      "162/162 [==============================] - 0s 468us/step - loss: 0.4794\n"
     ]
    }
   ],
   "source": [
    "#Testing the model\n",
    "mse_test = modelu.evaluate((X_test_A, X_test_B), y_test)\n"
   ]
  },
  {
   "cell_type": "code",
   "execution_count": 67,
   "metadata": {},
   "outputs": [
    {
     "data": {
      "text/plain": [
       "array([[2.4579196],\n",
       "       [2.1320496],\n",
       "       [1.7470169]], dtype=float32)"
      ]
     },
     "execution_count": 67,
     "metadata": {},
     "output_type": "execute_result"
    }
   ],
   "source": [
    "#predict the model\n",
    "y_pred = modelu.predict((X_new_A, X_new_B))\n",
    "y_pred"
   ]
  },
  {
   "cell_type": "code",
   "execution_count": 68,
   "metadata": {},
   "outputs": [
    {
     "data": {
      "text/plain": [
       "array([1.913, 2.14 , 1.006])"
      ]
     },
     "execution_count": 68,
     "metadata": {},
     "output_type": "execute_result"
    }
   ],
   "source": [
    "y_test[:3]"
   ]
  },
  {
   "cell_type": "markdown",
   "metadata": {},
   "source": [
    "##### Adding Auxilliary outputs for regularization\n"
   ]
  },
  {
   "cell_type": "code",
   "execution_count": 69,
   "metadata": {},
   "outputs": [],
   "source": [
    "#Adding Auxilliary output\n",
    "input_A = keras.layers.Input(shape=[5], name=\"wide_input\")\n",
    "input_B = keras.layers.Input(shape=[6], name=\"deep_input\")\n",
    "hidden1 = keras.layers.Dense(30, activation=\"relu\")(input_B)\n",
    "hidden2 = keras.layers.Dense(30, activation=\"relu\")(hidden1)\n",
    "concat = keras.layers.concatenate([input_A, hidden2])\n",
    "output = keras.layers.Dense(1, name=\"main_output\")(concat)\n",
    "aux_output = keras.layers.Dense(1, name=\"aux_output\")(hidden2)\n",
    "modelf = keras.Model(inputs=[input_A, input_B], outputs=[output,\n",
    "aux_output])"
   ]
  },
  {
   "cell_type": "code",
   "execution_count": 70,
   "metadata": {},
   "outputs": [],
   "source": [
    "#When compiling pass different losses and weight more on the main output\n",
    "modelf.compile(loss=[\"mse\", \"mse\"], loss_weights=[0.9, 0.1],\n",
    "optimizer=\"sgd\")"
   ]
  },
  {
   "cell_type": "code",
   "execution_count": 73,
   "metadata": {},
   "outputs": [
    {
     "name": "stdout",
     "output_type": "stream",
     "text": [
      "Epoch 1/20\n",
      "343/363 [===========================>..] - ETA: 0s - loss: 0.3804 - main_output_loss: 0.3635 - aux_output_loss: 0.5323WARNING:tensorflow:Callbacks method `on_test_batch_end` is slow compared to the batch time (batch time: 0.0000s vs `on_test_batch_end` time: 0.0010s). Check your callbacks.\n",
      "363/363 [==============================] - 0s 888us/step - loss: 0.3841 - main_output_loss: 0.3673 - aux_output_loss: 0.5355 - val_loss: 0.3471 - val_main_output_loss: 0.3302 - val_aux_output_loss: 0.4989\n",
      "Epoch 2/20\n",
      "363/363 [==============================] - 0s 821us/step - loss: 0.3767 - main_output_loss: 0.3599 - aux_output_loss: 0.5280 - val_loss: 0.3816 - val_main_output_loss: 0.3671 - val_aux_output_loss: 0.5117\n",
      "Epoch 3/20\n",
      "363/363 [==============================] - 0s 928us/step - loss: 0.3774 - main_output_loss: 0.3612 - aux_output_loss: 0.5225 - val_loss: 0.3504 - val_main_output_loss: 0.3348 - val_aux_output_loss: 0.4909\n",
      "Epoch 4/20\n",
      "363/363 [==============================] - 0s 840us/step - loss: 0.3761 - main_output_loss: 0.3604 - aux_output_loss: 0.5175 - val_loss: 0.3692 - val_main_output_loss: 0.3547 - val_aux_output_loss: 0.4993\n",
      "Epoch 5/20\n",
      "363/363 [==============================] - 0s 717us/step - loss: 0.3807 - main_output_loss: 0.3659 - aux_output_loss: 0.5138 - val_loss: 0.3562 - val_main_output_loss: 0.3412 - val_aux_output_loss: 0.4911\n",
      "Epoch 6/20\n",
      "363/363 [==============================] - 0s 758us/step - loss: 0.3722 - main_output_loss: 0.3570 - aux_output_loss: 0.5091 - val_loss: 0.3434 - val_main_output_loss: 0.3278 - val_aux_output_loss: 0.4833\n",
      "Epoch 7/20\n",
      "363/363 [==============================] - 0s 750us/step - loss: 0.3694 - main_output_loss: 0.3543 - aux_output_loss: 0.5046 - val_loss: 0.3381 - val_main_output_loss: 0.3235 - val_aux_output_loss: 0.4700\n",
      "Epoch 8/20\n",
      "363/363 [==============================] - 0s 763us/step - loss: 0.3709 - main_output_loss: 0.3568 - aux_output_loss: 0.4976 - val_loss: 0.3460 - val_main_output_loss: 0.3313 - val_aux_output_loss: 0.4784\n",
      "Epoch 9/20\n",
      "363/363 [==============================] - 0s 756us/step - loss: 0.3659 - main_output_loss: 0.3517 - aux_output_loss: 0.4936 - val_loss: 0.3454 - val_main_output_loss: 0.3313 - val_aux_output_loss: 0.4720\n",
      "Epoch 10/20\n",
      "363/363 [==============================] - 0s 769us/step - loss: 0.3643 - main_output_loss: 0.3505 - aux_output_loss: 0.4892 - val_loss: 0.3365 - val_main_output_loss: 0.3229 - val_aux_output_loss: 0.4589\n",
      "Epoch 11/20\n",
      "363/363 [==============================] - 0s 787us/step - loss: 0.3704 - main_output_loss: 0.3573 - aux_output_loss: 0.4887 - val_loss: 0.3475 - val_main_output_loss: 0.3331 - val_aux_output_loss: 0.4773\n",
      "Epoch 12/20\n",
      "363/363 [==============================] - 0s 801us/step - loss: 0.3741 - main_output_loss: 0.3618 - aux_output_loss: 0.4853 - val_loss: 0.3332 - val_main_output_loss: 0.3199 - val_aux_output_loss: 0.4533\n",
      "Epoch 13/20\n",
      "363/363 [==============================] - 0s 784us/step - loss: 0.3599 - main_output_loss: 0.3465 - aux_output_loss: 0.4807 - val_loss: 0.3401 - val_main_output_loss: 0.3275 - val_aux_output_loss: 0.4530\n",
      "Epoch 14/20\n",
      "363/363 [==============================] - 0s 936us/step - loss: 0.3570 - main_output_loss: 0.3439 - aux_output_loss: 0.4746 - val_loss: 0.3296 - val_main_output_loss: 0.3164 - val_aux_output_loss: 0.4487\n",
      "Epoch 15/20\n",
      "363/363 [==============================] - 0s 800us/step - loss: 0.3577 - main_output_loss: 0.3448 - aux_output_loss: 0.4731 - val_loss: 0.3444 - val_main_output_loss: 0.3316 - val_aux_output_loss: 0.4597\n",
      "Epoch 16/20\n",
      "363/363 [==============================] - 0s 775us/step - loss: 0.3566 - main_output_loss: 0.3439 - aux_output_loss: 0.4703 - val_loss: 0.3308 - val_main_output_loss: 0.3186 - val_aux_output_loss: 0.4410\n",
      "Epoch 17/20\n",
      "363/363 [==============================] - 0s 779us/step - loss: 0.3553 - main_output_loss: 0.3430 - aux_output_loss: 0.4665 - val_loss: 0.3299 - val_main_output_loss: 0.3175 - val_aux_output_loss: 0.4415\n",
      "Epoch 18/20\n",
      "363/363 [==============================] - 0s 832us/step - loss: 0.3534 - main_output_loss: 0.3411 - aux_output_loss: 0.4637 - val_loss: 0.3255 - val_main_output_loss: 0.3136 - val_aux_output_loss: 0.4326\n",
      "Epoch 19/20\n",
      "363/363 [==============================] - 0s 859us/step - loss: 0.3530 - main_output_loss: 0.3409 - aux_output_loss: 0.4620 - val_loss: 0.3215 - val_main_output_loss: 0.3094 - val_aux_output_loss: 0.4305\n",
      "Epoch 20/20\n",
      "363/363 [==============================] - 0s 797us/step - loss: 0.3521 - main_output_loss: 0.3404 - aux_output_loss: 0.4578 - val_loss: 0.3323 - val_main_output_loss: 0.3206 - val_aux_output_loss: 0.4377\n"
     ]
    }
   ],
   "source": [
    "#model_fit\n",
    "historyf = modelf.fit(\n",
    "[X_train_A, X_train_B], [y_train, y_train], epochs=20,\n",
    "validation_data=([X_valid_A, X_valid_B], [y_valid, y_valid]))\n"
   ]
  },
  {
   "cell_type": "code",
   "execution_count": 74,
   "metadata": {},
   "outputs": [
    {
     "data": {
      "text/plain": [
       "{'loss': [0.38409334421157837,\n",
       "  0.37674620747566223,\n",
       "  0.3773658573627472,\n",
       "  0.37613847851753235,\n",
       "  0.3806729316711426,\n",
       "  0.3721720576286316,\n",
       "  0.36935487389564514,\n",
       "  0.3708801567554474,\n",
       "  0.3658926784992218,\n",
       "  0.3643413782119751,\n",
       "  0.3704252541065216,\n",
       "  0.3741052746772766,\n",
       "  0.35989856719970703,\n",
       "  0.3570003807544708,\n",
       "  0.3576642870903015,\n",
       "  0.3565845191478729,\n",
       "  0.3553118407726288,\n",
       "  0.35340216755867004,\n",
       "  0.353039026260376,\n",
       "  0.35214608907699585],\n",
       " 'main_output_loss': [0.3672701418399811,\n",
       "  0.3599369525909424,\n",
       "  0.36124128103256226,\n",
       "  0.36043453216552734,\n",
       "  0.3658796548843384,\n",
       "  0.35696181654930115,\n",
       "  0.3543243706226349,\n",
       "  0.35679885745048523,\n",
       "  0.3517065644264221,\n",
       "  0.35046347975730896,\n",
       "  0.35727930068969727,\n",
       "  0.36175036430358887,\n",
       "  0.3464744985103607,\n",
       "  0.3439306616783142,\n",
       "  0.3448336124420166,\n",
       "  0.34394586086273193,\n",
       "  0.3429536819458008,\n",
       "  0.3411456048488617,\n",
       "  0.3409295678138733,\n",
       "  0.3404037058353424],\n",
       " 'aux_output_loss': [0.5355035662651062,\n",
       "  0.5280303359031677,\n",
       "  0.5224871635437012,\n",
       "  0.5174753069877625,\n",
       "  0.5138114094734192,\n",
       "  0.5090648531913757,\n",
       "  0.5046288967132568,\n",
       "  0.49761277437210083,\n",
       "  0.49356797337532043,\n",
       "  0.4892410337924957,\n",
       "  0.4887389838695526,\n",
       "  0.4852989912033081,\n",
       "  0.4807150065898895,\n",
       "  0.47462746500968933,\n",
       "  0.47313931584358215,\n",
       "  0.47033074498176575,\n",
       "  0.4665358364582062,\n",
       "  0.4637115001678467,\n",
       "  0.46202319860458374,\n",
       "  0.4578261375427246],\n",
       " 'val_loss': [0.347106397151947,\n",
       "  0.3815670907497406,\n",
       "  0.3504188656806946,\n",
       "  0.36916130781173706,\n",
       "  0.3562279939651489,\n",
       "  0.34336915612220764,\n",
       "  0.33812054991722107,\n",
       "  0.34600260853767395,\n",
       "  0.345394492149353,\n",
       "  0.3364741802215576,\n",
       "  0.3475036919116974,\n",
       "  0.3332056701183319,\n",
       "  0.3400617837905884,\n",
       "  0.32960695028305054,\n",
       "  0.34443044662475586,\n",
       "  0.3308197855949402,\n",
       "  0.329908549785614,\n",
       "  0.3254747986793518,\n",
       "  0.3215450048446655,\n",
       "  0.3323304057121277],\n",
       " 'val_main_output_loss': [0.33023613691329956,\n",
       "  0.3671117424964905,\n",
       "  0.33481186628341675,\n",
       "  0.3547006845474243,\n",
       "  0.3412446975708008,\n",
       "  0.32782095670700073,\n",
       "  0.32346847653388977,\n",
       "  0.3312884271144867,\n",
       "  0.33133265376091003,\n",
       "  0.3228763937950134,\n",
       "  0.3330816924571991,\n",
       "  0.3198627531528473,\n",
       "  0.32751306891441345,\n",
       "  0.31637245416641235,\n",
       "  0.3316222131252289,\n",
       "  0.31857314705848694,\n",
       "  0.3175083100795746,\n",
       "  0.31357523798942566,\n",
       "  0.3094359040260315,\n",
       "  0.32062041759490967],\n",
       " 'val_aux_output_loss': [0.4989384114742279,\n",
       "  0.5116660594940186,\n",
       "  0.49088162183761597,\n",
       "  0.4993063807487488,\n",
       "  0.4910774827003479,\n",
       "  0.48330172896385193,\n",
       "  0.4699895977973938,\n",
       "  0.47842884063720703,\n",
       "  0.47195035219192505,\n",
       "  0.45885276794433594,\n",
       "  0.4773027002811432,\n",
       "  0.453292578458786,\n",
       "  0.4530012607574463,\n",
       "  0.4487171769142151,\n",
       "  0.459704726934433,\n",
       "  0.4410387873649597,\n",
       "  0.4415103793144226,\n",
       "  0.43257078528404236,\n",
       "  0.43052709102630615,\n",
       "  0.43771788477897644]}"
      ]
     },
     "execution_count": 74,
     "metadata": {},
     "output_type": "execute_result"
    }
   ],
   "source": [
    "historyf.history"
   ]
  },
  {
   "cell_type": "code",
   "execution_count": 75,
   "metadata": {},
   "outputs": [
    {
     "data": {
      "image/png": "[encoded data removed]",
      "text/plain": [
       "<Figure size 576x360 with 1 Axes>"
      ]
     },
     "metadata": {
      "needs_background": "light"
     },
     "output_type": "display_data"
    }
   ],
   "source": [
    "#plot the history of the model.fit\n",
    "pd.DataFrame(historyf.history).plot(figsize=(8, 5))\n",
    "plt.grid(True)\n",
    "plt.gca().set_ylim(0, 1) # set the vertical range to [0-1]\n",
    "plt.show()"
   ]
  },
  {
   "cell_type": "code",
   "execution_count": 78,
   "metadata": {},
   "outputs": [
    {
     "name": "stdout",
     "output_type": "stream",
     "text": [
      "162/162 [==============================] - 0s 525us/step - loss: 0.3626 - main_output_loss: 0.3517 - aux_output_loss: 0.4606\n"
     ]
    }
   ],
   "source": [
    "#Evaluate the model. We get the total, main and auxilliary loss\n",
    "total_loss, main_loss, aux_loss = modelf.evaluate(\n",
    "[X_test_A, X_test_B], [y_test, y_test])\n"
   ]
  },
  {
   "cell_type": "code",
   "execution_count": 79,
   "metadata": {},
   "outputs": [
    {
     "data": {
      "text/plain": [
       "array([[ 0.25708838, -0.05808216, -0.22950229, -0.03502324,  0.00673089],\n",
       "       [-0.39522925,  1.2988871 , -0.44952571, -0.05675687,  0.31250488],\n",
       "       [-0.26779006, -0.37736905,  0.06895041, -0.19964578, -0.02331627]])"
      ]
     },
     "execution_count": 79,
     "metadata": {},
     "output_type": "execute_result"
    }
   ],
   "source": [
    "#Test the model on data\n",
    "X_new_A = X_test_A[:3] # pretend these are new instances\n",
    "X_new_A"
   ]
  },
  {
   "cell_type": "code",
   "execution_count": 80,
   "metadata": {},
   "outputs": [
    {
     "data": {
      "text/plain": [
       "array([[-0.22950229, -0.03502324,  0.00673089,  0.03583845, -0.86275385,\n",
       "         0.64645929],\n",
       "       [-0.44952571, -0.05675687,  0.31250488, -0.03287706, -0.70840067,\n",
       "         0.65641349],\n",
       "       [ 0.06895041, -0.19964578, -0.02331627, -0.03262817,  2.39737252,\n",
       "        -2.27509849]])"
      ]
     },
     "execution_count": 80,
     "metadata": {},
     "output_type": "execute_result"
    }
   ],
   "source": [
    "#Test the model on data\n",
    "X_new_B = X_test_B[:3] # pretend these are new instances\n",
    "X_new_B"
   ]
  },
  {
   "cell_type": "code",
   "execution_count": 81,
   "metadata": {},
   "outputs": [
    {
     "data": {
      "text/plain": [
       "(array([[2.097452 ],\n",
       "        [2.041925 ],\n",
       "        [1.1271311]], dtype=float32),\n",
       " array([[1.9070022],\n",
       "        [1.9654696],\n",
       "        [1.451603 ]], dtype=float32))"
      ]
     },
     "execution_count": 81,
     "metadata": {},
     "output_type": "execute_result"
    }
   ],
   "source": [
    "#prediction of the model\n",
    "y_pred_main, y_pred_aux = modelf.predict([X_new_A, X_new_B])\n",
    "y_pred_main, y_pred_aux"
   ]
  },
  {
   "cell_type": "code",
   "execution_count": 82,
   "metadata": {},
   "outputs": [
    {
     "data": {
      "text/plain": [
       "array([1.913, 2.14 , 1.006])"
      ]
     },
     "execution_count": 82,
     "metadata": {},
     "output_type": "execute_result"
    }
   ],
   "source": [
    "#Compare on the test data\n",
    "y_test[:3]"
   ]
  },
  {
   "cell_type": "markdown",
   "metadata": {},
   "source": [
    "### Subclassing API"
   ]
  },
  {
   "cell_type": "code",
   "execution_count": 83,
   "metadata": {},
   "outputs": [],
   "source": [
    "class WideAndDeepModel(keras.Model):\n",
    "    def __init__(self, units=30, activation=\"relu\", **kwargs):\n",
    "        super().__init__(**kwargs) # handles standard args (e.g., name)\n",
    "        self.hidden1 = keras.layers.Dense(units, activation=activation)\n",
    "        self.hidden2 = keras.layers.Dense(units, activation=activation)\n",
    "        self.main_output = keras.layers.Dense(1)\n",
    "        self.aux_output = keras.layers.Dense(1)\n",
    "        \n",
    "    def call(self, inputs):\n",
    "        input_A, input_B = inputs\n",
    "        hidden1 = self.hidden1(input_B)\n",
    "        hidden2 = self.hidden2(hidden1)\n",
    "        concat = keras.layers.concatenate([input_A, hidden2])\n",
    "        main_output = self.main_output(concat)\n",
    "        aux_output = self.aux_output(hidden2)\n",
    "        return main_output, aux_output\n",
    "    \n",
    "models = WideAndDeepModel()"
   ]
  },
  {
   "cell_type": "code",
   "execution_count": 84,
   "metadata": {},
   "outputs": [],
   "source": [
    "#When compiling pass different losses and weight more on the main output\n",
    "models.compile(loss=[\"mse\", \"mse\"], loss_weights=[0.9, 0.1],\n",
    "optimizer=\"sgd\")"
   ]
  },
  {
   "cell_type": "code",
   "execution_count": 85,
   "metadata": {},
   "outputs": [
    {
     "name": "stdout",
     "output_type": "stream",
     "text": [
      "Epoch 1/20\n",
      "363/363 [==============================] - 0s 1ms/step - loss: 1.2440 - output_1_loss: 1.1602 - output_2_loss: 1.9983 - val_loss: 0.5937 - val_output_1_loss: 0.5352 - val_output_2_loss: 1.1203\n",
      "Epoch 2/20\n",
      "363/363 [==============================] - 0s 752us/step - loss: 0.5814 - output_1_loss: 0.5297 - output_2_loss: 1.0467 - val_loss: 0.5156 - val_output_1_loss: 0.4769 - val_output_2_loss: 0.8643\n",
      "Epoch 3/20\n",
      "363/363 [==============================] - 0s 759us/step - loss: 0.5289 - output_1_loss: 0.4910 - output_2_loss: 0.8699 - val_loss: 0.4856 - val_output_1_loss: 0.4557 - val_output_2_loss: 0.7552\n",
      "Epoch 4/20\n",
      "363/363 [==============================] - 0s 841us/step - loss: 0.5074 - output_1_loss: 0.4769 - output_2_loss: 0.7817 - val_loss: 0.4680 - val_output_1_loss: 0.4434 - val_output_2_loss: 0.6890\n",
      "Epoch 5/20\n",
      "363/363 [==============================] - 0s 920us/step - loss: 0.4969 - output_1_loss: 0.4714 - output_2_loss: 0.7262 - val_loss: 0.4708 - val_output_1_loss: 0.4448 - val_output_2_loss: 0.7052\n",
      "Epoch 6/20\n",
      "363/363 [==============================] - 0s 776us/step - loss: 0.4791 - output_1_loss: 0.4554 - output_2_loss: 0.6924 - val_loss: 0.4530 - val_output_1_loss: 0.4340 - val_output_2_loss: 0.6237\n",
      "Epoch 7/20\n",
      "363/363 [==============================] - 0s 763us/step - loss: 0.4729 - output_1_loss: 0.4514 - output_2_loss: 0.6665 - val_loss: 0.4615 - val_output_1_loss: 0.4442 - val_output_2_loss: 0.6172\n",
      "Epoch 8/20\n",
      "363/363 [==============================] - 0s 762us/step - loss: 0.4618 - output_1_loss: 0.4408 - output_2_loss: 0.6501 - val_loss: 0.4302 - val_output_1_loss: 0.4088 - val_output_2_loss: 0.6228\n",
      "Epoch 9/20\n",
      "363/363 [==============================] - 0s 881us/step - loss: 0.4502 - output_1_loss: 0.4300 - output_2_loss: 0.6322 - val_loss: 0.4210 - val_output_1_loss: 0.4013 - val_output_2_loss: 0.5979\n",
      "Epoch 10/20\n",
      "363/363 [==============================] - 0s 713us/step - loss: 0.4422 - output_1_loss: 0.4230 - output_2_loss: 0.6145 - val_loss: 0.4208 - val_output_1_loss: 0.4039 - val_output_2_loss: 0.5725\n",
      "Epoch 11/20\n",
      "363/363 [==============================] - 0s 786us/step - loss: 0.4399 - output_1_loss: 0.4218 - output_2_loss: 0.6028 - val_loss: 0.4053 - val_output_1_loss: 0.3888 - val_output_2_loss: 0.5539\n",
      "Epoch 12/20\n",
      "363/363 [==============================] - 0s 758us/step - loss: 0.4315 - output_1_loss: 0.4138 - output_2_loss: 0.5903 - val_loss: 0.4125 - val_output_1_loss: 0.3958 - val_output_2_loss: 0.5631\n",
      "Epoch 13/20\n",
      "363/363 [==============================] - 0s 872us/step - loss: 0.4225 - output_1_loss: 0.4051 - output_2_loss: 0.5786 - val_loss: 0.3916 - val_output_1_loss: 0.3748 - val_output_2_loss: 0.5426\n",
      "Epoch 14/20\n",
      "363/363 [==============================] - 0s 848us/step - loss: 0.4187 - output_1_loss: 0.4027 - output_2_loss: 0.5631 - val_loss: 0.4187 - val_output_1_loss: 0.4082 - val_output_2_loss: 0.5138\n",
      "Epoch 15/20\n",
      "363/363 [==============================] - 0s 728us/step - loss: 0.4106 - output_1_loss: 0.3943 - output_2_loss: 0.5578 - val_loss: 0.3817 - val_output_1_loss: 0.3649 - val_output_2_loss: 0.5331\n",
      "Epoch 16/20\n",
      "363/363 [==============================] - 0s 758us/step - loss: 0.4043 - output_1_loss: 0.3885 - output_2_loss: 0.5465 - val_loss: 0.3787 - val_output_1_loss: 0.3612 - val_output_2_loss: 0.5359\n",
      "Epoch 17/20\n",
      "363/363 [==============================] - 0s 774us/step - loss: 0.3977 - output_1_loss: 0.3827 - output_2_loss: 0.5330 - val_loss: 0.3830 - val_output_1_loss: 0.3687 - val_output_2_loss: 0.5112\n",
      "Epoch 18/20\n",
      "363/363 [==============================] - 0s 852us/step - loss: 0.4023 - output_1_loss: 0.3876 - output_2_loss: 0.5342 - val_loss: 0.3796 - val_output_1_loss: 0.3666 - val_output_2_loss: 0.4973\n",
      "Epoch 19/20\n",
      "363/363 [==============================] - 0s 728us/step - loss: 0.3872 - output_1_loss: 0.3733 - output_2_loss: 0.5122 - val_loss: 0.3789 - val_output_1_loss: 0.3676 - val_output_2_loss: 0.4811\n",
      "Epoch 20/20\n",
      "363/363 [==============================] - 0s 751us/step - loss: 0.3842 - output_1_loss: 0.3707 - output_2_loss: 0.5064 - val_loss: 0.3568 - val_output_1_loss: 0.3435 - val_output_2_loss: 0.4767\n"
     ]
    }
   ],
   "source": [
    "#model_fit\n",
    "historys = models.fit(\n",
    "[X_train_A, X_train_B], [y_train, y_train], epochs=20,\n",
    "validation_data=([X_valid_A, X_valid_B], [y_valid, y_valid]))"
   ]
  },
  {
   "cell_type": "code",
   "execution_count": 86,
   "metadata": {},
   "outputs": [
    {
     "data": {
      "text/plain": [
       "{'loss': [1.2439833879470825,\n",
       "  0.5814059972763062,\n",
       "  0.5288615822792053,\n",
       "  0.5074074268341064,\n",
       "  0.4969024658203125,\n",
       "  0.4791080355644226,\n",
       "  0.4729207158088684,\n",
       "  0.46175050735473633,\n",
       "  0.45018520951271057,\n",
       "  0.44218742847442627,\n",
       "  0.4399300217628479,\n",
       "  0.4314928352832794,\n",
       "  0.42245396971702576,\n",
       "  0.4187447726726532,\n",
       "  0.4106454849243164,\n",
       "  0.40434569120407104,\n",
       "  0.3977392315864563,\n",
       "  0.4022931456565857,\n",
       "  0.3871597647666931,\n",
       "  0.3842499554157257],\n",
       " 'output_1_loss': [1.1601732969284058,\n",
       "  0.5297086834907532,\n",
       "  0.4909636378288269,\n",
       "  0.4769330322742462,\n",
       "  0.4714289903640747,\n",
       "  0.45540887117385864,\n",
       "  0.4514153301715851,\n",
       "  0.44081979990005493,\n",
       "  0.42996641993522644,\n",
       "  0.4230392277240753,\n",
       "  0.42183488607406616,\n",
       "  0.4138435125350952,\n",
       "  0.4051066040992737,\n",
       "  0.40270528197288513,\n",
       "  0.394298791885376,\n",
       "  0.3885498344898224,\n",
       "  0.38271260261535645,\n",
       "  0.38763201236724854,\n",
       "  0.37327149510383606,\n",
       "  0.3706742227077484],\n",
       " 'output_2_loss': [1.99828040599823,\n",
       "  1.046683430671692,\n",
       "  0.8699433207511902,\n",
       "  0.7816777229309082,\n",
       "  0.7261635661125183,\n",
       "  0.6923996210098267,\n",
       "  0.6664701700210571,\n",
       "  0.6501275300979614,\n",
       "  0.6321561932563782,\n",
       "  0.614524781703949,\n",
       "  0.6027882695198059,\n",
       "  0.5903361439704895,\n",
       "  0.578580915927887,\n",
       "  0.563103199005127,\n",
       "  0.557769238948822,\n",
       "  0.5465102195739746,\n",
       "  0.5329792499542236,\n",
       "  0.5342450141906738,\n",
       "  0.5121538043022156,\n",
       "  0.5064315795898438],\n",
       " 'val_loss': [0.5936936736106873,\n",
       "  0.5156248807907104,\n",
       "  0.48564043641090393,\n",
       "  0.4679506719112396,\n",
       "  0.4708159267902374,\n",
       "  0.4529725909233093,\n",
       "  0.4614700675010681,\n",
       "  0.43018561601638794,\n",
       "  0.4209931790828705,\n",
       "  0.4207637310028076,\n",
       "  0.40527108311653137,\n",
       "  0.4125399887561798,\n",
       "  0.3915952742099762,\n",
       "  0.41872158646583557,\n",
       "  0.3816767632961273,\n",
       "  0.37866440415382385,\n",
       "  0.38298264145851135,\n",
       "  0.3796337842941284,\n",
       "  0.37893426418304443,\n",
       "  0.3568335771560669],\n",
       " 'val_output_1_loss': [0.5351876020431519,\n",
       "  0.47688278555870056,\n",
       "  0.4556857943534851,\n",
       "  0.44338899850845337,\n",
       "  0.4447718560695648,\n",
       "  0.43399763107299805,\n",
       "  0.44416138529777527,\n",
       "  0.40878185629844666,\n",
       "  0.4013344347476959,\n",
       "  0.4038994014263153,\n",
       "  0.38875722885131836,\n",
       "  0.3958108425140381,\n",
       "  0.3748188316822052,\n",
       "  0.4081553518772125,\n",
       "  0.364854097366333,\n",
       "  0.36119651794433594,\n",
       "  0.36873772740364075,\n",
       "  0.366556853055954,\n",
       "  0.36757704615592957,\n",
       "  0.3435114324092865],\n",
       " 'val_output_2_loss': [1.1202508211135864,\n",
       "  0.8643038272857666,\n",
       "  0.755231499671936,\n",
       "  0.6890062689781189,\n",
       "  0.7052134871482849,\n",
       "  0.6237473487854004,\n",
       "  0.6172480583190918,\n",
       "  0.6228188872337341,\n",
       "  0.5979228615760803,\n",
       "  0.5725427865982056,\n",
       "  0.5538949370384216,\n",
       "  0.5631020069122314,\n",
       "  0.5425848960876465,\n",
       "  0.5138177871704102,\n",
       "  0.5330802798271179,\n",
       "  0.535877525806427,\n",
       "  0.5111876130104065,\n",
       "  0.49732568860054016,\n",
       "  0.4811484217643738,\n",
       "  0.47673293948173523]}"
      ]
     },
     "execution_count": 86,
     "metadata": {},
     "output_type": "execute_result"
    }
   ],
   "source": [
    "historys.history"
   ]
  },
  {
   "cell_type": "code",
   "execution_count": 87,
   "metadata": {},
   "outputs": [
    {
     "data": {
      "image/png": "[encoded data removed]",
      "text/plain": [
       "<Figure size 576x360 with 1 Axes>"
      ]
     },
     "metadata": {
      "needs_background": "light"
     },
     "output_type": "display_data"
    }
   ],
   "source": [
    "#plot the history of the model.fit\n",
    "pd.DataFrame(historys.history).plot(figsize=(8, 5))\n",
    "plt.grid(True)\n",
    "plt.gca().set_ylim(0, 1) # set the vertical range to [0-1]\n",
    "plt.show()"
   ]
  },
  {
   "cell_type": "code",
   "execution_count": 89,
   "metadata": {},
   "outputs": [
    {
     "name": "stdout",
     "output_type": "stream",
     "text": [
      "162/162 [==============================] - 0s 576us/step - loss: 0.3835 - output_1_loss: 0.3718 - output_2_loss: 0.4888\n"
     ]
    }
   ],
   "source": [
    "#Evaluate the model. We get the total, main and auxilliary loss\n",
    "total_loss, main_loss, aux_loss = models.evaluate(\n",
    "[X_test_A, X_test_B], [y_test, y_test])"
   ]
  },
  {
   "cell_type": "code",
   "execution_count": 91,
   "metadata": {},
   "outputs": [],
   "source": [
    "#Saving the functionl API Model\n",
    "model.save(\"sequential_model.h5\")\n",
    "modelf.save(\"functional_model.h5\")\n",
    "modelu.save(\"functional_model_auxilliary.h5\")"
   ]
  },
  {
   "cell_type": "markdown",
   "metadata": {},
   "source": [
    "### Using Callbacks"
   ]
  },
  {
   "cell_type": "code",
   "execution_count": 94,
   "metadata": {},
   "outputs": [],
   "source": [
    "#Import the saved model\n",
    "checkpoint_cb = keras.callbacks.ModelCheckpoint(\"functional_model_auxilliary.h5\")"
   ]
  },
  {
   "cell_type": "code",
   "execution_count": 95,
   "metadata": {},
   "outputs": [
    {
     "name": "stdout",
     "output_type": "stream",
     "text": [
      "Epoch 1/10\n",
      "363/363 [==============================] - 0s 609us/step - loss: 0.3810\n",
      "Epoch 2/10\n",
      "363/363 [==============================] - 0s 647us/step - loss: 0.3804\n",
      "Epoch 3/10\n",
      "363/363 [==============================] - 0s 576us/step - loss: 0.3800\n",
      "Epoch 4/10\n",
      "363/363 [==============================] - 0s 588us/step - loss: 0.3798\n",
      "Epoch 5/10\n",
      "363/363 [==============================] - 0s 595us/step - loss: 0.3793\n",
      "Epoch 6/10\n",
      "363/363 [==============================] - 0s 561us/step - loss: 0.3790\n",
      "Epoch 7/10\n",
      "363/363 [==============================] - 0s 608us/step - loss: 0.3788\n",
      "Epoch 8/10\n",
      "363/363 [==============================] - 0s 543us/step - loss: 0.3785\n",
      "Epoch 9/10\n",
      "363/363 [==============================] - 0s 605us/step - loss: 0.3782\n",
      "Epoch 10/10\n",
      "363/363 [==============================] - 0s 580us/step - loss: 0.3779\n"
     ]
    }
   ],
   "source": [
    "#Obtain the history by calling back the checkpoiints\n",
    "history = model.fit(X_train, y_train, epochs=10, callbacks=\n",
    "[checkpoint_cb])\n"
   ]
  },
  {
   "cell_type": "code",
   "execution_count": 98,
   "metadata": {},
   "outputs": [
    {
     "data": {
      "image/png": "[encoded data removed]",
      "text/plain": [
       "<Figure size 576x360 with 1 Axes>"
      ]
     },
     "metadata": {
      "needs_background": "light"
     },
     "output_type": "display_data"
    }
   ],
   "source": [
    "#plot the history of the model.fit\n",
    "pd.DataFrame(history.history).plot(figsize=(8, 5))\n",
    "plt.grid(True)\n",
    "plt.gca().set_ylim(0, 1) # set the vertical range to [0-1]\n",
    "plt.show()"
   ]
  },
  {
   "cell_type": "code",
   "execution_count": 97,
   "metadata": {},
   "outputs": [],
   "source": [
    "#Incase you used the validation set save_best_only() saves the model when validation perfomes the best\n",
    "checkpoint_cb = keras.callbacks.ModelCheckpoint(\"functional_model_auxilliary.h5\",save_best_only=True)"
   ]
  },
  {
   "cell_type": "code",
   "execution_count": 99,
   "metadata": {},
   "outputs": [
    {
     "name": "stdout",
     "output_type": "stream",
     "text": [
      "Epoch 1/10\n",
      "363/363 [==============================] - 0s 942us/step - loss: 0.3777 - val_loss: 0.3644\n",
      "Epoch 2/10\n",
      "363/363 [==============================] - 0s 717us/step - loss: 0.3771 - val_loss: 0.3632\n",
      "Epoch 3/10\n",
      "363/363 [==============================] - 0s 672us/step - loss: 0.3771 - val_loss: 0.3638\n",
      "Epoch 4/10\n",
      "363/363 [==============================] - 0s 646us/step - loss: 0.3766 - val_loss: 0.3639\n",
      "Epoch 5/10\n",
      "363/363 [==============================] - 0s 701us/step - loss: 0.3765 - val_loss: 0.3634\n",
      "Epoch 6/10\n",
      "363/363 [==============================] - 0s 623us/step - loss: 0.3763 - val_loss: 0.3631\n",
      "Epoch 7/10\n",
      "363/363 [==============================] - 0s 740us/step - loss: 0.3760 - val_loss: 0.3630\n",
      "Epoch 8/10\n",
      "363/363 [==============================] - 0s 742us/step - loss: 0.3757 - val_loss: 0.3621\n",
      "Epoch 9/10\n",
      "363/363 [==============================] - 0s 730us/step - loss: 0.3756 - val_loss: 0.3628\n",
      "Epoch 10/10\n",
      "363/363 [==============================] - 0s 806us/step - loss: 0.3753 - val_loss: 0.3618\n"
     ]
    }
   ],
   "source": [
    "history = model.fit(X_train, y_train, epochs=10,\n",
    "validation_data=(X_valid, y_valid),\n",
    "callbacks=[checkpoint_cb])\n"
   ]
  },
  {
   "cell_type": "code",
   "execution_count": 100,
   "metadata": {},
   "outputs": [
    {
     "data": {
      "image/png": "[encoded data removed]",
      "text/plain": [
       "<Figure size 576x360 with 1 Axes>"
      ]
     },
     "metadata": {
      "needs_background": "light"
     },
     "output_type": "display_data"
    }
   ],
   "source": [
    "#plot the history of the model.fit\n",
    "pd.DataFrame(history.history).plot(figsize=(8, 5))\n",
    "plt.grid(True)\n",
    "plt.gca().set_ylim(0, 1) # set the vertical range to [0-1]\n",
    "plt.show()"
   ]
  },
  {
   "cell_type": "code",
   "execution_count": 101,
   "metadata": {},
   "outputs": [],
   "source": [
    "#To roll bac to the best model we use;\n",
    "model = keras.models.load_model(\"functional_model_auxilliary.h5\")"
   ]
  },
  {
   "cell_type": "code",
   "execution_count": 102,
   "metadata": {},
   "outputs": [],
   "source": [
    "#Apply early stopping in case of no change in the validation set\n",
    "early_stopping_cb = keras.callbacks.EarlyStopping(patience=10,\n",
    "restore_best_weights=True)\n"
   ]
  },
  {
   "cell_type": "code",
   "execution_count": 105,
   "metadata": {},
   "outputs": [
    {
     "name": "stdout",
     "output_type": "stream",
     "text": [
      "Epoch 1/300\n",
      "363/363 [==============================] - 0s 782us/step - loss: 0.3544 - val_loss: 0.3430\n",
      "Epoch 2/300\n",
      "363/363 [==============================] - 0s 626us/step - loss: 0.3541 - val_loss: 0.3430\n",
      "Epoch 3/300\n",
      "363/363 [==============================] - 0s 584us/step - loss: 0.3539 - val_loss: 0.3432\n",
      "Epoch 4/300\n",
      "363/363 [==============================] - 0s 698us/step - loss: 0.3538 - val_loss: 0.3437\n",
      "Epoch 5/300\n",
      "363/363 [==============================] - 0s 828us/step - loss: 0.3537 - val_loss: 0.3419\n",
      "Epoch 6/300\n",
      "363/363 [==============================] - 0s 741us/step - loss: 0.3535 - val_loss: 0.3426\n",
      "Epoch 7/300\n",
      "363/363 [==============================] - 0s 615us/step - loss: 0.3534 - val_loss: 0.3423\n",
      "Epoch 8/300\n",
      "363/363 [==============================] - 0s 593us/step - loss: 0.3529 - val_loss: 0.3425\n",
      "Epoch 9/300\n",
      "363/363 [==============================] - 0s 685us/step - loss: 0.3529 - val_loss: 0.3419\n",
      "Epoch 10/300\n",
      "363/363 [==============================] - 0s 642us/step - loss: 0.3527 - val_loss: 0.3425\n",
      "Epoch 11/300\n",
      "363/363 [==============================] - 0s 605us/step - loss: 0.3523 - val_loss: 0.3419\n",
      "Epoch 12/300\n",
      "363/363 [==============================] - 0s 690us/step - loss: 0.3522 - val_loss: 0.3410\n",
      "Epoch 13/300\n",
      "363/363 [==============================] - 0s 606us/step - loss: 0.3521 - val_loss: 0.3421\n",
      "Epoch 14/300\n",
      "363/363 [==============================] - 0s 598us/step - loss: 0.3521 - val_loss: 0.3423\n",
      "Epoch 15/300\n",
      "363/363 [==============================] - 0s 644us/step - loss: 0.3519 - val_loss: 0.3424\n",
      "Epoch 16/300\n",
      "363/363 [==============================] - 0s 625us/step - loss: 0.3518 - val_loss: 0.3408\n",
      "Epoch 17/300\n",
      "363/363 [==============================] - 0s 645us/step - loss: 0.3516 - val_loss: 0.3412\n",
      "Epoch 18/300\n",
      "363/363 [==============================] - 0s 677us/step - loss: 0.3513 - val_loss: 0.3404\n",
      "Epoch 19/300\n",
      "363/363 [==============================] - 0s 655us/step - loss: 0.3512 - val_loss: 0.3406\n",
      "Epoch 20/300\n",
      "363/363 [==============================] - 0s 615us/step - loss: 0.3510 - val_loss: 0.3408\n",
      "Epoch 21/300\n",
      "363/363 [==============================] - 0s 643us/step - loss: 0.3509 - val_loss: 0.3418\n",
      "Epoch 22/300\n",
      "363/363 [==============================] - 0s 700us/step - loss: 0.3508 - val_loss: 0.3403\n",
      "Epoch 23/300\n",
      "363/363 [==============================] - ETA: 0s - loss: 0.349 - 0s 697us/step - loss: 0.3505 - val_loss: 0.3401\n",
      "Epoch 24/300\n",
      "363/363 [==============================] - 0s 772us/step - loss: 0.3503 - val_loss: 0.3394\n",
      "Epoch 25/300\n",
      "363/363 [==============================] - 0s 677us/step - loss: 0.3501 - val_loss: 0.3396\n",
      "Epoch 26/300\n",
      "363/363 [==============================] - 0s 888us/step - loss: 0.3500 - val_loss: 0.3394\n",
      "Epoch 27/300\n",
      "363/363 [==============================] - 0s 661us/step - loss: 0.3499 - val_loss: 0.3399\n",
      "Epoch 28/300\n",
      "363/363 [==============================] - 0s 705us/step - loss: 0.3496 - val_loss: 0.3399\n",
      "Epoch 29/300\n",
      "363/363 [==============================] - 0s 836us/step - loss: 0.3496 - val_loss: 0.3393\n",
      "Epoch 30/300\n",
      "363/363 [==============================] - 0s 744us/step - loss: 0.3493 - val_loss: 0.3392\n",
      "Epoch 31/300\n",
      "363/363 [==============================] - 0s 742us/step - loss: 0.3494 - val_loss: 0.3388\n",
      "Epoch 32/300\n",
      "363/363 [==============================] - 0s 828us/step - loss: 0.3491 - val_loss: 0.3387\n",
      "Epoch 33/300\n",
      "363/363 [==============================] - 0s 646us/step - loss: 0.3488 - val_loss: 0.3388\n",
      "Epoch 34/300\n",
      "363/363 [==============================] - 0s 678us/step - loss: 0.3487 - val_loss: 0.3386\n",
      "Epoch 35/300\n",
      "363/363 [==============================] - 0s 617us/step - loss: 0.3486 - val_loss: 0.3389\n",
      "Epoch 36/300\n",
      "363/363 [==============================] - 0s 718us/step - loss: 0.3483 - val_loss: 0.3381\n",
      "Epoch 37/300\n",
      "363/363 [==============================] - 0s 658us/step - loss: 0.3483 - val_loss: 0.3390\n",
      "Epoch 38/300\n",
      "363/363 [==============================] - 0s 691us/step - loss: 0.3480 - val_loss: 0.3379\n",
      "Epoch 39/300\n",
      "363/363 [==============================] - 0s 660us/step - loss: 0.3479 - val_loss: 0.3386\n",
      "Epoch 40/300\n",
      "363/363 [==============================] - 0s 620us/step - loss: 0.3480 - val_loss: 0.3383\n",
      "Epoch 41/300\n",
      "363/363 [==============================] - 0s 654us/step - loss: 0.3475 - val_loss: 0.3390\n",
      "Epoch 42/300\n",
      "363/363 [==============================] - 0s 630us/step - loss: 0.3474 - val_loss: 0.3385\n",
      "Epoch 43/300\n",
      "363/363 [==============================] - 0s 611us/step - loss: 0.3473 - val_loss: 0.3386\n",
      "Epoch 44/300\n",
      "363/363 [==============================] - 0s 608us/step - loss: 0.3472 - val_loss: 0.3380\n",
      "Epoch 45/300\n",
      "363/363 [==============================] - 0s 695us/step - loss: 0.3471 - val_loss: 0.3377\n",
      "Epoch 46/300\n",
      "363/363 [==============================] - 0s 656us/step - loss: 0.3470 - val_loss: 0.3375\n",
      "Epoch 47/300\n",
      "363/363 [==============================] - 0s 650us/step - loss: 0.3468 - val_loss: 0.3377\n",
      "Epoch 48/300\n",
      "363/363 [==============================] - 0s 614us/step - loss: 0.3467 - val_loss: 0.3382\n",
      "Epoch 49/300\n",
      "363/363 [==============================] - 0s 726us/step - loss: 0.3466 - val_loss: 0.3375\n",
      "Epoch 50/300\n",
      "363/363 [==============================] - 0s 644us/step - loss: 0.3464 - val_loss: 0.3375\n",
      "Epoch 51/300\n",
      "363/363 [==============================] - 0s 682us/step - loss: 0.3462 - val_loss: 0.3368\n",
      "Epoch 52/300\n",
      "363/363 [==============================] - 0s 669us/step - loss: 0.3461 - val_loss: 0.3371\n",
      "Epoch 53/300\n",
      "363/363 [==============================] - 0s 629us/step - loss: 0.3459 - val_loss: 0.3373\n",
      "Epoch 54/300\n",
      "363/363 [==============================] - 0s 578us/step - loss: 0.3458 - val_loss: 0.3372\n",
      "Epoch 55/300\n",
      "363/363 [==============================] - 0s 610us/step - loss: 0.3458 - val_loss: 0.3372\n",
      "Epoch 56/300\n",
      "363/363 [==============================] - 0s 684us/step - loss: 0.3455 - val_loss: 0.3365\n",
      "Epoch 57/300\n",
      "363/363 [==============================] - 0s 780us/step - loss: 0.3455 - val_loss: 0.3364\n",
      "Epoch 58/300\n",
      "363/363 [==============================] - 0s 731us/step - loss: 0.3453 - val_loss: 0.3362\n",
      "Epoch 59/300\n",
      "363/363 [==============================] - 0s 722us/step - loss: 0.3453 - val_loss: 0.3361\n",
      "Epoch 60/300\n",
      "363/363 [==============================] - 0s 585us/step - loss: 0.3451 - val_loss: 0.3368\n",
      "Epoch 61/300\n",
      "363/363 [==============================] - 0s 690us/step - loss: 0.3449 - val_loss: 0.3360\n",
      "Epoch 62/300\n",
      "363/363 [==============================] - 0s 774us/step - loss: 0.3448 - val_loss: 0.3359\n",
      "Epoch 63/300\n",
      "363/363 [==============================] - 0s 784us/step - loss: 0.3446 - val_loss: 0.3355\n",
      "Epoch 64/300\n",
      "363/363 [==============================] - 0s 622us/step - loss: 0.3444 - val_loss: 0.3354\n",
      "Epoch 65/300\n",
      "363/363 [==============================] - 0s 602us/step - loss: 0.3442 - val_loss: 0.3362\n",
      "Epoch 66/300\n",
      "363/363 [==============================] - 0s 638us/step - loss: 0.3441 - val_loss: 0.3376\n",
      "Epoch 67/300\n",
      "363/363 [==============================] - 0s 628us/step - loss: 0.3441 - val_loss: 0.3357\n",
      "Epoch 68/300\n",
      "363/363 [==============================] - 0s 723us/step - loss: 0.3439 - val_loss: 0.3354\n",
      "Epoch 69/300\n",
      "363/363 [==============================] - 0s 780us/step - loss: 0.3439 - val_loss: 0.3353\n",
      "Epoch 70/300\n",
      "363/363 [==============================] - 0s 626us/step - loss: 0.3437 - val_loss: 0.3362\n",
      "Epoch 71/300\n",
      "363/363 [==============================] - 0s 647us/step - loss: 0.3436 - val_loss: 0.3358\n",
      "Epoch 72/300\n",
      "363/363 [==============================] - 0s 639us/step - loss: 0.3433 - val_loss: 0.3351\n",
      "Epoch 73/300\n",
      "363/363 [==============================] - 0s 650us/step - loss: 0.3433 - val_loss: 0.3355\n",
      "Epoch 74/300\n",
      "363/363 [==============================] - 0s 625us/step - loss: 0.3431 - val_loss: 0.3360\n",
      "Epoch 75/300\n",
      "363/363 [==============================] - 0s 736us/step - loss: 0.3429 - val_loss: 0.3345\n",
      "Epoch 76/300\n",
      "363/363 [==============================] - 0s 727us/step - loss: 0.3429 - val_loss: 0.3360\n",
      "Epoch 77/300\n",
      "363/363 [==============================] - 0s 744us/step - loss: 0.3428 - val_loss: 0.3343\n",
      "Epoch 78/300\n",
      "363/363 [==============================] - 0s 718us/step - loss: 0.3427 - val_loss: 0.3341\n",
      "Epoch 79/300\n",
      "363/363 [==============================] - 0s 688us/step - loss: 0.3426 - val_loss: 0.3342\n",
      "Epoch 80/300\n",
      "363/363 [==============================] - 0s 600us/step - loss: 0.3423 - val_loss: 0.3344\n",
      "Epoch 81/300\n",
      "363/363 [==============================] - 0s 619us/step - loss: 0.3423 - val_loss: 0.3345\n",
      "Epoch 82/300\n",
      "363/363 [==============================] - 0s 657us/step - loss: 0.3420 - val_loss: 0.3334\n",
      "Epoch 83/300\n",
      "363/363 [==============================] - 0s 592us/step - loss: 0.3421 - val_loss: 0.3345\n",
      "Epoch 84/300\n",
      "363/363 [==============================] - 0s 696us/step - loss: 0.3419 - val_loss: 0.3332\n",
      "Epoch 85/300\n",
      "363/363 [==============================] - 0s 696us/step - loss: 0.3416 - val_loss: 0.3348\n",
      "Epoch 86/300\n",
      "363/363 [==============================] - 0s 582us/step - loss: 0.3413 - val_loss: 0.3342\n",
      "Epoch 87/300\n",
      "363/363 [==============================] - 0s 576us/step - loss: 0.3415 - val_loss: 0.3334\n",
      "Epoch 88/300\n",
      "363/363 [==============================] - 0s 782us/step - loss: 0.3412 - val_loss: 0.3331\n",
      "Epoch 89/300\n",
      "363/363 [==============================] - 0s 655us/step - loss: 0.3412 - val_loss: 0.3335\n",
      "Epoch 90/300\n",
      "363/363 [==============================] - 0s 609us/step - loss: 0.3410 - val_loss: 0.3331\n",
      "Epoch 91/300\n",
      "363/363 [==============================] - 0s 702us/step - loss: 0.3410 - val_loss: 0.3327\n",
      "Epoch 92/300\n",
      "363/363 [==============================] - 0s 574us/step - loss: 0.3408 - val_loss: 0.3333\n",
      "Epoch 93/300\n",
      "363/363 [==============================] - 0s 726us/step - loss: 0.3406 - val_loss: 0.3326\n",
      "Epoch 94/300\n",
      "363/363 [==============================] - 0s 596us/step - loss: 0.3404 - val_loss: 0.3335\n",
      "Epoch 95/300\n",
      "363/363 [==============================] - 0s 722us/step - loss: 0.3406 - val_loss: 0.3325\n",
      "Epoch 96/300\n",
      "363/363 [==============================] - 0s 675us/step - loss: 0.3400 - val_loss: 0.3321\n",
      "Epoch 97/300\n",
      "363/363 [==============================] - 0s 638us/step - loss: 0.3403 - val_loss: 0.3323\n",
      "Epoch 98/300\n",
      "363/363 [==============================] - 0s 564us/step - loss: 0.3401 - val_loss: 0.3338\n",
      "Epoch 99/300\n",
      "363/363 [==============================] - 0s 669us/step - loss: 0.3399 - val_loss: 0.3330\n",
      "Epoch 100/300\n",
      "363/363 [==============================] - 0s 623us/step - loss: 0.3398 - val_loss: 0.3321\n",
      "Epoch 101/300\n",
      "363/363 [==============================] - 0s 615us/step - loss: 0.3397 - val_loss: 0.3324\n",
      "Epoch 102/300\n",
      "363/363 [==============================] - 0s 601us/step - loss: 0.3395 - val_loss: 0.3329\n",
      "Epoch 103/300\n",
      "363/363 [==============================] - 0s 638us/step - loss: 0.3395 - val_loss: 0.3329\n",
      "Epoch 104/300\n",
      "363/363 [==============================] - 0s 588us/step - loss: 0.3395 - val_loss: 0.3322\n",
      "Epoch 105/300\n",
      "363/363 [==============================] - 0s 639us/step - loss: 0.3393 - val_loss: 0.3327\n",
      "Epoch 106/300\n",
      "363/363 [==============================] - 0s 659us/step - loss: 0.3390 - val_loss: 0.3325\n"
     ]
    }
   ],
   "source": [
    "history = model.fit(X_train, y_train, epochs=300,\n",
    "validation_data=(X_valid, y_valid),\n",
    "callbacks=[checkpoint_cb, early_stopping_cb])"
   ]
  },
  {
   "cell_type": "code",
   "execution_count": 106,
   "metadata": {},
   "outputs": [
    {
     "data": {
      "image/png": "[encoded data removed]",
      "text/plain": [
       "<Figure size 576x360 with 1 Axes>"
      ]
     },
     "metadata": {
      "needs_background": "light"
     },
     "output_type": "display_data"
    }
   ],
   "source": [
    "#plot the history of the model.fit\n",
    "pd.DataFrame(history.history).plot(figsize=(8, 5))\n",
    "plt.grid(True)\n",
    "plt.gca().set_ylim(0, 1) # set the vertical range to [0-1]\n",
    "plt.show()"
   ]
  },
  {
   "cell_type": "code",
   "execution_count": 108,
   "metadata": {},
   "outputs": [],
   "source": [
    "#Implementing a personal call back training\n",
    "class PrintValTrainRatioCallback(keras.callbacks.Callback):\n",
    "    def on_epoch_end(self, epoch, logs):\n",
    "        print(\"\\nval/train: {:.2f}\".format(logs[\"val_loss\"] /logs[\"loss\"]))\n"
   ]
  },
  {
   "cell_type": "markdown",
   "metadata": {},
   "source": [
    "### Tensorboard"
   ]
  },
  {
   "cell_type": "code",
   "execution_count": 109,
   "metadata": {},
   "outputs": [],
   "source": [
    "#Creating the root directory where tensorboard writes the logs\n",
    "import os\n",
    "root_logdir = os.path.join(os.curdir, \"my_logs\")"
   ]
  },
  {
   "cell_type": "code",
   "execution_count": 110,
   "metadata": {},
   "outputs": [],
   "source": [
    "def get_run_logdir():\n",
    "    import time\n",
    "    run_id = time.strftime(\"run_%Y_%m_%d-%H_%M_%S\")\n",
    "    return os.path.join(root_logdir, run_id)\n",
    "run_logdir = get_run_logdir() # e.g., './my_logs/run_2019_06_07-15_15_22"
   ]
  },
  {
   "cell_type": "code",
   "execution_count": 111,
   "metadata": {},
   "outputs": [],
   "source": [
    "#Callback provided by tebsor board \n",
    "tensorboard_cb = keras.callbacks.TensorBoard(run_logdir)"
   ]
  },
  {
   "cell_type": "code",
   "execution_count": 114,
   "metadata": {},
   "outputs": [
    {
     "name": "stdout",
     "output_type": "stream",
     "text": [
      "Epoch 1/30\n",
      "  2/363 [..............................] - ETA: 35s - loss: 0.4424WARNING:tensorflow:Callbacks method `on_train_batch_end` is slow compared to the batch time (batch time: 0.0010s vs `on_train_batch_end` time: 0.1994s). Check your callbacks.\n",
      "363/363 [==============================] - 1s 2ms/step - loss: 0.3335 - val_loss: 0.3269\n",
      "Epoch 2/30\n",
      "363/363 [==============================] - 0s 1ms/step - loss: 0.3336 - val_loss: 0.3272\n",
      "Epoch 3/30\n",
      "363/363 [==============================] - 0s 820us/step - loss: 0.3333 - val_loss: 0.3261\n",
      "Epoch 4/30\n",
      "363/363 [==============================] - 0s 1ms/step - loss: 0.3336 - val_loss: 0.3265\n",
      "Epoch 5/30\n",
      "363/363 [==============================] - 0s 922us/step - loss: 0.3334 - val_loss: 0.3266\n",
      "Epoch 6/30\n",
      "363/363 [==============================] - 0s 818us/step - loss: 0.3332 - val_loss: 0.3263\n",
      "Epoch 7/30\n",
      "363/363 [==============================] - 0s 874us/step - loss: 0.3332 - val_loss: 0.3261\n",
      "Epoch 8/30\n",
      "363/363 [==============================] - 0s 868us/step - loss: 0.3330 - val_loss: 0.3260\n",
      "Epoch 9/30\n",
      "363/363 [==============================] - 0s 895us/step - loss: 0.3327 - val_loss: 0.3264\n",
      "Epoch 10/30\n",
      "363/363 [==============================] - 0s 1ms/step - loss: 0.3326 - val_loss: 0.3260\n",
      "Epoch 11/30\n",
      "363/363 [==============================] - 0s 791us/step - loss: 0.3327 - val_loss: 0.3263\n",
      "Epoch 12/30\n",
      "363/363 [==============================] - 0s 821us/step - loss: 0.3324 - val_loss: 0.3257\n",
      "Epoch 13/30\n",
      "363/363 [==============================] - 0s 821us/step - loss: 0.3322 - val_loss: 0.3264\n",
      "Epoch 14/30\n",
      "363/363 [==============================] - 0s 787us/step - loss: 0.3324 - val_loss: 0.3266\n",
      "Epoch 15/30\n",
      "363/363 [==============================] - 0s 825us/step - loss: 0.3322 - val_loss: 0.3257\n",
      "Epoch 16/30\n",
      "363/363 [==============================] - 0s 862us/step - loss: 0.3321 - val_loss: 0.3264\n",
      "Epoch 17/30\n",
      "363/363 [==============================] - 0s 869us/step - loss: 0.3319 - val_loss: 0.3268\n",
      "Epoch 18/30\n",
      "363/363 [==============================] - 0s 825us/step - loss: 0.3320 - val_loss: 0.3259\n",
      "Epoch 19/30\n",
      "363/363 [==============================] - 0s 850us/step - loss: 0.3320 - val_loss: 0.3255\n",
      "Epoch 20/30\n",
      "363/363 [==============================] - 0s 765us/step - loss: 0.3316 - val_loss: 0.3265\n",
      "Epoch 21/30\n",
      "363/363 [==============================] - 0s 869us/step - loss: 0.3317 - val_loss: 0.3250\n",
      "Epoch 22/30\n",
      "363/363 [==============================] - 0s 936us/step - loss: 0.3316 - val_loss: 0.3251\n",
      "Epoch 23/30\n",
      "363/363 [==============================] - 0s 870us/step - loss: 0.3314 - val_loss: 0.3252\n",
      "Epoch 24/30\n",
      "363/363 [==============================] - 0s 856us/step - loss: 0.3311 - val_loss: 0.3257\n",
      "Epoch 25/30\n",
      "363/363 [==============================] - 0s 828us/step - loss: 0.3312 - val_loss: 0.3249\n",
      "Epoch 26/30\n",
      "363/363 [==============================] - 0s 812us/step - loss: 0.3311 - val_loss: 0.3247\n",
      "Epoch 27/30\n",
      "363/363 [==============================] - 0s 953us/step - loss: 0.3310 - val_loss: 0.3250\n",
      "Epoch 28/30\n",
      "363/363 [==============================] - 0s 736us/step - loss: 0.3306 - val_loss: 0.3260\n",
      "Epoch 29/30\n",
      "363/363 [==============================] - 0s 848us/step - loss: 0.3308 - val_loss: 0.3241\n",
      "Epoch 30/30\n",
      "363/363 [==============================] - 0s 848us/step - loss: 0.3306 - val_loss: 0.3249\n"
     ]
    }
   ],
   "source": [
    "history = model.fit(X_train, y_train, epochs=30,\n",
    "validation_data=(X_valid, y_valid),\n",
    "callbacks=[tensorboard_cb])\n"
   ]
  },
  {
   "cell_type": "code",
   "execution_count": 122,
   "metadata": {
    "scrolled": true
   },
   "outputs": [
    {
     "data": {
      "text/plain": [
       "Reusing TensorBoard on port 6006 (pid 12640), started 0:01:11 ago. (Use '!kill 12640' to kill it.)"
      ]
     },
     "metadata": {},
     "output_type": "display_data"
    },
    {
     "data": {
      "text/html": [
       "\n",
       "      <iframe id=\"tensorboard-frame-adf46ecb3e954aa0\" width=\"100%\" height=\"800\" frameborder=\"0\">\n",
       "      </iframe>\n",
       "      <script>\n",
       "        (function() {\n",
       "          const frame = document.getElementById(\"tensorboard-frame-adf46ecb3e954aa0\");\n",
       "          const url = new URL(\"/\", window.location);\n",
       "          const port = 6006;\n",
       "          if (port) {\n",
       "            url.port = port;\n",
       "          }\n",
       "          frame.src = url;\n",
       "        })();\n",
       "      </script>\n",
       "    "
      ],
      "text/plain": [
       "<IPython.core.display.HTML object>"
      ]
     },
     "metadata": {},
     "output_type": "display_data"
    }
   ],
   "source": [
    "%reload_ext tensorboard\n",
    "%tensorboard --logdir=./Documents/Projects/my_logs --port=6006"
   ]
  },
  {
   "cell_type": "code",
   "execution_count": 119,
   "metadata": {},
   "outputs": [
    {
     "name": "stdout",
     "output_type": "stream",
     "text": [
      "[WinError 2] The system cannot find the file specified: '\\\\documents'\n",
      "C:\\Users\\Rogers\n"
     ]
    }
   ],
   "source": [
    "cd\\documents"
   ]
  },
  {
   "cell_type": "code",
   "execution_count": 120,
   "metadata": {},
   "outputs": [
    {
     "name": "stdout",
     "output_type": "stream",
     "text": [
      "C:\\Users\\Rogers\n"
     ]
    }
   ],
   "source": [
    "cd"
   ]
  },
  {
   "cell_type": "code",
   "execution_count": 123,
   "metadata": {},
   "outputs": [],
   "source": [
    "test_logdir = get_run_logdir()\n",
    "writer = tf.summary.create_file_writer(test_logdir)\n",
    "with writer.as_default():\n",
    "    for step in range(1, 1000 + 1):\n",
    "        tf.summary.scalar(\"my_scalar\", np.sin(step / 10), step=step)\n",
    "        data = (np.random.randn(100) + 2) * step / 100 # some random data\n",
    "        tf.summary.histogram(\"my_hist\", data, buckets=50, step=step)\n",
    "        images = np.random.rand(2, 32, 32, 3) # random 32×32 RGB images\n",
    "        tf.summary.image(\"my_images\", images * step / 1000, step=step)\n",
    "        texts = [\"The step is \" + str(step), \"Its square is \" +str(step**2)]\n",
    "        tf.summary.text(\"my_text\", texts, step=step)\n",
    "        sine_wave = tf.math.sin(tf.range(12000) / 48000 * 2 * np.pi *\n",
    "        step)\n",
    "        audio = tf.reshape(tf.cast(sine_wave, tf.float32), [1, -1, 1])\n",
    "        tf.summary.audio(\"my_audio\", audio, sample_rate=48000, step=step)"
   ]
  },
  {
   "cell_type": "code",
   "execution_count": 125,
   "metadata": {},
   "outputs": [
    {
     "name": "stdout",
     "output_type": "stream",
     "text": [
      "Epoch 1/100\n",
      "  2/363 [..............................] - ETA: 32s - loss: 0.3406WARNING:tensorflow:Callbacks method `on_train_batch_end` is slow compared to the batch time (batch time: 0.0010s vs `on_train_batch_end` time: 0.1822s). Check your callbacks.\n",
      "362/363 [============================>.] - ETA: 0s - loss: 0.3279WARNING:tensorflow:Callbacks method `on_test_batch_end` is slow compared to the batch time (batch time: 0.0000s vs `on_test_batch_end` time: 0.0010s). Check your callbacks.\n",
      "363/363 [==============================] - 1s 2ms/step - loss: 0.3277 - val_loss: 0.3216\n",
      "Epoch 2/100\n",
      "363/363 [==============================] - 0s 892us/step - loss: 0.3275 - val_loss: 0.3225\n",
      "Epoch 3/100\n",
      "363/363 [==============================] - 0s 746us/step - loss: 0.3275 - val_loss: 0.3214\n",
      "Epoch 4/100\n",
      "363/363 [==============================] - 0s 850us/step - loss: 0.3274 - val_loss: 0.3217\n",
      "Epoch 5/100\n",
      "363/363 [==============================] - 0s 895us/step - loss: 0.3272 - val_loss: 0.3219\n",
      "Epoch 6/100\n",
      "363/363 [==============================] - 0s 742us/step - loss: 0.3274 - val_loss: 0.3209\n",
      "Epoch 7/100\n",
      "363/363 [==============================] - 0s 885us/step - loss: 0.3270 - val_loss: 0.3209\n",
      "Epoch 8/100\n",
      "363/363 [==============================] - 0s 792us/step - loss: 0.3270 - val_loss: 0.3221\n",
      "Epoch 9/100\n",
      "363/363 [==============================] - 1s 2ms/step - loss: 0.3270 - val_loss: 0.3213\n",
      "Epoch 10/100\n",
      "363/363 [==============================] - 1s 2ms/step - loss: 0.3270 - val_loss: 0.3210\n",
      "Epoch 11/100\n",
      "363/363 [==============================] - 0s 912us/step - loss: 0.3268 - val_loss: 0.3208\n",
      "Epoch 12/100\n",
      "363/363 [==============================] - 0s 787us/step - loss: 0.3266 - val_loss: 0.3225\n",
      "Epoch 13/100\n",
      "363/363 [==============================] - 0s 846us/step - loss: 0.3266 - val_loss: 0.3212\n",
      "Epoch 14/100\n",
      "363/363 [==============================] - 0s 770us/step - loss: 0.3264 - val_loss: 0.3211\n",
      "Epoch 15/100\n",
      "363/363 [==============================] - 0s 816us/step - loss: 0.3262 - val_loss: 0.3217\n",
      "Epoch 16/100\n",
      "363/363 [==============================] - 0s 829us/step - loss: 0.3262 - val_loss: 0.3208\n",
      "Epoch 17/100\n",
      "363/363 [==============================] - 0s 839us/step - loss: 0.3262 - val_loss: 0.3203\n",
      "Epoch 18/100\n",
      "363/363 [==============================] - 0s 802us/step - loss: 0.3261 - val_loss: 0.3209\n",
      "Epoch 19/100\n",
      "363/363 [==============================] - 0s 805us/step - loss: 0.3260 - val_loss: 0.3201\n",
      "Epoch 20/100\n",
      "363/363 [==============================] - 0s 824us/step - loss: 0.3260 - val_loss: 0.3205\n",
      "Epoch 21/100\n",
      "363/363 [==============================] - 0s 871us/step - loss: 0.3260 - val_loss: 0.3206\n",
      "Epoch 22/100\n",
      "363/363 [==============================] - 1s 2ms/step - loss: 0.3258 - val_loss: 0.3204\n",
      "Epoch 23/100\n",
      "363/363 [==============================] - 0s 821us/step - loss: 0.3257 - val_loss: 0.3229\n",
      "Epoch 24/100\n",
      "363/363 [==============================] - 0s 836us/step - loss: 0.3258 - val_loss: 0.3205\n",
      "Epoch 25/100\n",
      "363/363 [==============================] - 0s 739us/step - loss: 0.3257 - val_loss: 0.3198\n",
      "Epoch 26/100\n",
      "363/363 [==============================] - 0s 813us/step - loss: 0.3256 - val_loss: 0.3197\n",
      "Epoch 27/100\n",
      "363/363 [==============================] - 0s 737us/step - loss: 0.3254 - val_loss: 0.3212\n",
      "Epoch 28/100\n",
      "363/363 [==============================] - 0s 871us/step - loss: 0.3255 - val_loss: 0.3205\n",
      "Epoch 29/100\n",
      "363/363 [==============================] - 0s 747us/step - loss: 0.3252 - val_loss: 0.3201\n",
      "Epoch 30/100\n",
      "363/363 [==============================] - 0s 826us/step - loss: 0.3251 - val_loss: 0.3198\n",
      "Epoch 31/100\n",
      "363/363 [==============================] - 0s 785us/step - loss: 0.3252 - val_loss: 0.3200\n",
      "Epoch 32/100\n",
      "363/363 [==============================] - 0s 741us/step - loss: 0.3251 - val_loss: 0.3200\n",
      "Epoch 33/100\n",
      "363/363 [==============================] - 0s 842us/step - loss: 0.3249 - val_loss: 0.3205\n",
      "Epoch 34/100\n",
      "363/363 [==============================] - 0s 855us/step - loss: 0.3249 - val_loss: 0.3207\n",
      "Epoch 35/100\n",
      "363/363 [==============================] - 0s 775us/step - loss: 0.3248 - val_loss: 0.3201\n",
      "Epoch 36/100\n",
      "363/363 [==============================] - 0s 789us/step - loss: 0.3247 - val_loss: 0.3199\n",
      "Epoch 37/100\n",
      "363/363 [==============================] - 0s 742us/step - loss: 0.3247 - val_loss: 0.3195\n",
      "Epoch 38/100\n",
      "363/363 [==============================] - 0s 828us/step - loss: 0.3246 - val_loss: 0.3188\n",
      "Epoch 39/100\n",
      "363/363 [==============================] - 0s 826us/step - loss: 0.3244 - val_loss: 0.3197\n",
      "Epoch 40/100\n",
      "363/363 [==============================] - 0s 817us/step - loss: 0.3244 - val_loss: 0.3198\n",
      "Epoch 41/100\n",
      "363/363 [==============================] - 0s 791us/step - loss: 0.3243 - val_loss: 0.3204\n",
      "Epoch 42/100\n",
      "363/363 [==============================] - 0s 757us/step - loss: 0.3243 - val_loss: 0.3190\n",
      "Epoch 43/100\n",
      "363/363 [==============================] - 0s 754us/step - loss: 0.3241 - val_loss: 0.3200\n",
      "Epoch 44/100\n",
      "363/363 [==============================] - 0s 817us/step - loss: 0.3242 - val_loss: 0.3202\n",
      "Epoch 45/100\n",
      "363/363 [==============================] - 0s 826us/step - loss: 0.3240 - val_loss: 0.3195\n",
      "Epoch 46/100\n",
      "363/363 [==============================] - 0s 841us/step - loss: 0.3240 - val_loss: 0.3191\n",
      "Epoch 47/100\n",
      "363/363 [==============================] - 0s 773us/step - loss: 0.3240 - val_loss: 0.3201\n",
      "Epoch 48/100\n",
      "363/363 [==============================] - 0s 830us/step - loss: 0.3239 - val_loss: 0.3191\n",
      "Epoch 49/100\n",
      "363/363 [==============================] - 0s 802us/step - loss: 0.3236 - val_loss: 0.3210\n",
      "Epoch 50/100\n",
      "363/363 [==============================] - 0s 790us/step - loss: 0.3236 - val_loss: 0.3196\n",
      "Epoch 51/100\n",
      "363/363 [==============================] - 0s 736us/step - loss: 0.3236 - val_loss: 0.3199\n",
      "Epoch 52/100\n",
      "363/363 [==============================] - 0s 743us/step - loss: 0.3236 - val_loss: 0.3186\n",
      "Epoch 53/100\n",
      "363/363 [==============================] - 0s 779us/step - loss: 0.3234 - val_loss: 0.3196\n",
      "Epoch 54/100\n",
      "363/363 [==============================] - 0s 785us/step - loss: 0.3234 - val_loss: 0.3188\n",
      "Epoch 55/100\n",
      "363/363 [==============================] - 0s 775us/step - loss: 0.3233 - val_loss: 0.3195\n",
      "Epoch 56/100\n",
      "363/363 [==============================] - 0s 1ms/step - loss: 0.3232 - val_loss: 0.3189\n",
      "Epoch 57/100\n",
      "363/363 [==============================] - 0s 1ms/step - loss: 0.3232 - val_loss: 0.3193\n",
      "Epoch 58/100\n",
      "363/363 [==============================] - 0s 1ms/step - loss: 0.3231 - val_loss: 0.3195\n",
      "Epoch 59/100\n",
      "363/363 [==============================] - 0s 1ms/step - loss: 0.3231 - val_loss: 0.3193\n",
      "Epoch 60/100\n",
      "363/363 [==============================] - 0s 842us/step - loss: 0.3229 - val_loss: 0.3178\n",
      "Epoch 61/100\n",
      "363/363 [==============================] - 0s 826us/step - loss: 0.3228 - val_loss: 0.3179\n",
      "Epoch 62/100\n",
      "363/363 [==============================] - 0s 871us/step - loss: 0.3227 - val_loss: 0.3187\n",
      "Epoch 63/100\n",
      "363/363 [==============================] - 0s 838us/step - loss: 0.3229 - val_loss: 0.3182\n",
      "Epoch 64/100\n",
      "363/363 [==============================] - 0s 824us/step - loss: 0.3227 - val_loss: 0.3183\n",
      "Epoch 65/100\n",
      "363/363 [==============================] - 0s 738us/step - loss: 0.3226 - val_loss: 0.3186\n",
      "Epoch 66/100\n",
      "363/363 [==============================] - 0s 764us/step - loss: 0.3222 - val_loss: 0.3186\n",
      "Epoch 67/100\n",
      "363/363 [==============================] - 0s 743us/step - loss: 0.3224 - val_loss: 0.3188\n",
      "Epoch 68/100\n",
      "363/363 [==============================] - 0s 816us/step - loss: 0.3223 - val_loss: 0.3179\n",
      "Epoch 69/100\n",
      "363/363 [==============================] - 0s 834us/step - loss: 0.3223 - val_loss: 0.3181\n",
      "Epoch 70/100\n",
      "363/363 [==============================] - 0s 827us/step - loss: 0.3221 - val_loss: 0.3186\n",
      "Epoch 71/100\n",
      "363/363 [==============================] - 0s 753us/step - loss: 0.3222 - val_loss: 0.3182\n",
      "Epoch 72/100\n",
      "363/363 [==============================] - 0s 834us/step - loss: 0.3219 - val_loss: 0.3182\n",
      "Epoch 73/100\n",
      "363/363 [==============================] - 0s 830us/step - loss: 0.3220 - val_loss: 0.3175\n",
      "Epoch 74/100\n",
      "363/363 [==============================] - 0s 1ms/step - loss: 0.3218 - val_loss: 0.3182\n",
      "Epoch 75/100\n",
      "363/363 [==============================] - 0s 785us/step - loss: 0.3219 - val_loss: 0.3190\n",
      "Epoch 76/100\n",
      "363/363 [==============================] - 0s 772us/step - loss: 0.3216 - val_loss: 0.3184\n",
      "Epoch 77/100\n",
      "363/363 [==============================] - 0s 858us/step - loss: 0.3217 - val_loss: 0.3184\n",
      "Epoch 78/100\n",
      "363/363 [==============================] - 0s 835us/step - loss: 0.3216 - val_loss: 0.3183\n",
      "Epoch 79/100\n",
      "363/363 [==============================] - 0s 815us/step - loss: 0.3216 - val_loss: 0.3175\n",
      "Epoch 80/100\n",
      "363/363 [==============================] - 0s 830us/step - loss: 0.3216 - val_loss: 0.3175\n",
      "Epoch 81/100\n",
      "363/363 [==============================] - 0s 821us/step - loss: 0.3213 - val_loss: 0.3173\n",
      "Epoch 82/100\n",
      "363/363 [==============================] - 0s 720us/step - loss: 0.3212 - val_loss: 0.3179\n",
      "Epoch 83/100\n",
      "363/363 [==============================] - 0s 756us/step - loss: 0.3213 - val_loss: 0.3177\n",
      "Epoch 84/100\n",
      "363/363 [==============================] - 0s 801us/step - loss: 0.3213 - val_loss: 0.3167\n",
      "Epoch 85/100\n",
      "363/363 [==============================] - 0s 963us/step - loss: 0.3212 - val_loss: 0.3171\n",
      "Epoch 86/100\n",
      "363/363 [==============================] - 0s 795us/step - loss: 0.3210 - val_loss: 0.3169\n",
      "Epoch 87/100\n",
      "363/363 [==============================] - 0s 827us/step - loss: 0.3211 - val_loss: 0.3168\n",
      "Epoch 88/100\n",
      "363/363 [==============================] - 0s 796us/step - loss: 0.3209 - val_loss: 0.3174\n",
      "Epoch 89/100\n",
      "363/363 [==============================] - 0s 783us/step - loss: 0.3206 - val_loss: 0.3173\n",
      "Epoch 90/100\n",
      "363/363 [==============================] - 0s 915us/step - loss: 0.3207 - val_loss: 0.3176\n",
      "Epoch 91/100\n",
      "363/363 [==============================] - 0s 792us/step - loss: 0.3206 - val_loss: 0.3162\n",
      "Epoch 92/100\n",
      "363/363 [==============================] - 0s 841us/step - loss: 0.3204 - val_loss: 0.3171\n",
      "Epoch 93/100\n",
      "363/363 [==============================] - 0s 827us/step - loss: 0.3205 - val_loss: 0.3170\n",
      "Epoch 94/100\n",
      "363/363 [==============================] - 0s 774us/step - loss: 0.3205 - val_loss: 0.3160\n",
      "Epoch 95/100\n",
      "363/363 [==============================] - 0s 789us/step - loss: 0.3204 - val_loss: 0.3164\n",
      "Epoch 96/100\n",
      "363/363 [==============================] - 0s 775us/step - loss: 0.3202 - val_loss: 0.3165\n",
      "Epoch 97/100\n",
      "363/363 [==============================] - 0s 794us/step - loss: 0.3202 - val_loss: 0.3175\n",
      "Epoch 98/100\n",
      "363/363 [==============================] - 0s 773us/step - loss: 0.3201 - val_loss: 0.3179\n",
      "Epoch 99/100\n",
      "363/363 [==============================] - 0s 743us/step - loss: 0.3203 - val_loss: 0.3170\n",
      "Epoch 100/100\n",
      "363/363 [==============================] - 0s 809us/step - loss: 0.3200 - val_loss: 0.3180\n"
     ]
    }
   ],
   "source": [
    "history = model.fit(X_train, y_train, epochs=100,\n",
    "validation_data=(X_valid, y_valid),\n",
    "callbacks=[tensorboard_cb])\n"
   ]
  },
  {
   "cell_type": "markdown",
   "metadata": {},
   "source": [
    "### Transfer Learning"
   ]
  },
  {
   "cell_type": "code",
   "execution_count": null,
   "metadata": {},
   "outputs": [],
   "source": [
    "#import model A intitilly traned sequential moel\n",
    "model_A = keras.models.load_model(\"sequential_model.h5\")"
   ]
  },
  {
   "cell_type": "code",
   "execution_count": null,
   "metadata": {},
   "outputs": [],
   "source": [
    "#remove the output layer on model A\n",
    "model_B_on_A = keras.models.Sequential(model_A.layers[:-1])"
   ]
  },
  {
   "cell_type": "code",
   "execution_count": null,
   "metadata": {},
   "outputs": [],
   "source": [
    "#Add an output layer on the new model due to the new task\n",
    "model_B_on_A.add(keras.layers.Dense(1, activation=\"sigmoid\"))"
   ]
  },
  {
   "cell_type": "code",
   "execution_count": null,
   "metadata": {},
   "outputs": [],
   "source": [
    "#Clone model A achitecture and weight to avoid destroying the model\n",
    "model_A_clone = keras.models.clone_model(model_A)\n",
    "model_A_clone.set_weights(model_A.get_weights())"
   ]
  },
  {
   "cell_type": "code",
   "execution_count": null,
   "metadata": {},
   "outputs": [],
   "source": [
    "#Setting the layers untrainable to avoid errors in running due to the random new output\n",
    "for layer in model_B_on_A.layers[:-1]:\n",
    "    layer.trainable = False"
   ]
  },
  {
   "cell_type": "code",
   "execution_count": null,
   "metadata": {},
   "outputs": [],
   "source": []
  },
  {
   "cell_type": "code",
   "execution_count": null,
   "metadata": {},
   "outputs": [],
   "source": []
  }
 ],
 "metadata": {
  "kernelspec": {
   "display_name": "Python 3",
   "language": "python",
   "name": "python3"
  },
  "language_info": {
   "codemirror_mode": {
    "name": "ipython",
    "version": 3
   },
   "file_extension": ".py",
   "mimetype": "text/x-python",
   "name": "python",
   "nbconvert_exporter": "python",
   "pygments_lexer": "ipython3",
   "version": "3.8.5"
  }
 },
 "nbformat": 4,
 "nbformat_minor": 4
}
